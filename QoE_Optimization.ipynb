{
  "nbformat": 4,
  "nbformat_minor": 0,
  "metadata": {
    "colab": {
      "provenance": []
    },
    "kernelspec": {
      "name": "python3",
      "display_name": "Python 3"
    },
    "language_info": {
      "name": "python"
    }
  },
  "cells": [
    {
      "cell_type": "code",
      "execution_count": null,
      "metadata": {
        "colab": {
          "base_uri": "https://localhost:8080/"
        },
        "id": "f_tmYtt724-o",
        "outputId": "5af9f71a-1622-492b-819b-94ffded19506"
      },
      "outputs": [
        {
          "output_type": "stream",
          "name": "stdout",
          "text": [
            "Mounted at /content/drive\n"
          ]
        }
      ],
      "source": [
        "from google.colab import drive\n",
        "drive.mount('/content/drive')"
      ]
    },
    {
      "cell_type": "code",
      "source": [
        "import pandas as pd\n",
        "\n",
        "df =pd.read_csv(\"drive/My Drive/pokemon.csv\")\n",
        "df.shape"
      ],
      "metadata": {
        "id": "_4VZPhU83hgm",
        "colab": {
          "base_uri": "https://localhost:8080/"
        },
        "outputId": "88afed86-9928-4d73-dd71-5d5c719bd1b3"
      },
      "execution_count": null,
      "outputs": [
        {
          "output_type": "execute_result",
          "data": {
            "text/plain": [
              "(1543, 23)"
            ]
          },
          "metadata": {},
          "execution_count": 2
        }
      ]
    },
    {
      "cell_type": "code",
      "source": [
        "df.columns"
      ],
      "metadata": {
        "id": "PU1OlE6S3hj2",
        "colab": {
          "base_uri": "https://localhost:8080/"
        },
        "outputId": "41052d6b-19fc-4490-be8b-85b0d9914caa"
      },
      "execution_count": null,
      "outputs": [
        {
          "output_type": "execute_result",
          "data": {
            "text/plain": [
              "Index(['id', 'user_id', 'QoA_VLCresolution', 'QoA_VLCbitrate',\n",
              "       'QoA_VLCframerate', 'QoA_VLCdropped', 'QoA_VLCaudiorate',\n",
              "       'QoA_VLCaudioloss', 'QoA_BUFFERINGcount', 'QoA_BUFFERINGtime',\n",
              "       'QoS_type', 'QoS_operator', 'QoD_model', 'QoD_os-version',\n",
              "       'QoD_api-level', 'QoU_sex', 'QoU_age', 'QoU_Ustedy', 'QoF_begin',\n",
              "       'QoF_shift', 'QoF_audio', 'QoF_video', 'MOS'],\n",
              "      dtype='object')"
            ]
          },
          "metadata": {},
          "execution_count": 3
        }
      ]
    },
    {
      "cell_type": "code",
      "source": [
        "'''\n",
        "Each variable belongs to a category of QoE Influence Factors (QoE IFs) that consists:\n",
        "Video parameters from VLC video player (QoA) (3 to 10)\n",
        "Network information (QoS) (11 to 12)\n",
        "Device characteristics (QoD)(13 to 15)\n",
        "User's profil (QoU) (16 to 18)\n",
        "User feedback (QoF)(19 to 22)\n",
        "\n",
        "--> Number of Instances :\n",
        "-class 1 (MOS = 1): 92\n",
        "-class 2 (MOS = 2): 119\n",
        "-class 3 (MOS = 3): 244\n",
        "-class 4 (MOS = 4): 787\n",
        "-class 5 (MOS = 5): 300\n",
        "--------------------------\n",
        "10st (Ntype) attribute is class identifier for the used network type in the assessment: [1 BEING OLDER NETWORK TECH.]\n",
        "• 1 : EDGE\n",
        "• 2 : UMTS\n",
        "• 3 : HSPA\n",
        "• 4 : HSPAP\n",
        "• 5 : LTE\n",
        "\n",
        "11st (Noperator) attribute is class identifier for the network operator in France:  [DIFFERENT NETWORK PROVIDERS IN FRANCE.]\n",
        "• 1 : SFR\n",
        "• 2 : BOUYEGUES\n",
        "• 3 : ORANGE\n",
        "• 4 : FREE\n",
        "\n",
        "14st (QoU_sex) User's gender.\n",
        "• 0 -> Woman\n",
        "• 1 -> man\n",
        "\n",
        "15st (QoU_study) High user's level study\n",
        "• 5 -> University\n",
        "• 4 -> Secondary school\n",
        "• 3 -> College\n",
        "• 2 -> Premary school\n",
        "• 1 -> Other\n",
        "\n",
        "19st (MOS) Mean Opinion Scroe that a tester will give at the end of each video view. [1 BEING BAD 5 BEING EXCELLENT.]\n",
        "• 5 -> Excellent\n",
        "• 4 -> Good\n",
        "• 3 -> Fair\n",
        "• 2 -> Poor\n",
        "• 1 -> Bad\n",
        "'''"
      ],
      "metadata": {
        "id": "k3Kpc44D3hnV",
        "colab": {
          "base_uri": "https://localhost:8080/",
          "height": 122
        },
        "outputId": "5cc6791a-42f3-43b1-ff43-b264733c6460"
      },
      "execution_count": null,
      "outputs": [
        {
          "output_type": "execute_result",
          "data": {
            "text/plain": [
              "\"\\nEach variable belongs to a category of QoE Influence Factors (QoE IFs) that consists:\\nVideo parameters from VLC video player (QoA) (3 to 10)\\nNetwork information (QoS) (11 to 12)\\nDevice characteristics (QoD)(13 to 15)\\nUser's profil (QoU) (16 to 18)\\nUser feedback (QoF)(19 to 22)\\n\\n--> Number of Instances :\\n-class 1 (MOS = 1): 92\\n-class 2 (MOS = 2): 119\\n-class 3 (MOS = 3): 244\\n-class 4 (MOS = 4): 787\\n-class 5 (MOS = 5): 300\\n--------------------------\\n10st (Ntype) attribute is class identifier for the used network type in the assessment: [1 BEING OLDER NETWORK TECH.]\\n• 1 : EDGE\\n• 2 : UMTS\\n• 3 : HSPA\\n• 4 : HSPAP\\n• 5 : LTE\\n\\n11st (Noperator) attribute is class identifier for the network operator in France:  [DIFFERENT NETWORK PROVIDERS IN FRANCE.]\\n• 1 : SFR\\n• 2 : BOUYEGUES\\n• 3 : ORANGE\\n• 4 : FREE\\n\\n14st (QoU_sex) User's gender.\\n• 0 -> Woman\\n• 1 -> man\\n\\n15st (QoU_study) High user's level study\\n• 5 -> University\\n• 4 -> Secondary school\\n• 3 -> College\\n• 2 -> Premary school\\n• 1 -> Other\\n\\n19st (MOS) Mean Opinion Scroe that a tester will give at the end of each video view. [1 BEING BAD 5 BEING EXCELLENT.]\\n• 5 -> Excellent\\n• 4 -> Good\\n• 3 -> Fair\\n• 2 -> Poor\\n• 1 -> Bad\\n\""
            ],
            "application/vnd.google.colaboratory.intrinsic+json": {
              "type": "string"
            }
          },
          "metadata": {},
          "execution_count": 4
        }
      ]
    },
    {
      "cell_type": "code",
      "source": [
        "df.head()"
      ],
      "metadata": {
        "id": "KdNSP2aj3qlv",
        "colab": {
          "base_uri": "https://localhost:8080/",
          "height": 317
        },
        "outputId": "0f818f59-7d30-47c5-a8ff-fa257148c8f7"
      },
      "execution_count": null,
      "outputs": [
        {
          "output_type": "execute_result",
          "data": {
            "text/plain": [
              "     id  user_id  QoA_VLCresolution  QoA_VLCbitrate  QoA_VLCframerate  \\\n",
              "0   590       71                360       528.39294         24.950000   \n",
              "1   428       46                360       402.64664         30.066667   \n",
              "2   406       44                360       735.84070         24.200000   \n",
              "3  1256      133                240       529.48830         24.116667   \n",
              "4   244       22                360       736.00085         24.066667   \n",
              "\n",
              "   QoA_VLCdropped  QoA_VLCaudiorate  QoA_VLCaudioloss  QoA_BUFFERINGcount  \\\n",
              "0               0         43.800000                 0                   2   \n",
              "1               0         44.200000                 0                   2   \n",
              "2               0         44.183333                 0                   2   \n",
              "3               9         43.850000                 0                   2   \n",
              "4               0         43.850000                 0                   2   \n",
              "\n",
              "   QoA_BUFFERINGtime  ...       QoD_os-version  QoD_api-level QoU_sex QoU_age  \\\n",
              "0                683  ...     4.1.1(122573.16)             16       1      20   \n",
              "1                690  ...  4.4.2(I9195XXUCNK1)             19       1      25   \n",
              "2                840  ...   4.1.2(I9300XXELL4)             16       1      22   \n",
              "3                868  ...        4.4.4(suv3Rw)             19       1      31   \n",
              "4                869  ...   4.1.2(I9300XXELL4)             16       0      26   \n",
              "\n",
              "   QoU_Ustedy  QoF_begin  QoF_shift  QoF_audio  QoF_video  MOS  \n",
              "0           5          3          5          3          4    3  \n",
              "1           5          4          5          5          5    5  \n",
              "2           5          3          5          4          4    4  \n",
              "3           5          4          5          5          5    5  \n",
              "4           5          5          5          4          5    5  \n",
              "\n",
              "[5 rows x 23 columns]"
            ],
            "text/html": [
              "\n",
              "\n",
              "  <div id=\"df-1ce561fe-2565-48d6-b22e-76c456e59912\">\n",
              "    <div class=\"colab-df-container\">\n",
              "      <div>\n",
              "<style scoped>\n",
              "    .dataframe tbody tr th:only-of-type {\n",
              "        vertical-align: middle;\n",
              "    }\n",
              "\n",
              "    .dataframe tbody tr th {\n",
              "        vertical-align: top;\n",
              "    }\n",
              "\n",
              "    .dataframe thead th {\n",
              "        text-align: right;\n",
              "    }\n",
              "</style>\n",
              "<table border=\"1\" class=\"dataframe\">\n",
              "  <thead>\n",
              "    <tr style=\"text-align: right;\">\n",
              "      <th></th>\n",
              "      <th>id</th>\n",
              "      <th>user_id</th>\n",
              "      <th>QoA_VLCresolution</th>\n",
              "      <th>QoA_VLCbitrate</th>\n",
              "      <th>QoA_VLCframerate</th>\n",
              "      <th>QoA_VLCdropped</th>\n",
              "      <th>QoA_VLCaudiorate</th>\n",
              "      <th>QoA_VLCaudioloss</th>\n",
              "      <th>QoA_BUFFERINGcount</th>\n",
              "      <th>QoA_BUFFERINGtime</th>\n",
              "      <th>...</th>\n",
              "      <th>QoD_os-version</th>\n",
              "      <th>QoD_api-level</th>\n",
              "      <th>QoU_sex</th>\n",
              "      <th>QoU_age</th>\n",
              "      <th>QoU_Ustedy</th>\n",
              "      <th>QoF_begin</th>\n",
              "      <th>QoF_shift</th>\n",
              "      <th>QoF_audio</th>\n",
              "      <th>QoF_video</th>\n",
              "      <th>MOS</th>\n",
              "    </tr>\n",
              "  </thead>\n",
              "  <tbody>\n",
              "    <tr>\n",
              "      <th>0</th>\n",
              "      <td>590</td>\n",
              "      <td>71</td>\n",
              "      <td>360</td>\n",
              "      <td>528.39294</td>\n",
              "      <td>24.950000</td>\n",
              "      <td>0</td>\n",
              "      <td>43.800000</td>\n",
              "      <td>0</td>\n",
              "      <td>2</td>\n",
              "      <td>683</td>\n",
              "      <td>...</td>\n",
              "      <td>4.1.1(122573.16)</td>\n",
              "      <td>16</td>\n",
              "      <td>1</td>\n",
              "      <td>20</td>\n",
              "      <td>5</td>\n",
              "      <td>3</td>\n",
              "      <td>5</td>\n",
              "      <td>3</td>\n",
              "      <td>4</td>\n",
              "      <td>3</td>\n",
              "    </tr>\n",
              "    <tr>\n",
              "      <th>1</th>\n",
              "      <td>428</td>\n",
              "      <td>46</td>\n",
              "      <td>360</td>\n",
              "      <td>402.64664</td>\n",
              "      <td>30.066667</td>\n",
              "      <td>0</td>\n",
              "      <td>44.200000</td>\n",
              "      <td>0</td>\n",
              "      <td>2</td>\n",
              "      <td>690</td>\n",
              "      <td>...</td>\n",
              "      <td>4.4.2(I9195XXUCNK1)</td>\n",
              "      <td>19</td>\n",
              "      <td>1</td>\n",
              "      <td>25</td>\n",
              "      <td>5</td>\n",
              "      <td>4</td>\n",
              "      <td>5</td>\n",
              "      <td>5</td>\n",
              "      <td>5</td>\n",
              "      <td>5</td>\n",
              "    </tr>\n",
              "    <tr>\n",
              "      <th>2</th>\n",
              "      <td>406</td>\n",
              "      <td>44</td>\n",
              "      <td>360</td>\n",
              "      <td>735.84070</td>\n",
              "      <td>24.200000</td>\n",
              "      <td>0</td>\n",
              "      <td>44.183333</td>\n",
              "      <td>0</td>\n",
              "      <td>2</td>\n",
              "      <td>840</td>\n",
              "      <td>...</td>\n",
              "      <td>4.1.2(I9300XXELL4)</td>\n",
              "      <td>16</td>\n",
              "      <td>1</td>\n",
              "      <td>22</td>\n",
              "      <td>5</td>\n",
              "      <td>3</td>\n",
              "      <td>5</td>\n",
              "      <td>4</td>\n",
              "      <td>4</td>\n",
              "      <td>4</td>\n",
              "    </tr>\n",
              "    <tr>\n",
              "      <th>3</th>\n",
              "      <td>1256</td>\n",
              "      <td>133</td>\n",
              "      <td>240</td>\n",
              "      <td>529.48830</td>\n",
              "      <td>24.116667</td>\n",
              "      <td>9</td>\n",
              "      <td>43.850000</td>\n",
              "      <td>0</td>\n",
              "      <td>2</td>\n",
              "      <td>868</td>\n",
              "      <td>...</td>\n",
              "      <td>4.4.4(suv3Rw)</td>\n",
              "      <td>19</td>\n",
              "      <td>1</td>\n",
              "      <td>31</td>\n",
              "      <td>5</td>\n",
              "      <td>4</td>\n",
              "      <td>5</td>\n",
              "      <td>5</td>\n",
              "      <td>5</td>\n",
              "      <td>5</td>\n",
              "    </tr>\n",
              "    <tr>\n",
              "      <th>4</th>\n",
              "      <td>244</td>\n",
              "      <td>22</td>\n",
              "      <td>360</td>\n",
              "      <td>736.00085</td>\n",
              "      <td>24.066667</td>\n",
              "      <td>0</td>\n",
              "      <td>43.850000</td>\n",
              "      <td>0</td>\n",
              "      <td>2</td>\n",
              "      <td>869</td>\n",
              "      <td>...</td>\n",
              "      <td>4.1.2(I9300XXELL4)</td>\n",
              "      <td>16</td>\n",
              "      <td>0</td>\n",
              "      <td>26</td>\n",
              "      <td>5</td>\n",
              "      <td>5</td>\n",
              "      <td>5</td>\n",
              "      <td>4</td>\n",
              "      <td>5</td>\n",
              "      <td>5</td>\n",
              "    </tr>\n",
              "  </tbody>\n",
              "</table>\n",
              "<p>5 rows × 23 columns</p>\n",
              "</div>\n",
              "      <button class=\"colab-df-convert\" onclick=\"convertToInteractive('df-1ce561fe-2565-48d6-b22e-76c456e59912')\"\n",
              "              title=\"Convert this dataframe to an interactive table.\"\n",
              "              style=\"display:none;\">\n",
              "\n",
              "  <svg xmlns=\"http://www.w3.org/2000/svg\" height=\"24px\"viewBox=\"0 0 24 24\"\n",
              "       width=\"24px\">\n",
              "    <path d=\"M0 0h24v24H0V0z\" fill=\"none\"/>\n",
              "    <path d=\"M18.56 5.44l.94 2.06.94-2.06 2.06-.94-2.06-.94-.94-2.06-.94 2.06-2.06.94zm-11 1L8.5 8.5l.94-2.06 2.06-.94-2.06-.94L8.5 2.5l-.94 2.06-2.06.94zm10 10l.94 2.06.94-2.06 2.06-.94-2.06-.94-.94-2.06-.94 2.06-2.06.94z\"/><path d=\"M17.41 7.96l-1.37-1.37c-.4-.4-.92-.59-1.43-.59-.52 0-1.04.2-1.43.59L10.3 9.45l-7.72 7.72c-.78.78-.78 2.05 0 2.83L4 21.41c.39.39.9.59 1.41.59.51 0 1.02-.2 1.41-.59l7.78-7.78 2.81-2.81c.8-.78.8-2.07 0-2.86zM5.41 20L4 18.59l7.72-7.72 1.47 1.35L5.41 20z\"/>\n",
              "  </svg>\n",
              "      </button>\n",
              "\n",
              "\n",
              "\n",
              "    <div id=\"df-7d77889e-d332-4de4-bf6b-cd597d75f4c8\">\n",
              "      <button class=\"colab-df-quickchart\" onclick=\"quickchart('df-7d77889e-d332-4de4-bf6b-cd597d75f4c8')\"\n",
              "              title=\"Suggest charts.\"\n",
              "              style=\"display:none;\">\n",
              "\n",
              "<svg xmlns=\"http://www.w3.org/2000/svg\" height=\"24px\"viewBox=\"0 0 24 24\"\n",
              "     width=\"24px\">\n",
              "    <g>\n",
              "        <path d=\"M19 3H5c-1.1 0-2 .9-2 2v14c0 1.1.9 2 2 2h14c1.1 0 2-.9 2-2V5c0-1.1-.9-2-2-2zM9 17H7v-7h2v7zm4 0h-2V7h2v10zm4 0h-2v-4h2v4z\"/>\n",
              "    </g>\n",
              "</svg>\n",
              "      </button>\n",
              "    </div>\n",
              "\n",
              "<style>\n",
              "  .colab-df-quickchart {\n",
              "    background-color: #E8F0FE;\n",
              "    border: none;\n",
              "    border-radius: 50%;\n",
              "    cursor: pointer;\n",
              "    display: none;\n",
              "    fill: #1967D2;\n",
              "    height: 32px;\n",
              "    padding: 0 0 0 0;\n",
              "    width: 32px;\n",
              "  }\n",
              "\n",
              "  .colab-df-quickchart:hover {\n",
              "    background-color: #E2EBFA;\n",
              "    box-shadow: 0px 1px 2px rgba(60, 64, 67, 0.3), 0px 1px 3px 1px rgba(60, 64, 67, 0.15);\n",
              "    fill: #174EA6;\n",
              "  }\n",
              "\n",
              "  [theme=dark] .colab-df-quickchart {\n",
              "    background-color: #3B4455;\n",
              "    fill: #D2E3FC;\n",
              "  }\n",
              "\n",
              "  [theme=dark] .colab-df-quickchart:hover {\n",
              "    background-color: #434B5C;\n",
              "    box-shadow: 0px 1px 3px 1px rgba(0, 0, 0, 0.15);\n",
              "    filter: drop-shadow(0px 1px 2px rgba(0, 0, 0, 0.3));\n",
              "    fill: #FFFFFF;\n",
              "  }\n",
              "</style>\n",
              "\n",
              "    <script>\n",
              "      async function quickchart(key) {\n",
              "        const containerElement = document.querySelector('#' + key);\n",
              "        const charts = await google.colab.kernel.invokeFunction(\n",
              "            'suggestCharts', [key], {});\n",
              "      }\n",
              "    </script>\n",
              "\n",
              "      <script>\n",
              "\n",
              "function displayQuickchartButton(domScope) {\n",
              "  let quickchartButtonEl =\n",
              "    domScope.querySelector('#df-7d77889e-d332-4de4-bf6b-cd597d75f4c8 button.colab-df-quickchart');\n",
              "  quickchartButtonEl.style.display =\n",
              "    google.colab.kernel.accessAllowed ? 'block' : 'none';\n",
              "}\n",
              "\n",
              "        displayQuickchartButton(document);\n",
              "      </script>\n",
              "      <style>\n",
              "    .colab-df-container {\n",
              "      display:flex;\n",
              "      flex-wrap:wrap;\n",
              "      gap: 12px;\n",
              "    }\n",
              "\n",
              "    .colab-df-convert {\n",
              "      background-color: #E8F0FE;\n",
              "      border: none;\n",
              "      border-radius: 50%;\n",
              "      cursor: pointer;\n",
              "      display: none;\n",
              "      fill: #1967D2;\n",
              "      height: 32px;\n",
              "      padding: 0 0 0 0;\n",
              "      width: 32px;\n",
              "    }\n",
              "\n",
              "    .colab-df-convert:hover {\n",
              "      background-color: #E2EBFA;\n",
              "      box-shadow: 0px 1px 2px rgba(60, 64, 67, 0.3), 0px 1px 3px 1px rgba(60, 64, 67, 0.15);\n",
              "      fill: #174EA6;\n",
              "    }\n",
              "\n",
              "    [theme=dark] .colab-df-convert {\n",
              "      background-color: #3B4455;\n",
              "      fill: #D2E3FC;\n",
              "    }\n",
              "\n",
              "    [theme=dark] .colab-df-convert:hover {\n",
              "      background-color: #434B5C;\n",
              "      box-shadow: 0px 1px 3px 1px rgba(0, 0, 0, 0.15);\n",
              "      filter: drop-shadow(0px 1px 2px rgba(0, 0, 0, 0.3));\n",
              "      fill: #FFFFFF;\n",
              "    }\n",
              "  </style>\n",
              "\n",
              "      <script>\n",
              "        const buttonEl =\n",
              "          document.querySelector('#df-1ce561fe-2565-48d6-b22e-76c456e59912 button.colab-df-convert');\n",
              "        buttonEl.style.display =\n",
              "          google.colab.kernel.accessAllowed ? 'block' : 'none';\n",
              "\n",
              "        async function convertToInteractive(key) {\n",
              "          const element = document.querySelector('#df-1ce561fe-2565-48d6-b22e-76c456e59912');\n",
              "          const dataTable =\n",
              "            await google.colab.kernel.invokeFunction('convertToInteractive',\n",
              "                                                     [key], {});\n",
              "          if (!dataTable) return;\n",
              "\n",
              "          const docLinkHtml = 'Like what you see? Visit the ' +\n",
              "            '<a target=\"_blank\" href=https://colab.research.google.com/notebooks/data_table.ipynb>data table notebook</a>'\n",
              "            + ' to learn more about interactive tables.';\n",
              "          element.innerHTML = '';\n",
              "          dataTable['output_type'] = 'display_data';\n",
              "          await google.colab.output.renderOutput(dataTable, element);\n",
              "          const docLink = document.createElement('div');\n",
              "          docLink.innerHTML = docLinkHtml;\n",
              "          element.appendChild(docLink);\n",
              "        }\n",
              "      </script>\n",
              "    </div>\n",
              "  </div>\n"
            ]
          },
          "metadata": {},
          "execution_count": 5
        }
      ]
    },
    {
      "cell_type": "code",
      "source": [
        "df.shape"
      ],
      "metadata": {
        "colab": {
          "base_uri": "https://localhost:8080/"
        },
        "id": "Bk29556YnsoS",
        "outputId": "2bdd2750-3535-408b-aece-4a370fa13657"
      },
      "execution_count": null,
      "outputs": [
        {
          "output_type": "execute_result",
          "data": {
            "text/plain": [
              "(1543, 23)"
            ]
          },
          "metadata": {},
          "execution_count": 6
        }
      ]
    },
    {
      "cell_type": "code",
      "source": [
        "dups = df.duplicated()\n",
        "df[dups]"
      ],
      "metadata": {
        "id": "LRWwC91VHNAo",
        "colab": {
          "base_uri": "https://localhost:8080/",
          "height": 160
        },
        "outputId": "66be131b-c887-419c-f057-27a1c62ea1b7"
      },
      "execution_count": null,
      "outputs": [
        {
          "output_type": "execute_result",
          "data": {
            "text/plain": [
              "Empty DataFrame\n",
              "Columns: [id, user_id, QoA_VLCresolution, QoA_VLCbitrate, QoA_VLCframerate, QoA_VLCdropped, QoA_VLCaudiorate, QoA_VLCaudioloss, QoA_BUFFERINGcount, QoA_BUFFERINGtime, QoS_type, QoS_operator, QoD_model, QoD_os-version, QoD_api-level, QoU_sex, QoU_age, QoU_Ustedy, QoF_begin, QoF_shift, QoF_audio, QoF_video, MOS]\n",
              "Index: []\n",
              "\n",
              "[0 rows x 23 columns]"
            ],
            "text/html": [
              "\n",
              "\n",
              "  <div id=\"df-a083156a-df5e-436c-bcf1-17d98d4e06f2\">\n",
              "    <div class=\"colab-df-container\">\n",
              "      <div>\n",
              "<style scoped>\n",
              "    .dataframe tbody tr th:only-of-type {\n",
              "        vertical-align: middle;\n",
              "    }\n",
              "\n",
              "    .dataframe tbody tr th {\n",
              "        vertical-align: top;\n",
              "    }\n",
              "\n",
              "    .dataframe thead th {\n",
              "        text-align: right;\n",
              "    }\n",
              "</style>\n",
              "<table border=\"1\" class=\"dataframe\">\n",
              "  <thead>\n",
              "    <tr style=\"text-align: right;\">\n",
              "      <th></th>\n",
              "      <th>id</th>\n",
              "      <th>user_id</th>\n",
              "      <th>QoA_VLCresolution</th>\n",
              "      <th>QoA_VLCbitrate</th>\n",
              "      <th>QoA_VLCframerate</th>\n",
              "      <th>QoA_VLCdropped</th>\n",
              "      <th>QoA_VLCaudiorate</th>\n",
              "      <th>QoA_VLCaudioloss</th>\n",
              "      <th>QoA_BUFFERINGcount</th>\n",
              "      <th>QoA_BUFFERINGtime</th>\n",
              "      <th>...</th>\n",
              "      <th>QoD_os-version</th>\n",
              "      <th>QoD_api-level</th>\n",
              "      <th>QoU_sex</th>\n",
              "      <th>QoU_age</th>\n",
              "      <th>QoU_Ustedy</th>\n",
              "      <th>QoF_begin</th>\n",
              "      <th>QoF_shift</th>\n",
              "      <th>QoF_audio</th>\n",
              "      <th>QoF_video</th>\n",
              "      <th>MOS</th>\n",
              "    </tr>\n",
              "  </thead>\n",
              "  <tbody>\n",
              "  </tbody>\n",
              "</table>\n",
              "<p>0 rows × 23 columns</p>\n",
              "</div>\n",
              "      <button class=\"colab-df-convert\" onclick=\"convertToInteractive('df-a083156a-df5e-436c-bcf1-17d98d4e06f2')\"\n",
              "              title=\"Convert this dataframe to an interactive table.\"\n",
              "              style=\"display:none;\">\n",
              "\n",
              "  <svg xmlns=\"http://www.w3.org/2000/svg\" height=\"24px\"viewBox=\"0 0 24 24\"\n",
              "       width=\"24px\">\n",
              "    <path d=\"M0 0h24v24H0V0z\" fill=\"none\"/>\n",
              "    <path d=\"M18.56 5.44l.94 2.06.94-2.06 2.06-.94-2.06-.94-.94-2.06-.94 2.06-2.06.94zm-11 1L8.5 8.5l.94-2.06 2.06-.94-2.06-.94L8.5 2.5l-.94 2.06-2.06.94zm10 10l.94 2.06.94-2.06 2.06-.94-2.06-.94-.94-2.06-.94 2.06-2.06.94z\"/><path d=\"M17.41 7.96l-1.37-1.37c-.4-.4-.92-.59-1.43-.59-.52 0-1.04.2-1.43.59L10.3 9.45l-7.72 7.72c-.78.78-.78 2.05 0 2.83L4 21.41c.39.39.9.59 1.41.59.51 0 1.02-.2 1.41-.59l7.78-7.78 2.81-2.81c.8-.78.8-2.07 0-2.86zM5.41 20L4 18.59l7.72-7.72 1.47 1.35L5.41 20z\"/>\n",
              "  </svg>\n",
              "      </button>\n",
              "\n",
              "\n",
              "\n",
              "    <div id=\"df-c7f35bb7-fea9-4f8f-a75a-ce558da52621\">\n",
              "      <button class=\"colab-df-quickchart\" onclick=\"quickchart('df-c7f35bb7-fea9-4f8f-a75a-ce558da52621')\"\n",
              "              title=\"Suggest charts.\"\n",
              "              style=\"display:none;\">\n",
              "\n",
              "<svg xmlns=\"http://www.w3.org/2000/svg\" height=\"24px\"viewBox=\"0 0 24 24\"\n",
              "     width=\"24px\">\n",
              "    <g>\n",
              "        <path d=\"M19 3H5c-1.1 0-2 .9-2 2v14c0 1.1.9 2 2 2h14c1.1 0 2-.9 2-2V5c0-1.1-.9-2-2-2zM9 17H7v-7h2v7zm4 0h-2V7h2v10zm4 0h-2v-4h2v4z\"/>\n",
              "    </g>\n",
              "</svg>\n",
              "      </button>\n",
              "    </div>\n",
              "\n",
              "<style>\n",
              "  .colab-df-quickchart {\n",
              "    background-color: #E8F0FE;\n",
              "    border: none;\n",
              "    border-radius: 50%;\n",
              "    cursor: pointer;\n",
              "    display: none;\n",
              "    fill: #1967D2;\n",
              "    height: 32px;\n",
              "    padding: 0 0 0 0;\n",
              "    width: 32px;\n",
              "  }\n",
              "\n",
              "  .colab-df-quickchart:hover {\n",
              "    background-color: #E2EBFA;\n",
              "    box-shadow: 0px 1px 2px rgba(60, 64, 67, 0.3), 0px 1px 3px 1px rgba(60, 64, 67, 0.15);\n",
              "    fill: #174EA6;\n",
              "  }\n",
              "\n",
              "  [theme=dark] .colab-df-quickchart {\n",
              "    background-color: #3B4455;\n",
              "    fill: #D2E3FC;\n",
              "  }\n",
              "\n",
              "  [theme=dark] .colab-df-quickchart:hover {\n",
              "    background-color: #434B5C;\n",
              "    box-shadow: 0px 1px 3px 1px rgba(0, 0, 0, 0.15);\n",
              "    filter: drop-shadow(0px 1px 2px rgba(0, 0, 0, 0.3));\n",
              "    fill: #FFFFFF;\n",
              "  }\n",
              "</style>\n",
              "\n",
              "    <script>\n",
              "      async function quickchart(key) {\n",
              "        const containerElement = document.querySelector('#' + key);\n",
              "        const charts = await google.colab.kernel.invokeFunction(\n",
              "            'suggestCharts', [key], {});\n",
              "      }\n",
              "    </script>\n",
              "\n",
              "      <script>\n",
              "\n",
              "function displayQuickchartButton(domScope) {\n",
              "  let quickchartButtonEl =\n",
              "    domScope.querySelector('#df-c7f35bb7-fea9-4f8f-a75a-ce558da52621 button.colab-df-quickchart');\n",
              "  quickchartButtonEl.style.display =\n",
              "    google.colab.kernel.accessAllowed ? 'block' : 'none';\n",
              "}\n",
              "\n",
              "        displayQuickchartButton(document);\n",
              "      </script>\n",
              "      <style>\n",
              "    .colab-df-container {\n",
              "      display:flex;\n",
              "      flex-wrap:wrap;\n",
              "      gap: 12px;\n",
              "    }\n",
              "\n",
              "    .colab-df-convert {\n",
              "      background-color: #E8F0FE;\n",
              "      border: none;\n",
              "      border-radius: 50%;\n",
              "      cursor: pointer;\n",
              "      display: none;\n",
              "      fill: #1967D2;\n",
              "      height: 32px;\n",
              "      padding: 0 0 0 0;\n",
              "      width: 32px;\n",
              "    }\n",
              "\n",
              "    .colab-df-convert:hover {\n",
              "      background-color: #E2EBFA;\n",
              "      box-shadow: 0px 1px 2px rgba(60, 64, 67, 0.3), 0px 1px 3px 1px rgba(60, 64, 67, 0.15);\n",
              "      fill: #174EA6;\n",
              "    }\n",
              "\n",
              "    [theme=dark] .colab-df-convert {\n",
              "      background-color: #3B4455;\n",
              "      fill: #D2E3FC;\n",
              "    }\n",
              "\n",
              "    [theme=dark] .colab-df-convert:hover {\n",
              "      background-color: #434B5C;\n",
              "      box-shadow: 0px 1px 3px 1px rgba(0, 0, 0, 0.15);\n",
              "      filter: drop-shadow(0px 1px 2px rgba(0, 0, 0, 0.3));\n",
              "      fill: #FFFFFF;\n",
              "    }\n",
              "  </style>\n",
              "\n",
              "      <script>\n",
              "        const buttonEl =\n",
              "          document.querySelector('#df-a083156a-df5e-436c-bcf1-17d98d4e06f2 button.colab-df-convert');\n",
              "        buttonEl.style.display =\n",
              "          google.colab.kernel.accessAllowed ? 'block' : 'none';\n",
              "\n",
              "        async function convertToInteractive(key) {\n",
              "          const element = document.querySelector('#df-a083156a-df5e-436c-bcf1-17d98d4e06f2');\n",
              "          const dataTable =\n",
              "            await google.colab.kernel.invokeFunction('convertToInteractive',\n",
              "                                                     [key], {});\n",
              "          if (!dataTable) return;\n",
              "\n",
              "          const docLinkHtml = 'Like what you see? Visit the ' +\n",
              "            '<a target=\"_blank\" href=https://colab.research.google.com/notebooks/data_table.ipynb>data table notebook</a>'\n",
              "            + ' to learn more about interactive tables.';\n",
              "          element.innerHTML = '';\n",
              "          dataTable['output_type'] = 'display_data';\n",
              "          await google.colab.output.renderOutput(dataTable, element);\n",
              "          const docLink = document.createElement('div');\n",
              "          docLink.innerHTML = docLinkHtml;\n",
              "          element.appendChild(docLink);\n",
              "        }\n",
              "      </script>\n",
              "    </div>\n",
              "  </div>\n"
            ]
          },
          "metadata": {},
          "execution_count": 7
        }
      ]
    },
    {
      "cell_type": "code",
      "source": [
        "df.isnull().sum()"
      ],
      "metadata": {
        "colab": {
          "base_uri": "https://localhost:8080/"
        },
        "id": "D6Ux9_KromZA",
        "outputId": "ebdd033d-7b42-487d-8216-b032689d7892"
      },
      "execution_count": null,
      "outputs": [
        {
          "output_type": "execute_result",
          "data": {
            "text/plain": [
              "id                    0\n",
              "user_id               0\n",
              "QoA_VLCresolution     0\n",
              "QoA_VLCbitrate        0\n",
              "QoA_VLCframerate      0\n",
              "QoA_VLCdropped        0\n",
              "QoA_VLCaudiorate      0\n",
              "QoA_VLCaudioloss      0\n",
              "QoA_BUFFERINGcount    0\n",
              "QoA_BUFFERINGtime     0\n",
              "QoS_type              0\n",
              "QoS_operator          0\n",
              "QoD_model             0\n",
              "QoD_os-version        0\n",
              "QoD_api-level         0\n",
              "QoU_sex               0\n",
              "QoU_age               0\n",
              "QoU_Ustedy            0\n",
              "QoF_begin             0\n",
              "QoF_shift             0\n",
              "QoF_audio             0\n",
              "QoF_video             0\n",
              "MOS                   0\n",
              "dtype: int64"
            ]
          },
          "metadata": {},
          "execution_count": 8
        }
      ]
    },
    {
      "cell_type": "code",
      "source": [
        "df.drop(['user_id', 'id'], axis=1, inplace=True)"
      ],
      "metadata": {
        "id": "3uZOPYF6IQBx"
      },
      "execution_count": null,
      "outputs": []
    },
    {
      "cell_type": "code",
      "source": [
        "df.drop_duplicates(keep=False, inplace=True)    #Dups after dropping."
      ],
      "metadata": {
        "id": "_d-p-JNaombL"
      },
      "execution_count": null,
      "outputs": []
    },
    {
      "cell_type": "code",
      "source": [
        "df.shape"
      ],
      "metadata": {
        "colab": {
          "base_uri": "https://localhost:8080/"
        },
        "id": "yBrFblhtomdK",
        "outputId": "8417f19c-0718-40fe-8e5f-7791effa5f61"
      },
      "execution_count": null,
      "outputs": [
        {
          "output_type": "execute_result",
          "data": {
            "text/plain": [
              "(1543, 23)"
            ]
          },
          "metadata": {},
          "execution_count": 10
        }
      ]
    },
    {
      "cell_type": "code",
      "source": [
        "print(df.dtypes)"
      ],
      "metadata": {
        "id": "2iwsTFBN_G2Q",
        "colab": {
          "base_uri": "https://localhost:8080/"
        },
        "outputId": "745a348b-d3f8-4a00-ebb5-7e617b454383"
      },
      "execution_count": null,
      "outputs": [
        {
          "output_type": "stream",
          "name": "stdout",
          "text": [
            "QoA_VLCresolution       int64\n",
            "QoA_VLCbitrate        float64\n",
            "QoA_VLCframerate      float64\n",
            "QoA_VLCdropped          int64\n",
            "QoA_VLCaudiorate      float64\n",
            "QoA_VLCaudioloss        int64\n",
            "QoA_BUFFERINGcount      int64\n",
            "QoA_BUFFERINGtime       int64\n",
            "QoS_type                int64\n",
            "QoS_operator            int64\n",
            "QoD_model              object\n",
            "QoD_os-version         object\n",
            "QoD_api-level           int64\n",
            "QoU_sex                 int64\n",
            "QoU_age                 int64\n",
            "QoU_Ustedy              int64\n",
            "QoF_begin               int64\n",
            "QoF_shift               int64\n",
            "QoF_audio               int64\n",
            "QoF_video               int64\n",
            "MOS                     int64\n",
            "dtype: object\n"
          ]
        }
      ]
    },
    {
      "cell_type": "code",
      "source": [
        "df['QoD_model'].nunique()"
      ],
      "metadata": {
        "id": "XMdphE5fHH3w",
        "colab": {
          "base_uri": "https://localhost:8080/"
        },
        "outputId": "32fa62fd-7e3e-4fed-8bf7-6c585e40416d"
      },
      "execution_count": null,
      "outputs": [
        {
          "output_type": "execute_result",
          "data": {
            "text/plain": [
              "15"
            ]
          },
          "metadata": {},
          "execution_count": 13
        }
      ]
    },
    {
      "cell_type": "code",
      "source": [
        "df['QoD_os-version'].nunique()"
      ],
      "metadata": {
        "id": "JHHxlNnKHH6f",
        "colab": {
          "base_uri": "https://localhost:8080/"
        },
        "outputId": "ad95ecbf-a614-496d-91d8-663d660a65f6"
      },
      "execution_count": null,
      "outputs": [
        {
          "output_type": "execute_result",
          "data": {
            "text/plain": [
              "18"
            ]
          },
          "metadata": {},
          "execution_count": 14
        }
      ]
    },
    {
      "cell_type": "code",
      "source": [
        "de = pd.get_dummies(df, columns = ['QoD_model'])            #one hot encoding\n",
        "de = pd.get_dummies(de, columns = ['QoD_os-version'])\n",
        "print(de.shape)"
      ],
      "metadata": {
        "id": "eEHJwrjlHH9O",
        "colab": {
          "base_uri": "https://localhost:8080/"
        },
        "outputId": "69ec60f2-444e-4ea8-c0b3-442870464c8f"
      },
      "execution_count": null,
      "outputs": [
        {
          "output_type": "stream",
          "name": "stdout",
          "text": [
            "(1543, 52)\n"
          ]
        }
      ]
    },
    {
      "cell_type": "code",
      "source": [
        "print(de.columns)"
      ],
      "metadata": {
        "id": "0s11RfuQH0WW",
        "colab": {
          "base_uri": "https://localhost:8080/"
        },
        "outputId": "69ff09dd-b057-4265-fbb9-9b6264f9e02e"
      },
      "execution_count": null,
      "outputs": [
        {
          "output_type": "stream",
          "name": "stdout",
          "text": [
            "Index(['QoA_VLCresolution', 'QoA_VLCbitrate', 'QoA_VLCframerate',\n",
            "       'QoA_VLCdropped', 'QoA_VLCaudiorate', 'QoA_VLCaudioloss',\n",
            "       'QoA_BUFFERINGcount', 'QoA_BUFFERINGtime', 'QoS_type', 'QoS_operator',\n",
            "       'QoD_api-level', 'QoU_sex', 'QoU_age', 'QoU_Ustedy', 'QoF_begin',\n",
            "       'QoF_shift', 'QoF_audio', 'QoF_video', 'MOS', 'QoD_model_ARCHOS 101G9',\n",
            "       'QoD_model_D5802', 'QoD_model_D5803', 'QoD_model_GT-I9189',\n",
            "       'QoD_model_GT-I9191', 'QoD_model_GT-I9192', 'QoD_model_GT-I9193',\n",
            "       'QoD_model_GT-I9194', 'QoD_model_GT-I9195', 'QoD_model_GT-I9300',\n",
            "       'QoD_model_HTC One X+', 'QoD_model_HTC One_M8', 'QoD_model_Nexus 4',\n",
            "       'QoD_model_SM-G900F', 'QoD_model_SM-N9005',\n",
            "       'QoD_os-version_4.0.4(20130118.175432)',\n",
            "       'QoD_os-version_4.1.1(122573.16)', 'QoD_os-version_4.1.2(I9300XXELL4)',\n",
            "       'QoD_os-version_4.3(I9300XXUGNB5)', 'QoD_os-version_4.3(I9506XXUBML5)',\n",
            "       'QoD_os-version_4.4.2(G900FXXU1ANG2)',\n",
            "       'QoD_os-version_4.4.2(G900FXXU1ANG9)',\n",
            "       'QoD_os-version_4.4.2(G900FXXU1ANJ1)',\n",
            "       'QoD_os-version_4.4.2(I9195XXUCNK1)',\n",
            "       'QoD_os-version_4.4.2(I9195XXUCNK4)',\n",
            "       'QoD_os-version_4.4.2(N9005XXUGNI4)', 'QoD_os-version_4.4.4(suv3Rw)',\n",
            "       'QoD_os-version_5.0(G900FXXU1BOC2)',\n",
            "       'QoD_os-version_5.0(G900FXXU1BOC7)', 'QoD_os-version_5.0.1(1602158)',\n",
            "       'QoD_os-version_5.0.1(457188.4)', 'QoD_os-version_5.1.1(456c49d1b2)',\n",
            "       'QoD_os-version_5.1.1(478106bf5f)'],\n",
            "      dtype='object')\n"
          ]
        }
      ]
    },
    {
      "cell_type": "code",
      "source": [
        "'''      (SAVE TIME)\n",
        "\n",
        "import matplotlib.pyplot as plt\n",
        "import plotly.express as px\n",
        "\n",
        "for col in de.columns:\n",
        "  fig=px.histogram(de,x=col)\n",
        "  fig.show()\n",
        "'''"
      ],
      "metadata": {
        "id": "WvM6nDKO3qr-",
        "colab": {
          "base_uri": "https://localhost:8080/",
          "height": 35
        },
        "outputId": "a7e9dd8b-da3b-445e-8b2d-5de606dc3b5d"
      },
      "execution_count": null,
      "outputs": [
        {
          "output_type": "execute_result",
          "data": {
            "text/plain": [
              "'      (SAVE TIME)\\n\\nimport matplotlib.pyplot as plt\\nimport plotly.express as px\\n\\nfor col in de.columns:\\n  fig=px.histogram(de,x=col)\\n  fig.show()\\n'"
            ],
            "application/vnd.google.colaboratory.intrinsic+json": {
              "type": "string"
            }
          },
          "metadata": {},
          "execution_count": 17
        }
      ]
    },
    {
      "cell_type": "code",
      "source": [
        "'''import matplotlib.pyplot as plt\n",
        "import plotly.express as px\n",
        "\n",
        "for col in de.columns:\n",
        "  fig=px.box(de,y=col)\n",
        "  fig.show()'''"
      ],
      "metadata": {
        "id": "tcE-ix0CJRyx",
        "colab": {
          "base_uri": "https://localhost:8080/",
          "height": 35
        },
        "outputId": "87f9ef17-ad2d-4efe-c761-3635af35d0a8"
      },
      "execution_count": null,
      "outputs": [
        {
          "output_type": "execute_result",
          "data": {
            "text/plain": [
              "'import matplotlib.pyplot as plt\\nimport plotly.express as px\\n\\nfor col in de.columns:\\n  fig=px.box(de,y=col)\\n  fig.show()'"
            ],
            "application/vnd.google.colaboratory.intrinsic+json": {
              "type": "string"
            }
          },
          "metadata": {},
          "execution_count": 18
        }
      ]
    },
    {
      "cell_type": "code",
      "source": [
        "import re\n",
        "de = de.rename(columns = lambda x:re.sub('[^A-Za-z0-9_]+', '', x))\n",
        "de.head()"
      ],
      "metadata": {
        "colab": {
          "base_uri": "https://localhost:8080/",
          "height": 300
        },
        "id": "QPoLdIB4p9Kx",
        "outputId": "a56e2ce8-61da-4478-b79e-5ce4ea8466e8"
      },
      "execution_count": null,
      "outputs": [
        {
          "output_type": "execute_result",
          "data": {
            "text/plain": [
              "   QoA_VLCresolution  QoA_VLCbitrate  QoA_VLCframerate  QoA_VLCdropped  \\\n",
              "0                360       528.39294         24.950000               0   \n",
              "1                360       402.64664         30.066667               0   \n",
              "2                360       735.84070         24.200000               0   \n",
              "3                240       529.48830         24.116667               9   \n",
              "4                360       736.00085         24.066667               0   \n",
              "\n",
              "   QoA_VLCaudiorate  QoA_VLCaudioloss  QoA_BUFFERINGcount  QoA_BUFFERINGtime  \\\n",
              "0         43.800000                 0                   2                683   \n",
              "1         44.200000                 0                   2                690   \n",
              "2         44.183333                 0                   2                840   \n",
              "3         43.850000                 0                   2                868   \n",
              "4         43.850000                 0                   2                869   \n",
              "\n",
              "   QoS_type  QoS_operator  ...  QoD_osversion_442I9195XXUCNK1  \\\n",
              "0         4             2  ...                              0   \n",
              "1         5             4  ...                              1   \n",
              "2         2             2  ...                              0   \n",
              "3         2             2  ...                              0   \n",
              "4         4             4  ...                              0   \n",
              "\n",
              "   QoD_osversion_442I9195XXUCNK4  QoD_osversion_442N9005XXUGNI4  \\\n",
              "0                              0                              0   \n",
              "1                              0                              0   \n",
              "2                              0                              0   \n",
              "3                              0                              0   \n",
              "4                              0                              0   \n",
              "\n",
              "   QoD_osversion_444suv3Rw  QoD_osversion_50G900FXXU1BOC2  \\\n",
              "0                        0                              0   \n",
              "1                        0                              0   \n",
              "2                        0                              0   \n",
              "3                        1                              0   \n",
              "4                        0                              0   \n",
              "\n",
              "   QoD_osversion_50G900FXXU1BOC7  QoD_osversion_5011602158  \\\n",
              "0                              0                         0   \n",
              "1                              0                         0   \n",
              "2                              0                         0   \n",
              "3                              0                         0   \n",
              "4                              0                         0   \n",
              "\n",
              "   QoD_osversion_5014571884  QoD_osversion_511456c49d1b2  \\\n",
              "0                         0                            0   \n",
              "1                         0                            0   \n",
              "2                         0                            0   \n",
              "3                         0                            0   \n",
              "4                         0                            0   \n",
              "\n",
              "   QoD_osversion_511478106bf5f  \n",
              "0                            0  \n",
              "1                            0  \n",
              "2                            0  \n",
              "3                            0  \n",
              "4                            0  \n",
              "\n",
              "[5 rows x 52 columns]"
            ],
            "text/html": [
              "\n",
              "\n",
              "  <div id=\"df-522efb77-edbe-4d0a-b7d6-e4cb0258f0ca\">\n",
              "    <div class=\"colab-df-container\">\n",
              "      <div>\n",
              "<style scoped>\n",
              "    .dataframe tbody tr th:only-of-type {\n",
              "        vertical-align: middle;\n",
              "    }\n",
              "\n",
              "    .dataframe tbody tr th {\n",
              "        vertical-align: top;\n",
              "    }\n",
              "\n",
              "    .dataframe thead th {\n",
              "        text-align: right;\n",
              "    }\n",
              "</style>\n",
              "<table border=\"1\" class=\"dataframe\">\n",
              "  <thead>\n",
              "    <tr style=\"text-align: right;\">\n",
              "      <th></th>\n",
              "      <th>QoA_VLCresolution</th>\n",
              "      <th>QoA_VLCbitrate</th>\n",
              "      <th>QoA_VLCframerate</th>\n",
              "      <th>QoA_VLCdropped</th>\n",
              "      <th>QoA_VLCaudiorate</th>\n",
              "      <th>QoA_VLCaudioloss</th>\n",
              "      <th>QoA_BUFFERINGcount</th>\n",
              "      <th>QoA_BUFFERINGtime</th>\n",
              "      <th>QoS_type</th>\n",
              "      <th>QoS_operator</th>\n",
              "      <th>...</th>\n",
              "      <th>QoD_osversion_442I9195XXUCNK1</th>\n",
              "      <th>QoD_osversion_442I9195XXUCNK4</th>\n",
              "      <th>QoD_osversion_442N9005XXUGNI4</th>\n",
              "      <th>QoD_osversion_444suv3Rw</th>\n",
              "      <th>QoD_osversion_50G900FXXU1BOC2</th>\n",
              "      <th>QoD_osversion_50G900FXXU1BOC7</th>\n",
              "      <th>QoD_osversion_5011602158</th>\n",
              "      <th>QoD_osversion_5014571884</th>\n",
              "      <th>QoD_osversion_511456c49d1b2</th>\n",
              "      <th>QoD_osversion_511478106bf5f</th>\n",
              "    </tr>\n",
              "  </thead>\n",
              "  <tbody>\n",
              "    <tr>\n",
              "      <th>0</th>\n",
              "      <td>360</td>\n",
              "      <td>528.39294</td>\n",
              "      <td>24.950000</td>\n",
              "      <td>0</td>\n",
              "      <td>43.800000</td>\n",
              "      <td>0</td>\n",
              "      <td>2</td>\n",
              "      <td>683</td>\n",
              "      <td>4</td>\n",
              "      <td>2</td>\n",
              "      <td>...</td>\n",
              "      <td>0</td>\n",
              "      <td>0</td>\n",
              "      <td>0</td>\n",
              "      <td>0</td>\n",
              "      <td>0</td>\n",
              "      <td>0</td>\n",
              "      <td>0</td>\n",
              "      <td>0</td>\n",
              "      <td>0</td>\n",
              "      <td>0</td>\n",
              "    </tr>\n",
              "    <tr>\n",
              "      <th>1</th>\n",
              "      <td>360</td>\n",
              "      <td>402.64664</td>\n",
              "      <td>30.066667</td>\n",
              "      <td>0</td>\n",
              "      <td>44.200000</td>\n",
              "      <td>0</td>\n",
              "      <td>2</td>\n",
              "      <td>690</td>\n",
              "      <td>5</td>\n",
              "      <td>4</td>\n",
              "      <td>...</td>\n",
              "      <td>1</td>\n",
              "      <td>0</td>\n",
              "      <td>0</td>\n",
              "      <td>0</td>\n",
              "      <td>0</td>\n",
              "      <td>0</td>\n",
              "      <td>0</td>\n",
              "      <td>0</td>\n",
              "      <td>0</td>\n",
              "      <td>0</td>\n",
              "    </tr>\n",
              "    <tr>\n",
              "      <th>2</th>\n",
              "      <td>360</td>\n",
              "      <td>735.84070</td>\n",
              "      <td>24.200000</td>\n",
              "      <td>0</td>\n",
              "      <td>44.183333</td>\n",
              "      <td>0</td>\n",
              "      <td>2</td>\n",
              "      <td>840</td>\n",
              "      <td>2</td>\n",
              "      <td>2</td>\n",
              "      <td>...</td>\n",
              "      <td>0</td>\n",
              "      <td>0</td>\n",
              "      <td>0</td>\n",
              "      <td>0</td>\n",
              "      <td>0</td>\n",
              "      <td>0</td>\n",
              "      <td>0</td>\n",
              "      <td>0</td>\n",
              "      <td>0</td>\n",
              "      <td>0</td>\n",
              "    </tr>\n",
              "    <tr>\n",
              "      <th>3</th>\n",
              "      <td>240</td>\n",
              "      <td>529.48830</td>\n",
              "      <td>24.116667</td>\n",
              "      <td>9</td>\n",
              "      <td>43.850000</td>\n",
              "      <td>0</td>\n",
              "      <td>2</td>\n",
              "      <td>868</td>\n",
              "      <td>2</td>\n",
              "      <td>2</td>\n",
              "      <td>...</td>\n",
              "      <td>0</td>\n",
              "      <td>0</td>\n",
              "      <td>0</td>\n",
              "      <td>1</td>\n",
              "      <td>0</td>\n",
              "      <td>0</td>\n",
              "      <td>0</td>\n",
              "      <td>0</td>\n",
              "      <td>0</td>\n",
              "      <td>0</td>\n",
              "    </tr>\n",
              "    <tr>\n",
              "      <th>4</th>\n",
              "      <td>360</td>\n",
              "      <td>736.00085</td>\n",
              "      <td>24.066667</td>\n",
              "      <td>0</td>\n",
              "      <td>43.850000</td>\n",
              "      <td>0</td>\n",
              "      <td>2</td>\n",
              "      <td>869</td>\n",
              "      <td>4</td>\n",
              "      <td>4</td>\n",
              "      <td>...</td>\n",
              "      <td>0</td>\n",
              "      <td>0</td>\n",
              "      <td>0</td>\n",
              "      <td>0</td>\n",
              "      <td>0</td>\n",
              "      <td>0</td>\n",
              "      <td>0</td>\n",
              "      <td>0</td>\n",
              "      <td>0</td>\n",
              "      <td>0</td>\n",
              "    </tr>\n",
              "  </tbody>\n",
              "</table>\n",
              "<p>5 rows × 52 columns</p>\n",
              "</div>\n",
              "      <button class=\"colab-df-convert\" onclick=\"convertToInteractive('df-522efb77-edbe-4d0a-b7d6-e4cb0258f0ca')\"\n",
              "              title=\"Convert this dataframe to an interactive table.\"\n",
              "              style=\"display:none;\">\n",
              "\n",
              "  <svg xmlns=\"http://www.w3.org/2000/svg\" height=\"24px\"viewBox=\"0 0 24 24\"\n",
              "       width=\"24px\">\n",
              "    <path d=\"M0 0h24v24H0V0z\" fill=\"none\"/>\n",
              "    <path d=\"M18.56 5.44l.94 2.06.94-2.06 2.06-.94-2.06-.94-.94-2.06-.94 2.06-2.06.94zm-11 1L8.5 8.5l.94-2.06 2.06-.94-2.06-.94L8.5 2.5l-.94 2.06-2.06.94zm10 10l.94 2.06.94-2.06 2.06-.94-2.06-.94-.94-2.06-.94 2.06-2.06.94z\"/><path d=\"M17.41 7.96l-1.37-1.37c-.4-.4-.92-.59-1.43-.59-.52 0-1.04.2-1.43.59L10.3 9.45l-7.72 7.72c-.78.78-.78 2.05 0 2.83L4 21.41c.39.39.9.59 1.41.59.51 0 1.02-.2 1.41-.59l7.78-7.78 2.81-2.81c.8-.78.8-2.07 0-2.86zM5.41 20L4 18.59l7.72-7.72 1.47 1.35L5.41 20z\"/>\n",
              "  </svg>\n",
              "      </button>\n",
              "\n",
              "\n",
              "\n",
              "    <div id=\"df-23770e3c-0821-4d91-a74b-3f0bba5bb4d9\">\n",
              "      <button class=\"colab-df-quickchart\" onclick=\"quickchart('df-23770e3c-0821-4d91-a74b-3f0bba5bb4d9')\"\n",
              "              title=\"Suggest charts.\"\n",
              "              style=\"display:none;\">\n",
              "\n",
              "<svg xmlns=\"http://www.w3.org/2000/svg\" height=\"24px\"viewBox=\"0 0 24 24\"\n",
              "     width=\"24px\">\n",
              "    <g>\n",
              "        <path d=\"M19 3H5c-1.1 0-2 .9-2 2v14c0 1.1.9 2 2 2h14c1.1 0 2-.9 2-2V5c0-1.1-.9-2-2-2zM9 17H7v-7h2v7zm4 0h-2V7h2v10zm4 0h-2v-4h2v4z\"/>\n",
              "    </g>\n",
              "</svg>\n",
              "      </button>\n",
              "    </div>\n",
              "\n",
              "<style>\n",
              "  .colab-df-quickchart {\n",
              "    background-color: #E8F0FE;\n",
              "    border: none;\n",
              "    border-radius: 50%;\n",
              "    cursor: pointer;\n",
              "    display: none;\n",
              "    fill: #1967D2;\n",
              "    height: 32px;\n",
              "    padding: 0 0 0 0;\n",
              "    width: 32px;\n",
              "  }\n",
              "\n",
              "  .colab-df-quickchart:hover {\n",
              "    background-color: #E2EBFA;\n",
              "    box-shadow: 0px 1px 2px rgba(60, 64, 67, 0.3), 0px 1px 3px 1px rgba(60, 64, 67, 0.15);\n",
              "    fill: #174EA6;\n",
              "  }\n",
              "\n",
              "  [theme=dark] .colab-df-quickchart {\n",
              "    background-color: #3B4455;\n",
              "    fill: #D2E3FC;\n",
              "  }\n",
              "\n",
              "  [theme=dark] .colab-df-quickchart:hover {\n",
              "    background-color: #434B5C;\n",
              "    box-shadow: 0px 1px 3px 1px rgba(0, 0, 0, 0.15);\n",
              "    filter: drop-shadow(0px 1px 2px rgba(0, 0, 0, 0.3));\n",
              "    fill: #FFFFFF;\n",
              "  }\n",
              "</style>\n",
              "\n",
              "    <script>\n",
              "      async function quickchart(key) {\n",
              "        const containerElement = document.querySelector('#' + key);\n",
              "        const charts = await google.colab.kernel.invokeFunction(\n",
              "            'suggestCharts', [key], {});\n",
              "      }\n",
              "    </script>\n",
              "\n",
              "      <script>\n",
              "\n",
              "function displayQuickchartButton(domScope) {\n",
              "  let quickchartButtonEl =\n",
              "    domScope.querySelector('#df-23770e3c-0821-4d91-a74b-3f0bba5bb4d9 button.colab-df-quickchart');\n",
              "  quickchartButtonEl.style.display =\n",
              "    google.colab.kernel.accessAllowed ? 'block' : 'none';\n",
              "}\n",
              "\n",
              "        displayQuickchartButton(document);\n",
              "      </script>\n",
              "      <style>\n",
              "    .colab-df-container {\n",
              "      display:flex;\n",
              "      flex-wrap:wrap;\n",
              "      gap: 12px;\n",
              "    }\n",
              "\n",
              "    .colab-df-convert {\n",
              "      background-color: #E8F0FE;\n",
              "      border: none;\n",
              "      border-radius: 50%;\n",
              "      cursor: pointer;\n",
              "      display: none;\n",
              "      fill: #1967D2;\n",
              "      height: 32px;\n",
              "      padding: 0 0 0 0;\n",
              "      width: 32px;\n",
              "    }\n",
              "\n",
              "    .colab-df-convert:hover {\n",
              "      background-color: #E2EBFA;\n",
              "      box-shadow: 0px 1px 2px rgba(60, 64, 67, 0.3), 0px 1px 3px 1px rgba(60, 64, 67, 0.15);\n",
              "      fill: #174EA6;\n",
              "    }\n",
              "\n",
              "    [theme=dark] .colab-df-convert {\n",
              "      background-color: #3B4455;\n",
              "      fill: #D2E3FC;\n",
              "    }\n",
              "\n",
              "    [theme=dark] .colab-df-convert:hover {\n",
              "      background-color: #434B5C;\n",
              "      box-shadow: 0px 1px 3px 1px rgba(0, 0, 0, 0.15);\n",
              "      filter: drop-shadow(0px 1px 2px rgba(0, 0, 0, 0.3));\n",
              "      fill: #FFFFFF;\n",
              "    }\n",
              "  </style>\n",
              "\n",
              "      <script>\n",
              "        const buttonEl =\n",
              "          document.querySelector('#df-522efb77-edbe-4d0a-b7d6-e4cb0258f0ca button.colab-df-convert');\n",
              "        buttonEl.style.display =\n",
              "          google.colab.kernel.accessAllowed ? 'block' : 'none';\n",
              "\n",
              "        async function convertToInteractive(key) {\n",
              "          const element = document.querySelector('#df-522efb77-edbe-4d0a-b7d6-e4cb0258f0ca');\n",
              "          const dataTable =\n",
              "            await google.colab.kernel.invokeFunction('convertToInteractive',\n",
              "                                                     [key], {});\n",
              "          if (!dataTable) return;\n",
              "\n",
              "          const docLinkHtml = 'Like what you see? Visit the ' +\n",
              "            '<a target=\"_blank\" href=https://colab.research.google.com/notebooks/data_table.ipynb>data table notebook</a>'\n",
              "            + ' to learn more about interactive tables.';\n",
              "          element.innerHTML = '';\n",
              "          dataTable['output_type'] = 'display_data';\n",
              "          await google.colab.output.renderOutput(dataTable, element);\n",
              "          const docLink = document.createElement('div');\n",
              "          docLink.innerHTML = docLinkHtml;\n",
              "          element.appendChild(docLink);\n",
              "        }\n",
              "      </script>\n",
              "    </div>\n",
              "  </div>\n"
            ]
          },
          "metadata": {},
          "execution_count": 19
        }
      ]
    },
    {
      "cell_type": "code",
      "source": [
        "de.columns"
      ],
      "metadata": {
        "colab": {
          "base_uri": "https://localhost:8080/"
        },
        "id": "1mNgAJf0qMDf",
        "outputId": "3f5d72e6-859d-49b1-dde2-f24ebb801157"
      },
      "execution_count": null,
      "outputs": [
        {
          "output_type": "execute_result",
          "data": {
            "text/plain": [
              "Index(['QoA_VLCresolution', 'QoA_VLCbitrate', 'QoA_VLCframerate',\n",
              "       'QoA_VLCdropped', 'QoA_VLCaudiorate', 'QoA_VLCaudioloss',\n",
              "       'QoA_BUFFERINGcount', 'QoA_BUFFERINGtime', 'QoS_type', 'QoS_operator',\n",
              "       'QoD_apilevel', 'QoU_sex', 'QoU_age', 'QoU_Ustedy', 'QoF_begin',\n",
              "       'QoF_shift', 'QoF_audio', 'QoF_video', 'MOS', 'QoD_model_ARCHOS101G9',\n",
              "       'QoD_model_D5802', 'QoD_model_D5803', 'QoD_model_GTI9189',\n",
              "       'QoD_model_GTI9191', 'QoD_model_GTI9192', 'QoD_model_GTI9193',\n",
              "       'QoD_model_GTI9194', 'QoD_model_GTI9195', 'QoD_model_GTI9300',\n",
              "       'QoD_model_HTCOneX', 'QoD_model_HTCOne_M8', 'QoD_model_Nexus4',\n",
              "       'QoD_model_SMG900F', 'QoD_model_SMN9005',\n",
              "       'QoD_osversion_40420130118175432', 'QoD_osversion_41112257316',\n",
              "       'QoD_osversion_412I9300XXELL4', 'QoD_osversion_43I9300XXUGNB5',\n",
              "       'QoD_osversion_43I9506XXUBML5', 'QoD_osversion_442G900FXXU1ANG2',\n",
              "       'QoD_osversion_442G900FXXU1ANG9', 'QoD_osversion_442G900FXXU1ANJ1',\n",
              "       'QoD_osversion_442I9195XXUCNK1', 'QoD_osversion_442I9195XXUCNK4',\n",
              "       'QoD_osversion_442N9005XXUGNI4', 'QoD_osversion_444suv3Rw',\n",
              "       'QoD_osversion_50G900FXXU1BOC2', 'QoD_osversion_50G900FXXU1BOC7',\n",
              "       'QoD_osversion_5011602158', 'QoD_osversion_5014571884',\n",
              "       'QoD_osversion_511456c49d1b2', 'QoD_osversion_511478106bf5f'],\n",
              "      dtype='object')"
            ]
          },
          "metadata": {},
          "execution_count": 20
        }
      ]
    },
    {
      "cell_type": "code",
      "source": [
        "# get the X and Y dataframes\n",
        "\n",
        "\n",
        "X= de.iloc[:, :]\n",
        "X=X.drop(['MOS'], axis=1)\n",
        "y=de['MOS']\n",
        "\n",
        "#df.drop(df.columns[[0, 4, 2]], axis=1, inplace=True)\n",
        "\n",
        "from sklearn.model_selection import train_test_split"
      ],
      "metadata": {
        "id": "WcULLXaSp9NQ"
      },
      "execution_count": null,
      "outputs": []
    },
    {
      "cell_type": "code",
      "source": [
        "X.shape\n"
      ],
      "metadata": {
        "colab": {
          "base_uri": "https://localhost:8080/"
        },
        "id": "ojIRdywbp9P0",
        "outputId": "46d6ce68-4379-446a-f590-49431861b717"
      },
      "execution_count": null,
      "outputs": [
        {
          "output_type": "execute_result",
          "data": {
            "text/plain": [
              "(1543, 51)"
            ]
          },
          "metadata": {},
          "execution_count": 22
        }
      ]
    },
    {
      "cell_type": "code",
      "source": [
        "X.shape\n",
        "X.columns"
      ],
      "metadata": {
        "id": "oOD8JR0BJR14",
        "colab": {
          "base_uri": "https://localhost:8080/"
        },
        "outputId": "3aec98bb-7582-408d-8617-e9d72a1dfc6c"
      },
      "execution_count": null,
      "outputs": [
        {
          "output_type": "execute_result",
          "data": {
            "text/plain": [
              "Index(['QoA_VLCresolution', 'QoA_VLCbitrate', 'QoA_VLCframerate',\n",
              "       'QoA_VLCdropped', 'QoA_VLCaudiorate', 'QoA_VLCaudioloss',\n",
              "       'QoA_BUFFERINGcount', 'QoA_BUFFERINGtime', 'QoS_type', 'QoS_operator',\n",
              "       'QoD_apilevel', 'QoU_sex', 'QoU_age', 'QoU_Ustedy', 'QoF_begin',\n",
              "       'QoF_shift', 'QoF_audio', 'QoF_video', 'QoD_model_ARCHOS101G9',\n",
              "       'QoD_model_D5802', 'QoD_model_D5803', 'QoD_model_GTI9189',\n",
              "       'QoD_model_GTI9191', 'QoD_model_GTI9192', 'QoD_model_GTI9193',\n",
              "       'QoD_model_GTI9194', 'QoD_model_GTI9195', 'QoD_model_GTI9300',\n",
              "       'QoD_model_HTCOneX', 'QoD_model_HTCOne_M8', 'QoD_model_Nexus4',\n",
              "       'QoD_model_SMG900F', 'QoD_model_SMN9005',\n",
              "       'QoD_osversion_40420130118175432', 'QoD_osversion_41112257316',\n",
              "       'QoD_osversion_412I9300XXELL4', 'QoD_osversion_43I9300XXUGNB5',\n",
              "       'QoD_osversion_43I9506XXUBML5', 'QoD_osversion_442G900FXXU1ANG2',\n",
              "       'QoD_osversion_442G900FXXU1ANG9', 'QoD_osversion_442G900FXXU1ANJ1',\n",
              "       'QoD_osversion_442I9195XXUCNK1', 'QoD_osversion_442I9195XXUCNK4',\n",
              "       'QoD_osversion_442N9005XXUGNI4', 'QoD_osversion_444suv3Rw',\n",
              "       'QoD_osversion_50G900FXXU1BOC2', 'QoD_osversion_50G900FXXU1BOC7',\n",
              "       'QoD_osversion_5011602158', 'QoD_osversion_5014571884',\n",
              "       'QoD_osversion_511456c49d1b2', 'QoD_osversion_511478106bf5f'],\n",
              "      dtype='object')"
            ]
          },
          "metadata": {},
          "execution_count": 23
        }
      ]
    },
    {
      "cell_type": "code",
      "source": [
        "# split the dataset\n",
        "X_train, X_test, y_train, y_test = train_test_split(X, y, test_size=0.2, random_state=42)\n"
      ],
      "metadata": {
        "id": "wm50LBHrsgQD"
      },
      "execution_count": null,
      "outputs": []
    },
    {
      "cell_type": "code",
      "source": [
        "print('X_train : ')\n",
        "print(X_train.head())\n",
        "print('')\n",
        "print('X_test : ')\n",
        "print(X_test.head())\n",
        "print('')\n",
        "print('y_train : ')\n",
        "print(y_train.head())\n",
        "print('')\n",
        "print('y_test : ')\n",
        "print(y_test.head())"
      ],
      "metadata": {
        "id": "l1c86yzVsgTK"
      },
      "execution_count": null,
      "outputs": []
    },
    {
      "cell_type": "code",
      "source": [
        "print('X_train : ')\n",
        "print(X_train.shape)\n",
        "print('')\n",
        "print('X_test : ')\n",
        "print(X_test.shape)\n",
        "print('')\n",
        "print('y_train : ')\n",
        "print(y_train.shape)\n",
        "print('')\n",
        "print('y_test : ')\n",
        "print(y_test.shape)"
      ],
      "metadata": {
        "colab": {
          "base_uri": "https://localhost:8080/"
        },
        "id": "EeQT6GKtsgVt",
        "outputId": "039931d5-b60b-4f9d-c10b-86f8e542c3c4"
      },
      "execution_count": null,
      "outputs": [
        {
          "output_type": "stream",
          "name": "stdout",
          "text": [
            "X_train : \n",
            "(1234, 51)\n",
            "\n",
            "X_test : \n",
            "(309, 51)\n",
            "\n",
            "y_train : \n",
            "(1234,)\n",
            "\n",
            "y_test : \n",
            "(309,)\n"
          ]
        }
      ]
    },
    {
      "cell_type": "code",
      "source": [
        "#SUPPORT VECTOR MACHINE CLASSIFIER\n",
        "\n",
        "from sklearn import svm\n",
        "model = svm.SVC(kernel='rbf', degree=2, C=10)\n",
        "model.fit(X_train, y_train)\n",
        "from sklearn import metrics\n",
        "y_pred = model.predict(X_test)\n",
        "print(y_pred)\n",
        "print(metrics.confusion_matrix(y_pred, y))\n"
      ],
      "metadata": {
        "colab": {
          "base_uri": "https://localhost:8080/"
        },
        "id": "j4S_F8JBtF87",
        "outputId": "9c0aedea-c371-4393-c16c-47140b8c920f"
      },
      "execution_count": null,
      "outputs": [
        {
          "output_type": "stream",
          "name": "stdout",
          "text": [
            "[1 4 4 4 4 4 1 4 4 4 4 4 2 4 4 4 4 4 4 4 4 4 4 1 4 4 4 4 4 4 4 4 4 4 4 4 4\n",
            " 4 4 4 4 4 4 4 4 4 4 4 4 4 4 4 4 4 4 4 4 4 4 4 4 4 4 4 4 4 4 1 1 4 4 4 4 4\n",
            " 4 4 4 4 4 4 1 4 4 4 4 4 4 4 4 4 4 1 4 4 4 4 4 4 4 4 4 4 4 4 4 4 4 4 4 4 4\n",
            " 4 4 4 4 4 4 4 4 4 4 4 4 4 2 4 1 4 4 4 4 4 4 4 4 4 4 4 4 4 1 4 4 4 4 4 4 4\n",
            " 4 4 4 4 4 4 4 4 4 4 1 4 4 2 4 4 4 2 4 4 1 4 4 4 4 4 4 4 4 4 4 4 4 4 4 4 4\n",
            " 4 4 4 4 4 4 2 2 4 4 4 4 4 4 4 4 4 4 4 1 1 4 4 4 4 4 4 4 4 4 4 4 4 1 4 4 4\n",
            " 4 4 4 4 4 4 4 4 4 4 4 4 4 4 4 4 4 4 4 4 4 4 4 4 4 4 4 4 4 4 4 4 4 4 1 4 4\n",
            " 4 4 4 4 4 4 4 4 4 4 4 4 4 4 4 1 4 4 4 4 1 4 4 4 4 2 4 4 4 4 4 4 4 1 4 4 4\n",
            " 4 4 4 4 4 4 4 2 4 4 4 4 4]\n",
            "[[ 17   0   1   0   0]\n",
            " [  1   6   0   0   1]\n",
            " [  0   0   0   0   0]\n",
            " [  2  13  44 162  62]\n",
            " [  0   0   0   0   0]]\n"
          ]
        }
      ]
    },
    {
      "cell_type": "code",
      "source": [
        "from sklearn.metrics import mean_squared_error\n",
        "from sklearn.metrics import mean_absolute_error\n",
        "import math\n",
        "# Given values\n",
        "Y_true = y_test  # Y_true = Y (original values)\n",
        "\n",
        "# calculated values\n",
        "Y_pred = model.predict(X_test)  # Y_pred = Y'\n",
        "\n",
        "# Calculation of Mean Squared Error (MSE)\n",
        "mse=mean_squared_error(Y_true,Y_pred)\n",
        "rmse = math.sqrt(mse)\n",
        "print(mse)\n",
        "print(\"The difference between actual and predicted values\", rmse)\n",
        "print(mean_absolute_error(y_test, y_pred))"
      ],
      "metadata": {
        "colab": {
          "base_uri": "https://localhost:8080/"
        },
        "id": "L9u2PgHSgdwz",
        "outputId": "053e6110-6aad-4a97-a666-37efd396e786"
      },
      "execution_count": null,
      "outputs": [
        {
          "output_type": "stream",
          "name": "stdout",
          "text": [
            "0.6148867313915858\n",
            "The difference between actual and predicted values 0.7841471363153638\n"
          ]
        }
      ]
    },
    {
      "cell_type": "code",
      "source": [
        "mean_absolute_error(y_test, y_pred)"
      ],
      "metadata": {
        "colab": {
          "base_uri": "https://localhost:8080/"
        },
        "id": "yZkJ57bkhyAu",
        "outputId": "c6a079d8-8dc6-4900-a242-2138c5097ad9"
      },
      "execution_count": null,
      "outputs": [
        {
          "output_type": "execute_result",
          "data": {
            "text/plain": [
              "0.46601941747572817"
            ]
          },
          "metadata": {},
          "execution_count": 41
        }
      ]
    },
    {
      "cell_type": "code",
      "source": [
        "#KNN CLASSIFIER\n",
        "X = X_test\n",
        "y =  y_test\n",
        "\n",
        "# Instantiate and train the classifier\n",
        "from sklearn.neighbors import KNeighborsClassifier\n",
        "clf = KNeighborsClassifier(n_neighbors=10)\n",
        "clf.fit(X, y)\n",
        "\n",
        "# Check the results using metrics\n",
        "from sklearn import metrics\n",
        "y_pred = clf.predict(X)\n",
        "print(y_pred)\n",
        "print(metrics.confusion_matrix(y_pred, y))"
      ],
      "metadata": {
        "colab": {
          "base_uri": "https://localhost:8080/"
        },
        "id": "nPhr9pJmela_",
        "outputId": "726cecf4-a694-46ae-f3b6-2097485e2411"
      },
      "execution_count": null,
      "outputs": [
        {
          "output_type": "stream",
          "name": "stdout",
          "text": [
            "[1 4 4 4 4 5 1 4 4 4 4 4 2 4 5 4 4 4 4 4 3 3 5 1 5 4 4 4 4 4 4 4 4 4 4 4 4\n",
            " 4 4 4 3 4 4 4 4 4 5 4 4 4 5 3 4 4 4 4 4 4 4 4 4 4 4 4 4 4 4 1 1 4 5 5 4 3\n",
            " 4 4 4 4 4 4 1 4 4 3 4 4 4 5 4 4 4 1 4 4 4 4 4 4 4 4 3 3 4 4 4 4 4 4 4 3 5\n",
            " 4 3 3 4 4 4 5 4 3 4 4 4 4 2 4 1 4 4 4 5 4 2 4 4 4 4 4 4 4 1 4 5 4 4 4 4 4\n",
            " 4 4 4 4 3 4 4 4 3 4 1 4 4 2 4 4 4 1 5 5 1 4 4 4 4 3 5 4 4 4 4 4 3 4 4 4 4\n",
            " 4 4 5 4 4 4 2 1 3 5 4 4 4 4 4 4 4 4 4 2 1 3 4 4 4 4 4 4 4 3 4 4 4 1 4 3 3\n",
            " 4 4 3 5 4 4 4 4 4 4 4 4 3 4 4 4 4 4 4 4 4 4 4 4 4 4 4 4 3 4 4 4 4 5 1 4 4\n",
            " 4 4 4 4 3 4 4 4 4 2 4 4 4 4 4 1 4 4 4 4 1 3 4 4 4 2 4 4 4 4 3 4 4 1 4 4 4\n",
            " 4 4 5 4 4 4 4 2 4 4 4 4 4]\n",
            "[[ 17   1   1   0   0]\n",
            " [  1   6   1   0   1]\n",
            " [  2   1  14   6   4]\n",
            " [  0   9  26 152  46]\n",
            " [  0   2   3   4  12]]\n"
          ]
        }
      ]
    },
    {
      "cell_type": "code",
      "source": [
        "from sklearn.metrics import mean_squared_error\n",
        "from sklearn.metrics import mean_absolute_error\n",
        "import math\n",
        "# Given values\n",
        "Y_true = y_test  # Y_true = Y (original values)\n",
        "\n",
        "# calculated values\n",
        "Y_pred = clf.predict(X_test)  # Y_pred = Y'\n",
        "\n",
        "# Calculation of Mean Squared Error (MSE)\n",
        "mse=mean_squared_error(Y_true,Y_pred)\n",
        "rmse = math.sqrt(mse)\n",
        "print(mse)\n",
        "print(\"The difference between actual and predicted values\", rmse)\n",
        "print(mean_absolute_error(y_test, y_pred))"
      ],
      "metadata": {
        "colab": {
          "base_uri": "https://localhost:8080/"
        },
        "id": "HZlYCxICmjPo",
        "outputId": "51435330-d19e-4c99-a13f-a11ee1a72e1f"
      },
      "execution_count": null,
      "outputs": [
        {
          "output_type": "stream",
          "name": "stdout",
          "text": [
            "0.6116504854368932\n",
            "The difference between actual and predicted values 0.7820808688600516\n",
            "0.43042071197411\n"
          ]
        }
      ]
    },
    {
      "cell_type": "code",
      "source": [
        "#RANDOM FOREST CLASSIFIER\n",
        "\n",
        "from sklearn.ensemble import RandomForestClassifier\n",
        "from sklearn.datasets import make_classification\n"
      ],
      "metadata": {
        "id": "NCpN-6BEjKdX"
      },
      "execution_count": null,
      "outputs": []
    },
    {
      "cell_type": "code",
      "source": [
        "rf = RandomForestClassifier(random_state=0, n_estimators=500)\n",
        "rf.fit(X, y)\n",
        "print(rf.predict(X_test))"
      ],
      "metadata": {
        "colab": {
          "base_uri": "https://localhost:8080/"
        },
        "id": "9DXXxy8clLZf",
        "outputId": "c4bd19de-44b9-4f42-b732-6057779f5a02"
      },
      "execution_count": null,
      "outputs": [
        {
          "output_type": "stream",
          "name": "stdout",
          "text": [
            "[1 4 4 4 4 5 1 4 5 4 4 5 2 4 3 5 4 4 2 4 3 1 4 1 5 3 5 4 5 5 3 4 4 5 4 4 4\n",
            " 4 4 3 3 5 4 5 4 4 5 4 5 4 4 3 4 4 4 4 4 5 4 5 4 4 4 4 5 2 3 1 1 4 2 5 4 4\n",
            " 4 4 3 4 5 4 1 4 4 4 4 4 5 5 2 4 4 1 4 4 4 3 4 2 4 4 3 3 3 4 4 4 4 4 4 4 5\n",
            " 4 4 1 4 4 4 5 4 3 4 4 4 3 5 4 1 4 2 5 5 4 3 4 4 5 4 4 5 4 1 2 3 4 3 3 4 5\n",
            " 4 3 3 4 5 2 5 4 2 5 1 3 4 2 5 5 4 1 5 4 1 5 4 3 4 3 2 4 4 5 3 4 3 3 4 4 4\n",
            " 5 4 3 4 5 4 2 2 4 5 4 4 4 3 4 5 4 5 4 1 1 3 4 4 4 5 5 5 4 5 4 4 4 1 4 3 5\n",
            " 4 4 4 5 4 2 4 4 4 5 4 4 5 4 4 5 5 4 4 4 3 5 3 4 4 5 3 5 3 5 4 5 4 5 3 4 3\n",
            " 4 3 4 4 3 4 4 4 4 2 3 5 5 4 5 1 4 4 4 4 1 3 4 5 2 2 4 4 4 4 3 5 3 1 3 4 3\n",
            " 4 4 4 4 4 4 4 2 4 4 5 4 4]\n"
          ]
        }
      ]
    },
    {
      "cell_type": "code",
      "source": [
        "from sklearn.metrics import mean_squared_error\n",
        "from sklearn.metrics import mean_absolute_error\n",
        "import math\n",
        "# Given values\n",
        "Y_true = y_test  # Y_true = Y (original values)\n",
        "\n",
        "# calculated values\n",
        "Y_pred = rf.predict(X_test)  # Y_pred = Y'\n",
        "\n",
        "# Calculation of Mean Squared Error (MSE)\n",
        "mse=mean_squared_error(Y_true,Y_pred)\n",
        "rmse = math.sqrt(mse)\n",
        "print(mse)\n",
        "print(\"The difference between actual and predicted values\", rmse)\n",
        "print(mean_absolute_error(y_test, y_pred))"
      ],
      "metadata": {
        "colab": {
          "base_uri": "https://localhost:8080/"
        },
        "id": "8sLoTmpRk0WX",
        "outputId": "9e1ba532-c887-41a1-b39e-c125c5e9ad40"
      },
      "execution_count": null,
      "outputs": [
        {
          "output_type": "stream",
          "name": "stdout",
          "text": [
            "0.0\n",
            "The difference between actual and predicted values 0.0\n",
            "0.43042071197411\n"
          ]
        }
      ]
    },
    {
      "cell_type": "code",
      "source": [
        "#GRADIENT TREE BOOSTING CLASSIFIER\n",
        "\n",
        "from sklearn.ensemble import GradientBoostingClassifier\n",
        "gb = GradientBoostingClassifier(learning_rate=0.01, n_estimators=500)\n",
        "gb.fit(X, y)\n",
        "print(gb.predict(X_test))"
      ],
      "metadata": {
        "colab": {
          "base_uri": "https://localhost:8080/"
        },
        "id": "GyU96mw2nlAQ",
        "outputId": "770e25b5-71b7-4805-d27d-ff5e66c306f4"
      },
      "execution_count": null,
      "outputs": [
        {
          "output_type": "stream",
          "name": "stdout",
          "text": [
            "[1 4 4 4 4 5 1 4 5 4 4 5 2 4 3 5 4 4 2 4 3 1 4 1 5 3 5 4 4 5 3 4 4 5 4 4 4\n",
            " 4 4 3 3 5 4 5 4 4 5 4 5 4 4 3 4 4 4 4 4 5 4 5 4 4 4 4 5 2 3 1 1 4 2 5 4 4\n",
            " 4 4 3 4 5 4 1 4 4 4 4 4 5 5 2 4 4 1 4 4 4 3 4 2 4 4 3 3 3 4 4 4 4 4 4 4 5\n",
            " 4 4 1 4 4 4 5 4 3 4 4 4 3 5 4 1 4 2 5 5 4 3 4 4 5 4 4 5 4 1 2 3 4 3 3 4 5\n",
            " 4 3 3 4 5 2 5 4 2 5 1 3 4 2 5 5 4 1 5 4 1 5 4 3 4 3 2 4 4 5 3 4 3 3 4 4 4\n",
            " 5 4 3 4 5 4 2 2 4 5 4 4 4 3 4 5 4 5 4 1 1 3 4 4 4 5 5 5 4 4 4 4 4 1 4 3 5\n",
            " 4 4 4 5 4 2 4 4 4 5 4 4 5 4 4 5 5 4 4 4 3 5 3 4 4 5 3 5 3 5 4 5 4 5 3 4 3\n",
            " 4 3 4 4 3 4 4 4 4 2 3 5 5 4 5 1 4 4 4 4 1 3 4 5 2 2 4 4 4 4 3 5 3 1 3 4 3\n",
            " 4 4 4 4 4 4 4 2 4 4 5 4 4]\n"
          ]
        }
      ]
    },
    {
      "cell_type": "code",
      "source": [
        "from sklearn.metrics import mean_squared_error\n",
        "from sklearn.metrics import mean_absolute_error\n",
        "import math\n",
        "# Given values\n",
        "Y_true = y_test  # Y_true = Y (original values)\n",
        "\n",
        "# calculated values\n",
        "Y_pred = gb.predict(X_test)  # Y_pred = Y'\n",
        "\n",
        "# Calculation of Mean Squared Error (MSE)\n",
        "mse=mean_squared_error(Y_true,Y_pred)\n",
        "rmse = math.sqrt(mse)\n",
        "print(mse)\n",
        "print(\"The difference between actual and predicted values\", rmse)\n",
        "print(mean_absolute_error(y_test, y_pred))"
      ],
      "metadata": {
        "colab": {
          "base_uri": "https://localhost:8080/"
        },
        "id": "ZEqiO6-bnlCW",
        "outputId": "d8d1a2f3-40f0-4cf9-883f-a58fac01d60b"
      },
      "execution_count": null,
      "outputs": [
        {
          "output_type": "stream",
          "name": "stdout",
          "text": [
            "0.006472491909385114\n",
            "The difference between actual and predicted values 0.08045179867091297\n",
            "0.46601941747572817\n"
          ]
        }
      ]
    },
    {
      "cell_type": "code",
      "source": [
        "#MLP CLASSIFIER\n",
        "\n",
        "from sklearn.neural_network import MLPClassifier\n",
        "from sklearn.datasets import make_classification\n",
        "\n",
        "#X, y = make_classification(n_samples=100, random_state=1)\n",
        "\n",
        "clf = MLPClassifier(learning_rate_init=0.001, hidden_layer_sizes=20, activation='relu').fit(X_train, y_train)\n",
        "clf.predict_proba(X_test)\n",
        "print(clf.predict(X_test))\n",
        "clf.score(X_test, y_test)"
      ],
      "metadata": {
        "colab": {
          "base_uri": "https://localhost:8080/"
        },
        "id": "EFcId88pnlE4",
        "outputId": "78b50e58-872f-4f7b-83d4-6d0f35a6559d"
      },
      "execution_count": null,
      "outputs": [
        {
          "output_type": "stream",
          "name": "stdout",
          "text": [
            "[2 5 4 4 4 4 2 4 4 2 4 4 2 4 5 4 4 4 3 4 4 1 4 2 4 5 2 4 4 4 3 4 4 4 5 2 4\n",
            " 4 4 3 3 5 4 5 4 4 4 3 4 4 4 5 5 4 5 4 4 4 4 4 4 4 4 4 4 4 5 2 2 4 4 5 5 4\n",
            " 4 4 2 4 4 4 2 4 5 4 5 4 4 4 4 4 4 2 4 4 2 4 4 5 4 4 4 2 4 4 4 4 4 4 5 5 4\n",
            " 4 4 3 5 4 2 4 4 4 4 4 5 4 2 4 2 4 4 4 4 4 3 4 4 4 4 4 4 5 2 4 4 4 4 4 4 5\n",
            " 4 3 3 4 4 4 4 4 3 4 2 4 4 3 4 4 4 2 4 4 2 4 4 4 4 3 3 4 5 4 4 4 3 4 4 4 4\n",
            " 5 4 4 5 4 4 2 2 4 5 4 4 4 4 4 4 5 4 4 2 2 3 4 3 4 4 5 4 4 4 4 4 4 2 4 3 4\n",
            " 4 4 4 5 4 3 4 4 4 4 4 4 4 4 4 4 4 5 4 3 4 4 4 4 4 4 4 4 4 4 4 4 4 5 2 4 4\n",
            " 4 4 4 4 4 4 4 4 4 3 4 4 4 4 4 2 4 2 4 3 2 3 4 4 4 2 4 4 4 4 4 4 4 2 3 4 4\n",
            " 4 4 4 5 4 4 4 3 4 4 4 4 4]\n"
          ]
        },
        {
          "output_type": "execute_result",
          "data": {
            "text/plain": [
              "0.5242718446601942"
            ]
          },
          "metadata": {},
          "execution_count": 76
        }
      ]
    },
    {
      "cell_type": "code",
      "source": [
        "from sklearn.metrics import mean_squared_error\n",
        "from sklearn.metrics import mean_absolute_error\n",
        "import math\n",
        "# Given values\n",
        "Y_true = y_test  # Y_true = Y (original values)\n",
        "\n",
        "# calculated values\n",
        "Y_pred = clf.predict(X_test)  # Y_pred = Y'\n",
        "\n",
        "# Calculation of Mean Squared Error (MSE)\n",
        "mse=mean_squared_error(Y_true,Y_pred)\n",
        "rmse = math.sqrt(mse)\n",
        "print(mse)\n",
        "print(\"The difference between actual and predicted values\", rmse)\n",
        "print(mean_absolute_error(y_test, y_pred))"
      ],
      "metadata": {
        "colab": {
          "base_uri": "https://localhost:8080/"
        },
        "id": "KcZJNLaSp5PP",
        "outputId": "983f421b-0203-451d-8b52-9efdd2090ed2"
      },
      "execution_count": null,
      "outputs": [
        {
          "output_type": "stream",
          "name": "stdout",
          "text": [
            "0.627831715210356\n",
            "The difference between actual and predicted values 0.7923583250085506\n",
            "0.46601941747572817\n"
          ]
        }
      ]
    },
    {
      "cell_type": "code",
      "source": [
        "#STOCHASTIC GRADIENT DESCENT CLASSIFIER\n",
        "from sklearn.linear_model import SGDClassifier\n",
        "\n",
        "sclf = SGDClassifier(loss=\"log_loss\", penalty=\"l2\", max_iter=1000, tol=1e-3)\n",
        "sclf.fit(X, y)\n",
        "print(sclf.predict(X_test))"
      ],
      "metadata": {
        "colab": {
          "base_uri": "https://localhost:8080/"
        },
        "id": "Yspex57mqMVJ",
        "outputId": "84d3c8f8-4ecb-4bd0-cfd0-fa46a205d872"
      },
      "execution_count": null,
      "outputs": [
        {
          "output_type": "stream",
          "name": "stdout",
          "text": [
            "[1 4 3 3 3 3 1 3 3 3 3 3 1 3 4 3 3 3 3 1 3 3 3 1 3 3 1 3 3 3 3 3 3 3 4 3 3\n",
            " 3 3 3 3 3 4 4 3 3 4 3 3 3 3 4 3 3 3 3 3 3 3 3 3 3 3 3 4 3 4 1 1 3 4 4 4 3\n",
            " 3 4 3 3 3 3 1 4 3 4 4 3 3 3 3 3 3 1 3 3 3 4 4 3 3 3 4 3 3 3 3 3 4 3 3 3 3\n",
            " 3 3 3 4 3 3 3 3 3 3 3 3 3 1 3 1 3 4 3 3 3 3 3 4 3 3 3 3 3 1 3 3 3 4 3 3 4\n",
            " 3 3 3 4 3 3 3 3 3 3 1 3 3 1 3 3 3 1 4 3 1 3 3 3 3 3 3 3 3 3 3 3 3 3 4 3 3\n",
            " 4 3 3 4 3 3 1 1 4 4 3 3 3 3 3 4 3 3 3 1 1 3 3 3 3 3 4 3 3 3 3 3 3 1 3 3 3\n",
            " 3 4 4 4 3 3 3 3 3 3 3 3 3 3 3 3 3 4 3 3 3 3 3 3 3 3 3 4 4 3 3 3 3 4 1 3 3\n",
            " 3 4 3 3 4 3 3 3 4 3 3 3 3 3 3 1 3 3 3 3 1 3 3 3 3 1 4 3 3 3 4 3 3 1 3 3 3\n",
            " 3 3 3 4 3 3 3 3 3 3 3 3 3]\n"
          ]
        }
      ]
    },
    {
      "cell_type": "code",
      "source": [
        "from sklearn.metrics import mean_squared_error\n",
        "from sklearn.metrics import mean_absolute_error\n",
        "import math\n",
        "# Given values\n",
        "Y_true = y_test  # Y_true = Y (original values)\n",
        "\n",
        "# calculated values\n",
        "Y_pred = sclf.predict(X_test)  # Y_pred = Y'\n",
        "\n",
        "# Calculation of Mean Squared Error (MSE)\n",
        "mse=mean_squared_error(Y_true,Y_pred)\n",
        "rmse = math.sqrt(mse)\n",
        "print(mse)\n",
        "print(\"The difference between actual and predicted values\", rmse)\n",
        "print(mean_absolute_error(y_test, y_pred))"
      ],
      "metadata": {
        "colab": {
          "base_uri": "https://localhost:8080/"
        },
        "id": "TmkmTsOyqMXh",
        "outputId": "03b01804-0319-4b92-e409-5ee8ef746713"
      },
      "execution_count": null,
      "outputs": [
        {
          "output_type": "stream",
          "name": "stdout",
          "text": [
            "1.3980582524271845\n",
            "The difference between actual and predicted values 1.1823951337971519\n",
            "0.46601941747572817\n"
          ]
        }
      ]
    },
    {
      "cell_type": "code",
      "source": [
        "#DECISION TREE CLASSIFIER\n",
        "\n",
        "from sklearn.tree import DecisionTreeClassifier\n",
        "\n",
        "dt = DecisionTreeClassifier(min_samples_leaf=9, random_state=None)\n",
        "dt.fit(X, y)\n",
        "print(dt.predict(X_test))\n"
      ],
      "metadata": {
        "colab": {
          "base_uri": "https://localhost:8080/"
        },
        "id": "lpqPdE1oqMZe",
        "outputId": "be5ce3a5-7aef-4ba4-dbc1-dd3aef9d1422"
      },
      "execution_count": null,
      "outputs": [
        {
          "output_type": "stream",
          "name": "stdout",
          "text": [
            "[1 4 4 4 4 5 1 4 5 4 4 5 3 4 3 5 4 4 2 4 3 2 3 1 5 2 5 4 4 5 3 4 2 4 4 4 3\n",
            " 4 4 2 2 5 5 5 4 4 4 4 5 4 4 3 4 4 4 3 4 5 4 5 4 4 4 4 5 3 3 3 1 4 2 5 4 4\n",
            " 4 4 4 4 5 4 1 4 4 4 4 4 5 4 2 5 3 1 3 4 4 3 4 2 4 3 4 2 2 4 3 4 4 4 4 4 5\n",
            " 4 4 2 4 4 4 5 4 3 4 4 4 3 5 4 1 4 2 5 5 4 4 5 4 5 4 4 5 4 1 3 3 4 3 3 4 5\n",
            " 4 3 3 4 5 2 5 4 2 5 1 3 4 3 5 5 4 1 5 4 1 5 4 3 4 3 2 4 4 5 3 4 3 3 4 4 4\n",
            " 5 4 3 4 5 4 3 1 4 5 2 4 4 2 4 5 4 5 5 1 1 3 4 4 4 5 5 5 4 4 4 3 5 3 4 3 5\n",
            " 4 4 4 5 4 2 4 4 3 5 4 5 5 4 4 5 5 4 4 4 3 4 2 4 4 5 4 5 4 5 4 5 4 5 1 4 2\n",
            " 4 3 4 4 3 4 4 5 4 3 3 5 4 4 5 1 4 4 4 4 1 3 4 5 2 2 4 4 4 4 3 4 3 1 4 4 2\n",
            " 4 2 5 4 3 4 4 2 4 4 5 4 4]\n"
          ]
        }
      ]
    },
    {
      "cell_type": "code",
      "source": [
        "from sklearn.metrics import mean_squared_error\n",
        "from sklearn.metrics import mean_absolute_error\n",
        "import math\n",
        "# Given values\n",
        "Y_true = y_test  # Y_true = Y (original values)\n",
        "\n",
        "# calculated values\n",
        "Y_pred = dt.predict(X_test)  # Y_pred = Y'\n",
        "\n",
        "# Calculation of Mean Squared Error (MSE)\n",
        "mse=mean_squared_error(Y_true,Y_pred)\n",
        "rmse = math.sqrt(mse)\n",
        "print(mse)\n",
        "print(\"The difference between actual and predicted values\", rmse)\n",
        "print(mean_absolute_error(y_test, y_pred))"
      ],
      "metadata": {
        "colab": {
          "base_uri": "https://localhost:8080/"
        },
        "id": "lM2p7VUCqMdW",
        "outputId": "826790f6-a3dc-4564-b090-7b551b347ad5"
      },
      "execution_count": null,
      "outputs": [
        {
          "output_type": "stream",
          "name": "stdout",
          "text": [
            "0.23948220064724918\n",
            "The difference between actual and predicted values 0.48936918645052546\n",
            "0.46601941747572817\n"
          ]
        }
      ]
    }
  ]
}