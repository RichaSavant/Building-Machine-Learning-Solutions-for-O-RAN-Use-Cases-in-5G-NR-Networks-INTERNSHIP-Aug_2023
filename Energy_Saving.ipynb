{
  "nbformat": 4,
  "nbformat_minor": 0,
  "metadata": {
    "colab": {
      "provenance": []
    },
    "kernelspec": {
      "name": "python3",
      "display_name": "Python 3"
    },
    "language_info": {
      "name": "python"
    }
  },
  "cells": [
    {
      "cell_type": "code",
      "execution_count": null,
      "metadata": {
        "colab": {
          "base_uri": "https://localhost:8080/"
        },
        "id": "dgEpycwie4xh",
        "outputId": "9c79556c-87c6-4ddf-b0a8-7469853fc3cc"
      },
      "outputs": [
        {
          "output_type": "stream",
          "name": "stdout",
          "text": [
            "Mounted at /content/drive\n"
          ]
        }
      ],
      "source": [
        "'''\n",
        "BSs (LTE’s eNodeBs) can be\n",
        "either in an active state (handling UEs’ data) or in an idle state\n",
        "(transmitting only downlink control signaling).\n",
        "\n",
        "the classifier determines its\n",
        "class for the next period of time. We defined the following\n",
        "two classes:\n",
        " IDLE\n",
        " DOWNLOADING\n",
        "\n",
        "CLASSIFICATION: Random Forest, K means clustering\n",
        "\n",
        "'''\n",
        "\n",
        "from google.colab import drive\n",
        "drive.mount('/content/drive')\n",
        "\n"
      ]
    },
    {
      "cell_type": "code",
      "source": [
        "import pandas as pd\n",
        "\n",
        "df =pd.read_csv(\"drive/My Drive/Emerged.csv\")\n",
        "df.head()"
      ],
      "metadata": {
        "id": "hjm6pwYYfGkv",
        "colab": {
          "base_uri": "https://localhost:8080/",
          "height": 270
        },
        "outputId": "9da6a69b-0e90-437d-d667-362203577950"
      },
      "execution_count": null,
      "outputs": [
        {
          "output_type": "execute_result",
          "data": {
            "text/plain": [
              "             Timestamp  Longitude   Latitude Speed Operatorname CellID  \\\n",
              "0  2017.11.21_15.03.50  -8.499701  51.893336     0            A      2   \n",
              "1  2017.11.21_15.03.51  -8.499701  51.893336     0            A      2   \n",
              "2  2017.11.21_15.03.52  -8.499733  51.893346     0            A      2   \n",
              "3  2017.11.21_15.03.52  -8.499733  51.893346     0            A      2   \n",
              "4  2017.11.21_15.03.53  -8.499887  51.893384     1            A      2   \n",
              "\n",
              "  NetworkMode RSRP RSRQ   SNR CQI RSSI DL_bitrate UL_bitrate State NRxRSRP  \\\n",
              "0         LTE  -95  -13   4.0  10  -80          0          0     D       -   \n",
              "1         LTE  -95  -13   2.0   8  -78          0          0     I       -   \n",
              "2         LTE  -95  -13  13.0   9  -80          0          0     I       -   \n",
              "3         LTE  -95  -13  13.0   9  -80          0          0     I       -   \n",
              "4         LTE  -95  -13  13.0   9  -80          0          0     I       -   \n",
              "\n",
              "  NRxRSRQ ServingCell_Lon ServingCell_Lat ServingCell_Distance  \n",
              "0       -       -8.491719       51.893905               551.37  \n",
              "1       -       -8.491719       51.893905               551.37  \n",
              "2       -       -8.491719       51.893905   553.42999999999995  \n",
              "3       -       -8.491719       51.893905   553.42999999999995  \n",
              "4       -       -8.491719       51.893905   563.48000000000002  "
            ],
            "text/html": [
              "\n",
              "\n",
              "  <div id=\"df-4961cac5-9f16-4ed4-bebb-35961f1939ad\">\n",
              "    <div class=\"colab-df-container\">\n",
              "      <div>\n",
              "<style scoped>\n",
              "    .dataframe tbody tr th:only-of-type {\n",
              "        vertical-align: middle;\n",
              "    }\n",
              "\n",
              "    .dataframe tbody tr th {\n",
              "        vertical-align: top;\n",
              "    }\n",
              "\n",
              "    .dataframe thead th {\n",
              "        text-align: right;\n",
              "    }\n",
              "</style>\n",
              "<table border=\"1\" class=\"dataframe\">\n",
              "  <thead>\n",
              "    <tr style=\"text-align: right;\">\n",
              "      <th></th>\n",
              "      <th>Timestamp</th>\n",
              "      <th>Longitude</th>\n",
              "      <th>Latitude</th>\n",
              "      <th>Speed</th>\n",
              "      <th>Operatorname</th>\n",
              "      <th>CellID</th>\n",
              "      <th>NetworkMode</th>\n",
              "      <th>RSRP</th>\n",
              "      <th>RSRQ</th>\n",
              "      <th>SNR</th>\n",
              "      <th>CQI</th>\n",
              "      <th>RSSI</th>\n",
              "      <th>DL_bitrate</th>\n",
              "      <th>UL_bitrate</th>\n",
              "      <th>State</th>\n",
              "      <th>NRxRSRP</th>\n",
              "      <th>NRxRSRQ</th>\n",
              "      <th>ServingCell_Lon</th>\n",
              "      <th>ServingCell_Lat</th>\n",
              "      <th>ServingCell_Distance</th>\n",
              "    </tr>\n",
              "  </thead>\n",
              "  <tbody>\n",
              "    <tr>\n",
              "      <th>0</th>\n",
              "      <td>2017.11.21_15.03.50</td>\n",
              "      <td>-8.499701</td>\n",
              "      <td>51.893336</td>\n",
              "      <td>0</td>\n",
              "      <td>A</td>\n",
              "      <td>2</td>\n",
              "      <td>LTE</td>\n",
              "      <td>-95</td>\n",
              "      <td>-13</td>\n",
              "      <td>4.0</td>\n",
              "      <td>10</td>\n",
              "      <td>-80</td>\n",
              "      <td>0</td>\n",
              "      <td>0</td>\n",
              "      <td>D</td>\n",
              "      <td>-</td>\n",
              "      <td>-</td>\n",
              "      <td>-8.491719</td>\n",
              "      <td>51.893905</td>\n",
              "      <td>551.37</td>\n",
              "    </tr>\n",
              "    <tr>\n",
              "      <th>1</th>\n",
              "      <td>2017.11.21_15.03.51</td>\n",
              "      <td>-8.499701</td>\n",
              "      <td>51.893336</td>\n",
              "      <td>0</td>\n",
              "      <td>A</td>\n",
              "      <td>2</td>\n",
              "      <td>LTE</td>\n",
              "      <td>-95</td>\n",
              "      <td>-13</td>\n",
              "      <td>2.0</td>\n",
              "      <td>8</td>\n",
              "      <td>-78</td>\n",
              "      <td>0</td>\n",
              "      <td>0</td>\n",
              "      <td>I</td>\n",
              "      <td>-</td>\n",
              "      <td>-</td>\n",
              "      <td>-8.491719</td>\n",
              "      <td>51.893905</td>\n",
              "      <td>551.37</td>\n",
              "    </tr>\n",
              "    <tr>\n",
              "      <th>2</th>\n",
              "      <td>2017.11.21_15.03.52</td>\n",
              "      <td>-8.499733</td>\n",
              "      <td>51.893346</td>\n",
              "      <td>0</td>\n",
              "      <td>A</td>\n",
              "      <td>2</td>\n",
              "      <td>LTE</td>\n",
              "      <td>-95</td>\n",
              "      <td>-13</td>\n",
              "      <td>13.0</td>\n",
              "      <td>9</td>\n",
              "      <td>-80</td>\n",
              "      <td>0</td>\n",
              "      <td>0</td>\n",
              "      <td>I</td>\n",
              "      <td>-</td>\n",
              "      <td>-</td>\n",
              "      <td>-8.491719</td>\n",
              "      <td>51.893905</td>\n",
              "      <td>553.42999999999995</td>\n",
              "    </tr>\n",
              "    <tr>\n",
              "      <th>3</th>\n",
              "      <td>2017.11.21_15.03.52</td>\n",
              "      <td>-8.499733</td>\n",
              "      <td>51.893346</td>\n",
              "      <td>0</td>\n",
              "      <td>A</td>\n",
              "      <td>2</td>\n",
              "      <td>LTE</td>\n",
              "      <td>-95</td>\n",
              "      <td>-13</td>\n",
              "      <td>13.0</td>\n",
              "      <td>9</td>\n",
              "      <td>-80</td>\n",
              "      <td>0</td>\n",
              "      <td>0</td>\n",
              "      <td>I</td>\n",
              "      <td>-</td>\n",
              "      <td>-</td>\n",
              "      <td>-8.491719</td>\n",
              "      <td>51.893905</td>\n",
              "      <td>553.42999999999995</td>\n",
              "    </tr>\n",
              "    <tr>\n",
              "      <th>4</th>\n",
              "      <td>2017.11.21_15.03.53</td>\n",
              "      <td>-8.499887</td>\n",
              "      <td>51.893384</td>\n",
              "      <td>1</td>\n",
              "      <td>A</td>\n",
              "      <td>2</td>\n",
              "      <td>LTE</td>\n",
              "      <td>-95</td>\n",
              "      <td>-13</td>\n",
              "      <td>13.0</td>\n",
              "      <td>9</td>\n",
              "      <td>-80</td>\n",
              "      <td>0</td>\n",
              "      <td>0</td>\n",
              "      <td>I</td>\n",
              "      <td>-</td>\n",
              "      <td>-</td>\n",
              "      <td>-8.491719</td>\n",
              "      <td>51.893905</td>\n",
              "      <td>563.48000000000002</td>\n",
              "    </tr>\n",
              "  </tbody>\n",
              "</table>\n",
              "</div>\n",
              "      <button class=\"colab-df-convert\" onclick=\"convertToInteractive('df-4961cac5-9f16-4ed4-bebb-35961f1939ad')\"\n",
              "              title=\"Convert this dataframe to an interactive table.\"\n",
              "              style=\"display:none;\">\n",
              "\n",
              "  <svg xmlns=\"http://www.w3.org/2000/svg\" height=\"24px\"viewBox=\"0 0 24 24\"\n",
              "       width=\"24px\">\n",
              "    <path d=\"M0 0h24v24H0V0z\" fill=\"none\"/>\n",
              "    <path d=\"M18.56 5.44l.94 2.06.94-2.06 2.06-.94-2.06-.94-.94-2.06-.94 2.06-2.06.94zm-11 1L8.5 8.5l.94-2.06 2.06-.94-2.06-.94L8.5 2.5l-.94 2.06-2.06.94zm10 10l.94 2.06.94-2.06 2.06-.94-2.06-.94-.94-2.06-.94 2.06-2.06.94z\"/><path d=\"M17.41 7.96l-1.37-1.37c-.4-.4-.92-.59-1.43-.59-.52 0-1.04.2-1.43.59L10.3 9.45l-7.72 7.72c-.78.78-.78 2.05 0 2.83L4 21.41c.39.39.9.59 1.41.59.51 0 1.02-.2 1.41-.59l7.78-7.78 2.81-2.81c.8-.78.8-2.07 0-2.86zM5.41 20L4 18.59l7.72-7.72 1.47 1.35L5.41 20z\"/>\n",
              "  </svg>\n",
              "      </button>\n",
              "\n",
              "\n",
              "\n",
              "    <div id=\"df-482069cc-765a-4750-8e6b-d3aa0dfaa32a\">\n",
              "      <button class=\"colab-df-quickchart\" onclick=\"quickchart('df-482069cc-765a-4750-8e6b-d3aa0dfaa32a')\"\n",
              "              title=\"Suggest charts.\"\n",
              "              style=\"display:none;\">\n",
              "\n",
              "<svg xmlns=\"http://www.w3.org/2000/svg\" height=\"24px\"viewBox=\"0 0 24 24\"\n",
              "     width=\"24px\">\n",
              "    <g>\n",
              "        <path d=\"M19 3H5c-1.1 0-2 .9-2 2v14c0 1.1.9 2 2 2h14c1.1 0 2-.9 2-2V5c0-1.1-.9-2-2-2zM9 17H7v-7h2v7zm4 0h-2V7h2v10zm4 0h-2v-4h2v4z\"/>\n",
              "    </g>\n",
              "</svg>\n",
              "      </button>\n",
              "    </div>\n",
              "\n",
              "<style>\n",
              "  .colab-df-quickchart {\n",
              "    background-color: #E8F0FE;\n",
              "    border: none;\n",
              "    border-radius: 50%;\n",
              "    cursor: pointer;\n",
              "    display: none;\n",
              "    fill: #1967D2;\n",
              "    height: 32px;\n",
              "    padding: 0 0 0 0;\n",
              "    width: 32px;\n",
              "  }\n",
              "\n",
              "  .colab-df-quickchart:hover {\n",
              "    background-color: #E2EBFA;\n",
              "    box-shadow: 0px 1px 2px rgba(60, 64, 67, 0.3), 0px 1px 3px 1px rgba(60, 64, 67, 0.15);\n",
              "    fill: #174EA6;\n",
              "  }\n",
              "\n",
              "  [theme=dark] .colab-df-quickchart {\n",
              "    background-color: #3B4455;\n",
              "    fill: #D2E3FC;\n",
              "  }\n",
              "\n",
              "  [theme=dark] .colab-df-quickchart:hover {\n",
              "    background-color: #434B5C;\n",
              "    box-shadow: 0px 1px 3px 1px rgba(0, 0, 0, 0.15);\n",
              "    filter: drop-shadow(0px 1px 2px rgba(0, 0, 0, 0.3));\n",
              "    fill: #FFFFFF;\n",
              "  }\n",
              "</style>\n",
              "\n",
              "    <script>\n",
              "      async function quickchart(key) {\n",
              "        const containerElement = document.querySelector('#' + key);\n",
              "        const charts = await google.colab.kernel.invokeFunction(\n",
              "            'suggestCharts', [key], {});\n",
              "      }\n",
              "    </script>\n",
              "\n",
              "      <script>\n",
              "\n",
              "function displayQuickchartButton(domScope) {\n",
              "  let quickchartButtonEl =\n",
              "    domScope.querySelector('#df-482069cc-765a-4750-8e6b-d3aa0dfaa32a button.colab-df-quickchart');\n",
              "  quickchartButtonEl.style.display =\n",
              "    google.colab.kernel.accessAllowed ? 'block' : 'none';\n",
              "}\n",
              "\n",
              "        displayQuickchartButton(document);\n",
              "      </script>\n",
              "      <style>\n",
              "    .colab-df-container {\n",
              "      display:flex;\n",
              "      flex-wrap:wrap;\n",
              "      gap: 12px;\n",
              "    }\n",
              "\n",
              "    .colab-df-convert {\n",
              "      background-color: #E8F0FE;\n",
              "      border: none;\n",
              "      border-radius: 50%;\n",
              "      cursor: pointer;\n",
              "      display: none;\n",
              "      fill: #1967D2;\n",
              "      height: 32px;\n",
              "      padding: 0 0 0 0;\n",
              "      width: 32px;\n",
              "    }\n",
              "\n",
              "    .colab-df-convert:hover {\n",
              "      background-color: #E2EBFA;\n",
              "      box-shadow: 0px 1px 2px rgba(60, 64, 67, 0.3), 0px 1px 3px 1px rgba(60, 64, 67, 0.15);\n",
              "      fill: #174EA6;\n",
              "    }\n",
              "\n",
              "    [theme=dark] .colab-df-convert {\n",
              "      background-color: #3B4455;\n",
              "      fill: #D2E3FC;\n",
              "    }\n",
              "\n",
              "    [theme=dark] .colab-df-convert:hover {\n",
              "      background-color: #434B5C;\n",
              "      box-shadow: 0px 1px 3px 1px rgba(0, 0, 0, 0.15);\n",
              "      filter: drop-shadow(0px 1px 2px rgba(0, 0, 0, 0.3));\n",
              "      fill: #FFFFFF;\n",
              "    }\n",
              "  </style>\n",
              "\n",
              "      <script>\n",
              "        const buttonEl =\n",
              "          document.querySelector('#df-4961cac5-9f16-4ed4-bebb-35961f1939ad button.colab-df-convert');\n",
              "        buttonEl.style.display =\n",
              "          google.colab.kernel.accessAllowed ? 'block' : 'none';\n",
              "\n",
              "        async function convertToInteractive(key) {\n",
              "          const element = document.querySelector('#df-4961cac5-9f16-4ed4-bebb-35961f1939ad');\n",
              "          const dataTable =\n",
              "            await google.colab.kernel.invokeFunction('convertToInteractive',\n",
              "                                                     [key], {});\n",
              "          if (!dataTable) return;\n",
              "\n",
              "          const docLinkHtml = 'Like what you see? Visit the ' +\n",
              "            '<a target=\"_blank\" href=https://colab.research.google.com/notebooks/data_table.ipynb>data table notebook</a>'\n",
              "            + ' to learn more about interactive tables.';\n",
              "          element.innerHTML = '';\n",
              "          dataTable['output_type'] = 'display_data';\n",
              "          await google.colab.output.renderOutput(dataTable, element);\n",
              "          const docLink = document.createElement('div');\n",
              "          docLink.innerHTML = docLinkHtml;\n",
              "          element.appendChild(docLink);\n",
              "        }\n",
              "      </script>\n",
              "    </div>\n",
              "  </div>\n"
            ]
          },
          "metadata": {},
          "execution_count": 2
        }
      ]
    },
    {
      "cell_type": "code",
      "source": [
        "df.shape"
      ],
      "metadata": {
        "colab": {
          "base_uri": "https://localhost:8080/"
        },
        "id": "f1gCOGuyWzeP",
        "outputId": "67dc8f96-0e98-429d-91bd-97b0eaadd5ec"
      },
      "execution_count": null,
      "outputs": [
        {
          "output_type": "execute_result",
          "data": {
            "text/plain": [
              "(174658, 20)"
            ]
          },
          "metadata": {},
          "execution_count": 3
        }
      ]
    },
    {
      "cell_type": "code",
      "source": [
        "print(df.columns.values)"
      ],
      "metadata": {
        "colab": {
          "base_uri": "https://localhost:8080/"
        },
        "id": "VeI9VhoWWzf_",
        "outputId": "663a820b-7c9e-405e-eb9c-b82ca245ec44"
      },
      "execution_count": null,
      "outputs": [
        {
          "output_type": "stream",
          "name": "stdout",
          "text": [
            "['Timestamp' 'Longitude' 'Latitude' 'Speed' 'Operatorname' 'CellID'\n",
            " 'NetworkMode' 'RSRP' 'RSRQ' 'SNR' 'CQI' 'RSSI' 'DL_bitrate' 'UL_bitrate'\n",
            " 'State' 'NRxRSRP' 'NRxRSRQ' 'ServingCell_Lon' 'ServingCell_Lat'\n",
            " 'ServingCell_Distance']\n"
          ]
        }
      ]
    },
    {
      "cell_type": "code",
      "source": [
        "for i in df.columns:\n",
        "\n",
        "  if df[i].isnull().sum()>0:\n",
        "    df[i].fillna(df[i].mode()[0],inplace=True)"
      ],
      "metadata": {
        "id": "q_RkMFKwWzlY"
      },
      "execution_count": null,
      "outputs": []
    },
    {
      "cell_type": "code",
      "source": [
        "df.isnull().sum()"
      ],
      "metadata": {
        "colab": {
          "base_uri": "https://localhost:8080/"
        },
        "id": "ELjLY8GX0B22",
        "outputId": "4e9d0577-1eea-42fc-906d-1275d2eeac62"
      },
      "execution_count": null,
      "outputs": [
        {
          "output_type": "execute_result",
          "data": {
            "text/plain": [
              "Timestamp               0\n",
              "Longitude               0\n",
              "Latitude                0\n",
              "Speed                   0\n",
              "Operatorname            0\n",
              "CellID                  0\n",
              "NetworkMode             0\n",
              "RSRP                    0\n",
              "RSRQ                    0\n",
              "SNR                     0\n",
              "CQI                     0\n",
              "RSSI                    0\n",
              "DL_bitrate              0\n",
              "UL_bitrate              0\n",
              "State                   0\n",
              "NRxRSRP                 0\n",
              "NRxRSRQ                 0\n",
              "ServingCell_Lon         0\n",
              "ServingCell_Lat         0\n",
              "ServingCell_Distance    0\n",
              "dtype: int64"
            ]
          },
          "metadata": {},
          "execution_count": 6
        }
      ]
    },
    {
      "cell_type": "code",
      "source": [
        "df.drop(df.index[(df[\"Longitude\"] == \"Longitude\")],axis=0,inplace=True)    #REMOVING string VALUES"
      ],
      "metadata": {
        "id": "zqooq9_l-Hxp"
      },
      "execution_count": null,
      "outputs": []
    },
    {
      "cell_type": "code",
      "source": [
        "df.shape"
      ],
      "metadata": {
        "colab": {
          "base_uri": "https://localhost:8080/"
        },
        "id": "57jcyV0G4ybI",
        "outputId": "490972e5-d17b-46b8-c447-c1e433462c6b"
      },
      "execution_count": null,
      "outputs": [
        {
          "output_type": "execute_result",
          "data": {
            "text/plain": [
              "(174524, 20)"
            ]
          },
          "metadata": {},
          "execution_count": 8
        }
      ]
    },
    {
      "cell_type": "code",
      "source": [
        "df=df.drop(['Operatorname','NetworkMode','NRxRSRP','NRxRSRQ','Timestamp'], axis=1)"
      ],
      "metadata": {
        "id": "MJU24FFEDavS"
      },
      "execution_count": null,
      "outputs": []
    },
    {
      "cell_type": "code",
      "source": [
        "df.dtypes                     #rsrq,snr,rssi,cqi"
      ],
      "metadata": {
        "colab": {
          "base_uri": "https://localhost:8080/"
        },
        "id": "2S-zFK574yjG",
        "outputId": "09709ec7-30be-4ab4-b546-02c25f3c7002"
      },
      "execution_count": null,
      "outputs": [
        {
          "output_type": "execute_result",
          "data": {
            "text/plain": [
              "Longitude               object\n",
              "Latitude                object\n",
              "Speed                   object\n",
              "CellID                  object\n",
              "RSRP                    object\n",
              "RSRQ                    object\n",
              "SNR                     object\n",
              "CQI                     object\n",
              "RSSI                    object\n",
              "DL_bitrate              object\n",
              "UL_bitrate              object\n",
              "State                   object\n",
              "ServingCell_Lon         object\n",
              "ServingCell_Lat         object\n",
              "ServingCell_Distance    object\n",
              "dtype: object"
            ]
          },
          "metadata": {},
          "execution_count": 10
        }
      ]
    },
    {
      "cell_type": "code",
      "source": [
        "\n",
        "df['ServingCell_Distance'] = df['ServingCell_Distance'].replace(['-'], 0)"
      ],
      "metadata": {
        "id": "DVXjt6lZFzy8"
      },
      "execution_count": null,
      "outputs": []
    },
    {
      "cell_type": "code",
      "source": [
        "df['ServingCell_Distance'] = df['ServingCell_Distance'].replace(0,df[\"ServingCell_Distance\"].mode()[0])"
      ],
      "metadata": {
        "id": "EsPeqcdC0uS_"
      },
      "execution_count": null,
      "outputs": []
    },
    {
      "cell_type": "code",
      "source": [
        "df[\"ServingCell_Distance\"] = df[\"ServingCell_Distance\"].apply(pd.to_numeric)\n"
      ],
      "metadata": {
        "id": "cK0KuHj40uON"
      },
      "execution_count": null,
      "outputs": []
    },
    {
      "cell_type": "code",
      "source": [
        "df['ServingCell_Lon'] = df['ServingCell_Lon'].replace(['-'], 0)\n",
        "df['ServingCell_Lat'] = df['ServingCell_Lat'].replace(['-'], 0)\n",
        "df['RSRQ'] = df['RSRQ'].replace(['-'], 0)\n",
        "df['SNR'] = df['SNR'].replace(['-'], 0)\n",
        "df['CQI'] = df['CQI'].replace(['-'], 0)\n",
        "df['RSSI'] = df['RSSI'].replace(['-'], 0)"
      ],
      "metadata": {
        "id": "K8oMW6G60uZo"
      },
      "execution_count": null,
      "outputs": []
    },
    {
      "cell_type": "code",
      "source": [
        "df['State'] = df['State'].replace('D',1)\n",
        "df['State'] = df['State'].replace('I',0)"
      ],
      "metadata": {
        "id": "UZUbNvHfyU7r"
      },
      "execution_count": null,
      "outputs": []
    },
    {
      "cell_type": "code",
      "source": [
        "df[\"State\"] = df[\"State\"].apply(pd.to_numeric)\n"
      ],
      "metadata": {
        "id": "ID-RgFFMyiq9"
      },
      "execution_count": null,
      "outputs": []
    },
    {
      "cell_type": "code",
      "source": [
        "df[\"ServingCell_Lon\"] = df[\"ServingCell_Lon\"].apply(pd.to_numeric)\n",
        "df[\"ServingCell_Lat\"] = df[\"ServingCell_Lat\"].apply(pd.to_numeric)\n",
        "df[\"RSRQ\"] = df[\"RSRQ\"].apply(pd.to_numeric)\n",
        "df[\"RSSI\"] = df[\"RSSI\"].apply(pd.to_numeric)\n",
        "df[\"CQI\"] = df[\"CQI\"].apply(pd.to_numeric)\n",
        "df[\"SNR\"] = df[\"SNR\"].apply(pd.to_numeric)\n"
      ],
      "metadata": {
        "id": "3NiDWPnE0ucY"
      },
      "execution_count": null,
      "outputs": []
    },
    {
      "cell_type": "code",
      "source": [
        "df['ServingCell_Lon'] = df['ServingCell_Lon'].replace(0,df[\"ServingCell_Lon\"].mode()[0])\n",
        "df['ServingCell_Lat'] = df['ServingCell_Lat'].replace(0,df[\"ServingCell_Lat\"].mode()[0])\n",
        "df['RSRQ'] = df['RSRQ'].replace(0,df[\"RSRQ\"].mode()[0])\n",
        "df['SNR'] = df['SNR'].replace(0,df[\"SNR\"].mode()[0])\n",
        "df['CQI'] = df['CQI'].replace(0,df[\"CQI\"].mode()[0])\n",
        "df['RSSI'] = df['RSSI'].replace(0,df[\"RSSI\"].mode()[0])"
      ],
      "metadata": {
        "id": "WrOTfTfxu-Y4"
      },
      "execution_count": null,
      "outputs": []
    },
    {
      "cell_type": "code",
      "source": [
        "df[\"RSRP\"] = df[\"RSRP\"].apply(pd.to_numeric)\n",
        "df[\"Longitude\"] = df[\"Longitude\"] .apply(pd.to_numeric)\n",
        "df[\"Latitude\"] = df[\"Latitude\"] .apply(pd.to_numeric)\n",
        "df[\"Speed\"] = df[\"Speed\"].apply(pd.to_numeric)\n",
        "df[\"CellID\"] = df[\"CellID\"].apply(pd.to_numeric)\n",
        "df[\"DL_bitrate\"] = df[\"DL_bitrate\"].apply(pd.to_numeric)\n",
        "df[\"UL_bitrate\"] = df[\"UL_bitrate\"].apply(pd.to_numeric)\n",
        "\n"
      ],
      "metadata": {
        "id": "7k0Chok6Uegs"
      },
      "execution_count": null,
      "outputs": []
    },
    {
      "cell_type": "code",
      "source": [
        "df.dtypes"
      ],
      "metadata": {
        "colab": {
          "base_uri": "https://localhost:8080/"
        },
        "id": "wyMNuV9kUKSi",
        "outputId": "39da5900-89b8-497a-961c-e8a3775984e4"
      },
      "execution_count": null,
      "outputs": [
        {
          "output_type": "execute_result",
          "data": {
            "text/plain": [
              "Longitude               float64\n",
              "Latitude                float64\n",
              "Speed                     int64\n",
              "CellID                    int64\n",
              "RSRP                      int64\n",
              "RSRQ                      int64\n",
              "SNR                     float64\n",
              "CQI                       int64\n",
              "RSSI                      int64\n",
              "DL_bitrate                int64\n",
              "UL_bitrate                int64\n",
              "State                     int64\n",
              "ServingCell_Lon         float64\n",
              "ServingCell_Lat         float64\n",
              "ServingCell_Distance    float64\n",
              "dtype: object"
            ]
          },
          "metadata": {},
          "execution_count": 20
        }
      ]
    },
    {
      "cell_type": "code",
      "source": [
        "df.shape"
      ],
      "metadata": {
        "colab": {
          "base_uri": "https://localhost:8080/"
        },
        "id": "T12csAHVz7Wq",
        "outputId": "d19f5ceb-f6ce-4a09-cd75-b358a78e93b2"
      },
      "execution_count": null,
      "outputs": [
        {
          "output_type": "execute_result",
          "data": {
            "text/plain": [
              "(174524, 15)"
            ]
          },
          "metadata": {},
          "execution_count": 21
        }
      ]
    },
    {
      "cell_type": "code",
      "source": [
        "dups = df.duplicated()\n",
        "df[dups]"
      ],
      "metadata": {
        "id": "B4mtgHFoz7Ya",
        "colab": {
          "base_uri": "https://localhost:8080/",
          "height": 468
        },
        "outputId": "54962abd-e317-423a-bb99-a789d4729f85"
      },
      "execution_count": null,
      "outputs": [
        {
          "output_type": "execute_result",
          "data": {
            "text/plain": [
              "        Longitude   Latitude  Speed  CellID  RSRP  RSRQ   SNR  CQI  RSSI  \\\n",
              "3       -8.499733  51.893346      0       2   -95   -13  13.0    9   -80   \n",
              "5       -8.499887  51.893384      1       2   -95   -13  13.0    9   -80   \n",
              "160     -8.497641  51.894025      0       2   -94   -13  12.0    9   -77   \n",
              "265     -8.495939  51.894389      3       2   -98   -13   6.0    6   -83   \n",
              "492     -8.492823  51.895066      1       2  -101   -15   0.0    5   -85   \n",
              "...           ...        ...    ...     ...   ...   ...   ...  ...   ...   \n",
              "173044  -8.490956  51.934883     74   34317  -101    -2   0.0    0     0   \n",
              "173046  -8.490956  51.934883     74   34324  -101    -2   0.0    0     0   \n",
              "173082  -8.490956  51.934883     74       1  -100   -12  12.0   11     0   \n",
              "173848  -8.484568  51.896165      2       3   -72   -12  17.0   11   -55   \n",
              "174656  -8.500138  51.893262      0       3  -100   -12  16.0   13   -81   \n",
              "\n",
              "        DL_bitrate  UL_bitrate  State  ServingCell_Lon  ServingCell_Lat  \\\n",
              "3                0           0      0        -8.491719        51.893905   \n",
              "5                0           0      0        -8.491719        51.893905   \n",
              "160           5826         110      1        -8.491719        51.893905   \n",
              "265           3008          56      1        -8.491719        51.893905   \n",
              "492           1308          33      1        -8.491719        51.893905   \n",
              "...            ...         ...    ...              ...              ...   \n",
              "173044           0           0      0         0.000000         0.000000   \n",
              "173046           0           0      0        -8.513451        51.876173   \n",
              "173082       43103         756      1        -8.489758        51.928426   \n",
              "173848       45328         797      1        -8.483589        51.894878   \n",
              "174656       59364        1194      1        -8.499074        51.887362   \n",
              "\n",
              "        ServingCell_Distance  \n",
              "3                     553.43  \n",
              "5                     563.48  \n",
              "160                   406.59  \n",
              "265                   294.54  \n",
              "492                   149.68  \n",
              "...                      ...  \n",
              "173044                  0.00  \n",
              "173046               6708.18  \n",
              "173082                722.67  \n",
              "173848                158.09  \n",
              "174656                660.10  \n",
              "\n",
              "[9383 rows x 15 columns]"
            ],
            "text/html": [
              "\n",
              "\n",
              "  <div id=\"df-e3d2d2e8-baee-427f-858f-0602ddb8ec22\">\n",
              "    <div class=\"colab-df-container\">\n",
              "      <div>\n",
              "<style scoped>\n",
              "    .dataframe tbody tr th:only-of-type {\n",
              "        vertical-align: middle;\n",
              "    }\n",
              "\n",
              "    .dataframe tbody tr th {\n",
              "        vertical-align: top;\n",
              "    }\n",
              "\n",
              "    .dataframe thead th {\n",
              "        text-align: right;\n",
              "    }\n",
              "</style>\n",
              "<table border=\"1\" class=\"dataframe\">\n",
              "  <thead>\n",
              "    <tr style=\"text-align: right;\">\n",
              "      <th></th>\n",
              "      <th>Longitude</th>\n",
              "      <th>Latitude</th>\n",
              "      <th>Speed</th>\n",
              "      <th>CellID</th>\n",
              "      <th>RSRP</th>\n",
              "      <th>RSRQ</th>\n",
              "      <th>SNR</th>\n",
              "      <th>CQI</th>\n",
              "      <th>RSSI</th>\n",
              "      <th>DL_bitrate</th>\n",
              "      <th>UL_bitrate</th>\n",
              "      <th>State</th>\n",
              "      <th>ServingCell_Lon</th>\n",
              "      <th>ServingCell_Lat</th>\n",
              "      <th>ServingCell_Distance</th>\n",
              "    </tr>\n",
              "  </thead>\n",
              "  <tbody>\n",
              "    <tr>\n",
              "      <th>3</th>\n",
              "      <td>-8.499733</td>\n",
              "      <td>51.893346</td>\n",
              "      <td>0</td>\n",
              "      <td>2</td>\n",
              "      <td>-95</td>\n",
              "      <td>-13</td>\n",
              "      <td>13.0</td>\n",
              "      <td>9</td>\n",
              "      <td>-80</td>\n",
              "      <td>0</td>\n",
              "      <td>0</td>\n",
              "      <td>0</td>\n",
              "      <td>-8.491719</td>\n",
              "      <td>51.893905</td>\n",
              "      <td>553.43</td>\n",
              "    </tr>\n",
              "    <tr>\n",
              "      <th>5</th>\n",
              "      <td>-8.499887</td>\n",
              "      <td>51.893384</td>\n",
              "      <td>1</td>\n",
              "      <td>2</td>\n",
              "      <td>-95</td>\n",
              "      <td>-13</td>\n",
              "      <td>13.0</td>\n",
              "      <td>9</td>\n",
              "      <td>-80</td>\n",
              "      <td>0</td>\n",
              "      <td>0</td>\n",
              "      <td>0</td>\n",
              "      <td>-8.491719</td>\n",
              "      <td>51.893905</td>\n",
              "      <td>563.48</td>\n",
              "    </tr>\n",
              "    <tr>\n",
              "      <th>160</th>\n",
              "      <td>-8.497641</td>\n",
              "      <td>51.894025</td>\n",
              "      <td>0</td>\n",
              "      <td>2</td>\n",
              "      <td>-94</td>\n",
              "      <td>-13</td>\n",
              "      <td>12.0</td>\n",
              "      <td>9</td>\n",
              "      <td>-77</td>\n",
              "      <td>5826</td>\n",
              "      <td>110</td>\n",
              "      <td>1</td>\n",
              "      <td>-8.491719</td>\n",
              "      <td>51.893905</td>\n",
              "      <td>406.59</td>\n",
              "    </tr>\n",
              "    <tr>\n",
              "      <th>265</th>\n",
              "      <td>-8.495939</td>\n",
              "      <td>51.894389</td>\n",
              "      <td>3</td>\n",
              "      <td>2</td>\n",
              "      <td>-98</td>\n",
              "      <td>-13</td>\n",
              "      <td>6.0</td>\n",
              "      <td>6</td>\n",
              "      <td>-83</td>\n",
              "      <td>3008</td>\n",
              "      <td>56</td>\n",
              "      <td>1</td>\n",
              "      <td>-8.491719</td>\n",
              "      <td>51.893905</td>\n",
              "      <td>294.54</td>\n",
              "    </tr>\n",
              "    <tr>\n",
              "      <th>492</th>\n",
              "      <td>-8.492823</td>\n",
              "      <td>51.895066</td>\n",
              "      <td>1</td>\n",
              "      <td>2</td>\n",
              "      <td>-101</td>\n",
              "      <td>-15</td>\n",
              "      <td>0.0</td>\n",
              "      <td>5</td>\n",
              "      <td>-85</td>\n",
              "      <td>1308</td>\n",
              "      <td>33</td>\n",
              "      <td>1</td>\n",
              "      <td>-8.491719</td>\n",
              "      <td>51.893905</td>\n",
              "      <td>149.68</td>\n",
              "    </tr>\n",
              "    <tr>\n",
              "      <th>...</th>\n",
              "      <td>...</td>\n",
              "      <td>...</td>\n",
              "      <td>...</td>\n",
              "      <td>...</td>\n",
              "      <td>...</td>\n",
              "      <td>...</td>\n",
              "      <td>...</td>\n",
              "      <td>...</td>\n",
              "      <td>...</td>\n",
              "      <td>...</td>\n",
              "      <td>...</td>\n",
              "      <td>...</td>\n",
              "      <td>...</td>\n",
              "      <td>...</td>\n",
              "      <td>...</td>\n",
              "    </tr>\n",
              "    <tr>\n",
              "      <th>173044</th>\n",
              "      <td>-8.490956</td>\n",
              "      <td>51.934883</td>\n",
              "      <td>74</td>\n",
              "      <td>34317</td>\n",
              "      <td>-101</td>\n",
              "      <td>-2</td>\n",
              "      <td>0.0</td>\n",
              "      <td>0</td>\n",
              "      <td>0</td>\n",
              "      <td>0</td>\n",
              "      <td>0</td>\n",
              "      <td>0</td>\n",
              "      <td>0.000000</td>\n",
              "      <td>0.000000</td>\n",
              "      <td>0.00</td>\n",
              "    </tr>\n",
              "    <tr>\n",
              "      <th>173046</th>\n",
              "      <td>-8.490956</td>\n",
              "      <td>51.934883</td>\n",
              "      <td>74</td>\n",
              "      <td>34324</td>\n",
              "      <td>-101</td>\n",
              "      <td>-2</td>\n",
              "      <td>0.0</td>\n",
              "      <td>0</td>\n",
              "      <td>0</td>\n",
              "      <td>0</td>\n",
              "      <td>0</td>\n",
              "      <td>0</td>\n",
              "      <td>-8.513451</td>\n",
              "      <td>51.876173</td>\n",
              "      <td>6708.18</td>\n",
              "    </tr>\n",
              "    <tr>\n",
              "      <th>173082</th>\n",
              "      <td>-8.490956</td>\n",
              "      <td>51.934883</td>\n",
              "      <td>74</td>\n",
              "      <td>1</td>\n",
              "      <td>-100</td>\n",
              "      <td>-12</td>\n",
              "      <td>12.0</td>\n",
              "      <td>11</td>\n",
              "      <td>0</td>\n",
              "      <td>43103</td>\n",
              "      <td>756</td>\n",
              "      <td>1</td>\n",
              "      <td>-8.489758</td>\n",
              "      <td>51.928426</td>\n",
              "      <td>722.67</td>\n",
              "    </tr>\n",
              "    <tr>\n",
              "      <th>173848</th>\n",
              "      <td>-8.484568</td>\n",
              "      <td>51.896165</td>\n",
              "      <td>2</td>\n",
              "      <td>3</td>\n",
              "      <td>-72</td>\n",
              "      <td>-12</td>\n",
              "      <td>17.0</td>\n",
              "      <td>11</td>\n",
              "      <td>-55</td>\n",
              "      <td>45328</td>\n",
              "      <td>797</td>\n",
              "      <td>1</td>\n",
              "      <td>-8.483589</td>\n",
              "      <td>51.894878</td>\n",
              "      <td>158.09</td>\n",
              "    </tr>\n",
              "    <tr>\n",
              "      <th>174656</th>\n",
              "      <td>-8.500138</td>\n",
              "      <td>51.893262</td>\n",
              "      <td>0</td>\n",
              "      <td>3</td>\n",
              "      <td>-100</td>\n",
              "      <td>-12</td>\n",
              "      <td>16.0</td>\n",
              "      <td>13</td>\n",
              "      <td>-81</td>\n",
              "      <td>59364</td>\n",
              "      <td>1194</td>\n",
              "      <td>1</td>\n",
              "      <td>-8.499074</td>\n",
              "      <td>51.887362</td>\n",
              "      <td>660.10</td>\n",
              "    </tr>\n",
              "  </tbody>\n",
              "</table>\n",
              "<p>9383 rows × 15 columns</p>\n",
              "</div>\n",
              "      <button class=\"colab-df-convert\" onclick=\"convertToInteractive('df-e3d2d2e8-baee-427f-858f-0602ddb8ec22')\"\n",
              "              title=\"Convert this dataframe to an interactive table.\"\n",
              "              style=\"display:none;\">\n",
              "\n",
              "  <svg xmlns=\"http://www.w3.org/2000/svg\" height=\"24px\"viewBox=\"0 0 24 24\"\n",
              "       width=\"24px\">\n",
              "    <path d=\"M0 0h24v24H0V0z\" fill=\"none\"/>\n",
              "    <path d=\"M18.56 5.44l.94 2.06.94-2.06 2.06-.94-2.06-.94-.94-2.06-.94 2.06-2.06.94zm-11 1L8.5 8.5l.94-2.06 2.06-.94-2.06-.94L8.5 2.5l-.94 2.06-2.06.94zm10 10l.94 2.06.94-2.06 2.06-.94-2.06-.94-.94-2.06-.94 2.06-2.06.94z\"/><path d=\"M17.41 7.96l-1.37-1.37c-.4-.4-.92-.59-1.43-.59-.52 0-1.04.2-1.43.59L10.3 9.45l-7.72 7.72c-.78.78-.78 2.05 0 2.83L4 21.41c.39.39.9.59 1.41.59.51 0 1.02-.2 1.41-.59l7.78-7.78 2.81-2.81c.8-.78.8-2.07 0-2.86zM5.41 20L4 18.59l7.72-7.72 1.47 1.35L5.41 20z\"/>\n",
              "  </svg>\n",
              "      </button>\n",
              "\n",
              "\n",
              "\n",
              "    <div id=\"df-6c0e07ca-c36c-4a21-b2d4-b7bb740e4b0f\">\n",
              "      <button class=\"colab-df-quickchart\" onclick=\"quickchart('df-6c0e07ca-c36c-4a21-b2d4-b7bb740e4b0f')\"\n",
              "              title=\"Suggest charts.\"\n",
              "              style=\"display:none;\">\n",
              "\n",
              "<svg xmlns=\"http://www.w3.org/2000/svg\" height=\"24px\"viewBox=\"0 0 24 24\"\n",
              "     width=\"24px\">\n",
              "    <g>\n",
              "        <path d=\"M19 3H5c-1.1 0-2 .9-2 2v14c0 1.1.9 2 2 2h14c1.1 0 2-.9 2-2V5c0-1.1-.9-2-2-2zM9 17H7v-7h2v7zm4 0h-2V7h2v10zm4 0h-2v-4h2v4z\"/>\n",
              "    </g>\n",
              "</svg>\n",
              "      </button>\n",
              "    </div>\n",
              "\n",
              "<style>\n",
              "  .colab-df-quickchart {\n",
              "    background-color: #E8F0FE;\n",
              "    border: none;\n",
              "    border-radius: 50%;\n",
              "    cursor: pointer;\n",
              "    display: none;\n",
              "    fill: #1967D2;\n",
              "    height: 32px;\n",
              "    padding: 0 0 0 0;\n",
              "    width: 32px;\n",
              "  }\n",
              "\n",
              "  .colab-df-quickchart:hover {\n",
              "    background-color: #E2EBFA;\n",
              "    box-shadow: 0px 1px 2px rgba(60, 64, 67, 0.3), 0px 1px 3px 1px rgba(60, 64, 67, 0.15);\n",
              "    fill: #174EA6;\n",
              "  }\n",
              "\n",
              "  [theme=dark] .colab-df-quickchart {\n",
              "    background-color: #3B4455;\n",
              "    fill: #D2E3FC;\n",
              "  }\n",
              "\n",
              "  [theme=dark] .colab-df-quickchart:hover {\n",
              "    background-color: #434B5C;\n",
              "    box-shadow: 0px 1px 3px 1px rgba(0, 0, 0, 0.15);\n",
              "    filter: drop-shadow(0px 1px 2px rgba(0, 0, 0, 0.3));\n",
              "    fill: #FFFFFF;\n",
              "  }\n",
              "</style>\n",
              "\n",
              "    <script>\n",
              "      async function quickchart(key) {\n",
              "        const containerElement = document.querySelector('#' + key);\n",
              "        const charts = await google.colab.kernel.invokeFunction(\n",
              "            'suggestCharts', [key], {});\n",
              "      }\n",
              "    </script>\n",
              "\n",
              "      <script>\n",
              "\n",
              "function displayQuickchartButton(domScope) {\n",
              "  let quickchartButtonEl =\n",
              "    domScope.querySelector('#df-6c0e07ca-c36c-4a21-b2d4-b7bb740e4b0f button.colab-df-quickchart');\n",
              "  quickchartButtonEl.style.display =\n",
              "    google.colab.kernel.accessAllowed ? 'block' : 'none';\n",
              "}\n",
              "\n",
              "        displayQuickchartButton(document);\n",
              "      </script>\n",
              "      <style>\n",
              "    .colab-df-container {\n",
              "      display:flex;\n",
              "      flex-wrap:wrap;\n",
              "      gap: 12px;\n",
              "    }\n",
              "\n",
              "    .colab-df-convert {\n",
              "      background-color: #E8F0FE;\n",
              "      border: none;\n",
              "      border-radius: 50%;\n",
              "      cursor: pointer;\n",
              "      display: none;\n",
              "      fill: #1967D2;\n",
              "      height: 32px;\n",
              "      padding: 0 0 0 0;\n",
              "      width: 32px;\n",
              "    }\n",
              "\n",
              "    .colab-df-convert:hover {\n",
              "      background-color: #E2EBFA;\n",
              "      box-shadow: 0px 1px 2px rgba(60, 64, 67, 0.3), 0px 1px 3px 1px rgba(60, 64, 67, 0.15);\n",
              "      fill: #174EA6;\n",
              "    }\n",
              "\n",
              "    [theme=dark] .colab-df-convert {\n",
              "      background-color: #3B4455;\n",
              "      fill: #D2E3FC;\n",
              "    }\n",
              "\n",
              "    [theme=dark] .colab-df-convert:hover {\n",
              "      background-color: #434B5C;\n",
              "      box-shadow: 0px 1px 3px 1px rgba(0, 0, 0, 0.15);\n",
              "      filter: drop-shadow(0px 1px 2px rgba(0, 0, 0, 0.3));\n",
              "      fill: #FFFFFF;\n",
              "    }\n",
              "  </style>\n",
              "\n",
              "      <script>\n",
              "        const buttonEl =\n",
              "          document.querySelector('#df-e3d2d2e8-baee-427f-858f-0602ddb8ec22 button.colab-df-convert');\n",
              "        buttonEl.style.display =\n",
              "          google.colab.kernel.accessAllowed ? 'block' : 'none';\n",
              "\n",
              "        async function convertToInteractive(key) {\n",
              "          const element = document.querySelector('#df-e3d2d2e8-baee-427f-858f-0602ddb8ec22');\n",
              "          const dataTable =\n",
              "            await google.colab.kernel.invokeFunction('convertToInteractive',\n",
              "                                                     [key], {});\n",
              "          if (!dataTable) return;\n",
              "\n",
              "          const docLinkHtml = 'Like what you see? Visit the ' +\n",
              "            '<a target=\"_blank\" href=https://colab.research.google.com/notebooks/data_table.ipynb>data table notebook</a>'\n",
              "            + ' to learn more about interactive tables.';\n",
              "          element.innerHTML = '';\n",
              "          dataTable['output_type'] = 'display_data';\n",
              "          await google.colab.output.renderOutput(dataTable, element);\n",
              "          const docLink = document.createElement('div');\n",
              "          docLink.innerHTML = docLinkHtml;\n",
              "          element.appendChild(docLink);\n",
              "        }\n",
              "      </script>\n",
              "    </div>\n",
              "  </div>\n"
            ]
          },
          "metadata": {},
          "execution_count": 22
        }
      ]
    },
    {
      "cell_type": "code",
      "source": [
        "df.drop_duplicates(keep=False, inplace=True)"
      ],
      "metadata": {
        "id": "FuGRTCuaz7ak"
      },
      "execution_count": null,
      "outputs": []
    },
    {
      "cell_type": "code",
      "source": [
        "df.shape"
      ],
      "metadata": {
        "id": "aI_DzIL1z7cG",
        "colab": {
          "base_uri": "https://localhost:8080/"
        },
        "outputId": "a0b9ab6e-af30-4c4d-e1e2-9f35e8d0cef3"
      },
      "execution_count": null,
      "outputs": [
        {
          "output_type": "execute_result",
          "data": {
            "text/plain": [
              "(158916, 15)"
            ]
          },
          "metadata": {},
          "execution_count": 24
        }
      ]
    },
    {
      "cell_type": "code",
      "source": [
        "'''       SAVE TIME\n",
        "\n",
        "import plotly.express as px\n",
        "\n",
        "for col in df.columns:\n",
        "  fig=px.box(df,y=col)\n",
        "  fig.show()\n",
        "\n",
        "  '''"
      ],
      "metadata": {
        "id": "l04lPEwgz7fg",
        "colab": {
          "base_uri": "https://localhost:8080/",
          "height": 35
        },
        "outputId": "0d14c2a2-8909-42e7-e1c1-8296cea9b230"
      },
      "execution_count": null,
      "outputs": [
        {
          "output_type": "execute_result",
          "data": {
            "text/plain": [
              "'       SAVE TIME\\n\\nimport plotly.express as px\\n\\nfor col in df.columns:\\n  fig=px.box(df,y=col)\\n  fig.show()\\n\\n  '"
            ],
            "application/vnd.google.colaboratory.intrinsic+json": {
              "type": "string"
            }
          },
          "metadata": {},
          "execution_count": 25
        }
      ]
    },
    {
      "cell_type": "code",
      "source": [
        "for col in df.columns:                        #calc z score and number of outliers ---- not many outliers so we ignore.\n",
        "  if df[col].dtypes!=object:\n",
        "    print(col)\n",
        "    u=df[col].mean() + 3*df[col].std()\n",
        "    l=df[col].mean() - 3*df[col].std()\n",
        "    print(\"Upper limit\",u)\n",
        "    print(\"Lower limit\",l)\n",
        "    print(len(df[(df[col] > u) | (df[col]< l)]))"
      ],
      "metadata": {
        "id": "O-OdrVqqgdUF",
        "colab": {
          "base_uri": "https://localhost:8080/"
        },
        "outputId": "b193326c-2313-4155-e1d6-47c55a124f01"
      },
      "execution_count": null,
      "outputs": [
        {
          "output_type": "stream",
          "name": "stdout",
          "text": [
            "Longitude\n",
            "Upper limit -7.3861366489427205\n",
            "Lower limit -9.563384929186604\n",
            "4206\n",
            "Latitude\n",
            "Upper limit 52.734919174495815\n",
            "Lower limit 51.224034848082155\n",
            "6684\n",
            "Speed\n",
            "Upper limit 128.29178255217266\n",
            "Lower limit -76.01367336241202\n",
            "3966\n",
            "CellID\n",
            "Upper limit 35350.26712445113\n",
            "Lower limit -28278.77311503735\n",
            "5792\n",
            "RSRP\n",
            "Upper limit -44.60475283545407\n",
            "Lower limit -138.70114461980532\n",
            "16\n",
            "RSRQ\n",
            "Upper limit 5.910954316761451\n",
            "Lower limit -25.715920462398138\n",
            "2\n",
            "SNR\n",
            "Upper limit 25.477544199777896\n",
            "Lower limit -17.624879899141078\n",
            "709\n",
            "CQI\n",
            "Upper limit 19.175770312734787\n",
            "Lower limit -7.219541865001394\n",
            "0\n",
            "RSSI\n",
            "Upper limit 62.900686009919646\n",
            "Lower limit -169.11158988366427\n",
            "0\n",
            "DL_bitrate\n",
            "Upper limit 55034.143350255305\n",
            "Lower limit -31541.367053343733\n",
            "2949\n",
            "UL_bitrate\n",
            "Upper limit 871.3636887356301\n",
            "Lower limit -470.6235744614223\n",
            "2681\n",
            "State\n",
            "Upper limit 1.4605308926584981\n",
            "Lower limit 0.4851385175959758\n",
            "4317\n",
            "ServingCell_Lon\n",
            "Upper limit 4.813948484574485\n",
            "Lower limit -17.542328452066744\n",
            "0\n",
            "ServingCell_Lat\n",
            "Upper limit 106.58657368943801\n",
            "Lower limit -29.10506582796402\n",
            "0\n",
            "ServingCell_Distance\n",
            "Upper limit 44567.04875498762\n",
            "Lower limit -36562.286985751045\n",
            "5481\n"
          ]
        }
      ]
    },
    {
      "cell_type": "code",
      "source": [
        "df.columns"
      ],
      "metadata": {
        "id": "6fi7Crtkfm1e",
        "colab": {
          "base_uri": "https://localhost:8080/"
        },
        "outputId": "6a5b1e86-c186-4f83-b61e-c612970f1aa9"
      },
      "execution_count": null,
      "outputs": [
        {
          "output_type": "execute_result",
          "data": {
            "text/plain": [
              "Index(['Longitude', 'Latitude', 'Speed', 'CellID', 'RSRP', 'RSRQ', 'SNR',\n",
              "       'CQI', 'RSSI', 'DL_bitrate', 'UL_bitrate', 'State', 'ServingCell_Lon',\n",
              "       'ServingCell_Lat', 'ServingCell_Distance'],\n",
              "      dtype='object')"
            ]
          },
          "metadata": {},
          "execution_count": 27
        }
      ]
    },
    {
      "cell_type": "code",
      "source": [
        "#splitting x and y\n",
        "X=df.iloc[:,:]\n",
        "X=X.drop(['State'],axis=1)\n",
        "X.shape"
      ],
      "metadata": {
        "colab": {
          "base_uri": "https://localhost:8080/"
        },
        "id": "jm_okTiYwu3j",
        "outputId": "476f6bf6-cfd3-4145-964a-a32e20e8356f"
      },
      "execution_count": null,
      "outputs": [
        {
          "output_type": "execute_result",
          "data": {
            "text/plain": [
              "(158916, 14)"
            ]
          },
          "metadata": {},
          "execution_count": 28
        }
      ]
    },
    {
      "cell_type": "code",
      "source": [
        "y=df['State']\n",
        "y.shape"
      ],
      "metadata": {
        "colab": {
          "base_uri": "https://localhost:8080/"
        },
        "id": "qn2vpVCQwvHw",
        "outputId": "81cde1a8-9d0d-4afd-ab38-be59d9b870f8"
      },
      "execution_count": null,
      "outputs": [
        {
          "output_type": "execute_result",
          "data": {
            "text/plain": [
              "(158916,)"
            ]
          },
          "metadata": {},
          "execution_count": 29
        }
      ]
    },
    {
      "cell_type": "code",
      "source": [
        "y.head()"
      ],
      "metadata": {
        "colab": {
          "base_uri": "https://localhost:8080/"
        },
        "id": "aBqaPYKyxtRt",
        "outputId": "0a9c651d-826a-4fea-e8d8-6a9543502e42"
      },
      "execution_count": null,
      "outputs": [
        {
          "output_type": "execute_result",
          "data": {
            "text/plain": [
              "0    1\n",
              "1    0\n",
              "6    0\n",
              "7    1\n",
              "8    1\n",
              "Name: State, dtype: int64"
            ]
          },
          "metadata": {},
          "execution_count": 30
        }
      ]
    },
    {
      "cell_type": "code",
      "source": [
        "from sklearn.model_selection import train_test_split\n",
        "X_train, X_test, y_train, y_test = train_test_split(X, y, test_size=0.3, random_state=42)\n",
        "print('X_train : ')\n",
        "print(X_train.head())\n",
        "print('')\n",
        "print('X_test : ')\n",
        "print(X_test.head())\n",
        "print('')\n",
        "print('y_train : ')\n",
        "print(y_train.head())\n",
        "print('')\n",
        "print('y_test : ')\n",
        "print(y_test.head())"
      ],
      "metadata": {
        "colab": {
          "base_uri": "https://localhost:8080/"
        },
        "id": "fFSpoqngwvJ0",
        "outputId": "332daf73-2067-4a9e-e297-c1b5bb5ba8c8"
      },
      "execution_count": null,
      "outputs": [
        {
          "output_type": "stream",
          "name": "stdout",
          "text": [
            "X_train : \n",
            "       Longitude   Latitude  Speed  CellID  RSRP  RSRQ  SNR  CQI  RSSI  \\\n",
            "81309  -8.485373  51.897197      0    5306   -63    -2  0.0    0     0   \n",
            "76729  -8.462424  51.896592     35   40450   -65    -2  0.0    0     0   \n",
            "33484  -8.501377  51.892998      1       2  -108   -15  0.0    8   -91   \n",
            "8125   -8.501781  51.893346      2       8  -109   -15  8.0    8   -92   \n",
            "49016  -8.495834  51.894385      2       2  -103   -14  0.0    7   -86   \n",
            "\n",
            "       DL_bitrate  UL_bitrate  ServingCell_Lon  ServingCell_Lat  \\\n",
            "81309        6363         118         0.000000         0.000000   \n",
            "76729       13868         253         0.000000         0.000000   \n",
            "33484         548          14        -8.491719        51.893905   \n",
            "8125         9528         175         0.000000         0.000000   \n",
            "49016       14382         266        -8.491719        51.893905   \n",
            "\n",
            "       ServingCell_Distance  \n",
            "81309                  0.00  \n",
            "76729                  0.00  \n",
            "33484                670.37  \n",
            "8125                   0.00  \n",
            "49016                287.37  \n",
            "\n",
            "X_test : \n",
            "        Longitude   Latitude  Speed  CellID  RSRP  RSRQ   SNR  CQI  RSSI  \\\n",
            "153629  -8.388103  51.935555      0       3   -90   -12  24.0   12     0   \n",
            "1353    -8.480401  51.898695      2       0   -70   -14   3.0    7   -55   \n",
            "144053  -8.482422  51.897052      0       1   -87   -12  18.0   14   -67   \n",
            "113810  -8.594032  51.888420      0       1  -108   -16  -2.0    6   -89   \n",
            "32608   -8.499976  51.893397      6       8  -103   -15   6.0    9   -86   \n",
            "\n",
            "        DL_bitrate  UL_bitrate  ServingCell_Lon  ServingCell_Lat  \\\n",
            "153629       29738         625        -8.398621        51.924689   \n",
            "1353          6352         122        -8.478788        51.895249   \n",
            "144053       44724         779        -8.480411        51.895074   \n",
            "113810        1465          34        -8.605111        51.885012   \n",
            "32608         3858          71         0.000000         0.000000   \n",
            "\n",
            "        ServingCell_Distance  \n",
            "153629               1407.10  \n",
            "1353                  398.84  \n",
            "144053                259.65  \n",
            "113810                849.57  \n",
            "32608                   0.00  \n",
            "\n",
            "y_train : \n",
            "81309    1\n",
            "76729    1\n",
            "33484    1\n",
            "8125     1\n",
            "49016    1\n",
            "Name: State, dtype: int64\n",
            "\n",
            "y_test : \n",
            "153629    1\n",
            "1353      1\n",
            "144053    1\n",
            "113810    1\n",
            "32608     1\n",
            "Name: State, dtype: int64\n"
          ]
        }
      ]
    },
    {
      "cell_type": "code",
      "source": [
        "print('X_train : ')\n",
        "print(X_train.shape)\n",
        "print('')\n",
        "print('X_test : ')\n",
        "print(X_test.shape)\n",
        "print('')\n",
        "print('y_train : ')\n",
        "print(y_train.shape)\n",
        "print('')\n",
        "print('y_test : ')\n",
        "print(y_test.shape)"
      ],
      "metadata": {
        "colab": {
          "base_uri": "https://localhost:8080/"
        },
        "id": "NQqMX7ZzwvNf",
        "outputId": "bbe3187d-cc44-4564-cf44-fd6d840ff633"
      },
      "execution_count": null,
      "outputs": [
        {
          "output_type": "stream",
          "name": "stdout",
          "text": [
            "X_train : \n",
            "(111241, 14)\n",
            "\n",
            "X_test : \n",
            "(47675, 14)\n",
            "\n",
            "y_train : \n",
            "(111241,)\n",
            "\n",
            "y_test : \n",
            "(47675,)\n"
          ]
        }
      ]
    },
    {
      "cell_type": "code",
      "source": [
        "#RANDOM FOREST CLASSIFIER\n",
        "\n",
        "from sklearn.ensemble import RandomForestClassifier\n",
        "from sklearn.datasets import make_classification\n"
      ],
      "metadata": {
        "id": "WnETYmaawvPi"
      },
      "execution_count": null,
      "outputs": []
    },
    {
      "cell_type": "code",
      "source": [
        "rf = RandomForestClassifier(random_state=0, n_estimators=500)\n",
        "rf.fit(X, y)\n",
        "print(rf.predict(X_test))"
      ],
      "metadata": {
        "id": "WxHDVhmbwvS4",
        "colab": {
          "base_uri": "https://localhost:8080/"
        },
        "outputId": "1e27d832-af4f-4237-f49e-1e0b7d9d98b4"
      },
      "execution_count": null,
      "outputs": [
        {
          "output_type": "stream",
          "name": "stdout",
          "text": [
            "[1 1 1 ... 1 1 1]\n"
          ]
        }
      ]
    },
    {
      "cell_type": "code",
      "source": [
        "(rf.predict(X_test) == 0).sum().sum()"
      ],
      "metadata": {
        "id": "I81B3Khmwvaf",
        "colab": {
          "base_uri": "https://localhost:8080/"
        },
        "outputId": "072bb11d-5967-4b89-d7ea-2fb3920f2963"
      },
      "execution_count": null,
      "outputs": [
        {
          "output_type": "execute_result",
          "data": {
            "text/plain": [
              "1306"
            ]
          },
          "metadata": {},
          "execution_count": 35
        }
      ]
    },
    {
      "cell_type": "code",
      "source": [
        "from sklearn.metrics import mean_squared_error\n",
        "from sklearn.metrics import mean_absolute_error\n",
        "import math\n",
        "# Given values\n",
        "Y_true = y_test  # Y_true = Y (original values)\n",
        "\n",
        "# calculated values\n",
        "y_pred = rf.predict(X_test)  # Y_pred = Y'\n",
        "\n",
        "# Calculation of Mean Squared Error (MSE)\n",
        "mse=mean_squared_error(Y_true,y_pred)\n",
        "rmse = math.sqrt(mse)\n",
        "print(mse)\n",
        "print(\"The difference between actual and predicted values\", rmse)\n",
        "print(mean_absolute_error(y_test, y_pred))"
      ],
      "metadata": {
        "colab": {
          "base_uri": "https://localhost:8080/"
        },
        "id": "qxU_ZYHX30nF",
        "outputId": "1e581373-8bd8-4778-8d4b-863bacafb116"
      },
      "execution_count": null,
      "outputs": [
        {
          "output_type": "stream",
          "name": "stdout",
          "text": [
            "0.0005873099108547456\n",
            "The difference between actual and predicted values 0.024234477730183203\n",
            "0.0005873099108547456\n"
          ]
        }
      ]
    },
    {
      "cell_type": "code",
      "source": [
        "#K MEANS CLUSTERING"
      ],
      "metadata": {
        "id": "DQgiGBMQ30pl"
      },
      "execution_count": null,
      "outputs": []
    },
    {
      "cell_type": "code",
      "source": [
        "X1=df.iloc[:,:]\n",
        "y1=df['State']"
      ],
      "metadata": {
        "id": "vGY4C9nBM2dH"
      },
      "execution_count": null,
      "outputs": []
    },
    {
      "cell_type": "code",
      "source": [
        "X1.columns"
      ],
      "metadata": {
        "colab": {
          "base_uri": "https://localhost:8080/"
        },
        "id": "AFzEK5LLNMfA",
        "outputId": "3055f1b4-49a3-4bc5-8ec8-75110a2470a9"
      },
      "execution_count": null,
      "outputs": [
        {
          "output_type": "execute_result",
          "data": {
            "text/plain": [
              "Index(['Longitude', 'Latitude', 'Speed', 'CellID', 'RSRP', 'RSRQ', 'SNR',\n",
              "       'CQI', 'RSSI', 'DL_bitrate', 'UL_bitrate', 'State', 'ServingCell_Lon',\n",
              "       'ServingCell_Lat', 'ServingCell_Distance'],\n",
              "      dtype='object')"
            ]
          },
          "metadata": {},
          "execution_count": 40
        }
      ]
    },
    {
      "cell_type": "code",
      "source": [
        "cols = X1.columns\n",
        "\n",
        "from sklearn.preprocessing import MinMaxScaler\n",
        "\n",
        "ms = MinMaxScaler()\n",
        "\n",
        "X1 = ms.fit_transform(X1)\n",
        "\n",
        "X1 = pd.DataFrame(X1, columns=[cols])\n",
        "\n",
        "X1.head()\n",
        "\n"
      ],
      "metadata": {
        "colab": {
          "base_uri": "https://localhost:8080/",
          "height": 270
        },
        "id": "ONbbqrFcM2fn",
        "outputId": "bdbc2aea-2478-40f3-9955-b9a0f9a08d3c"
      },
      "execution_count": null,
      "outputs": [
        {
          "output_type": "execute_result",
          "data": {
            "text/plain": [
              "  Longitude  Latitude     Speed    CellID      RSRP      RSRQ       SNR  \\\n",
              "0  0.330952  0.014876  0.000000  0.000031  0.606936  0.354839  0.548387   \n",
              "1  0.330952  0.014876  0.000000  0.000031  0.606936  0.354839  0.516129   \n",
              "2  0.330896  0.014909  0.006024  0.000031  0.595376  0.354839  0.451613   \n",
              "3  0.330896  0.014909  0.006024  0.000031  0.595376  0.354839  0.451613   \n",
              "4  0.330973  0.014976  0.000000  0.000031  0.595376  0.354839  0.451613   \n",
              "\n",
              "        CQI      RSSI DL_bitrate UL_bitrate State ServingCell_Lon  \\\n",
              "0  0.666667  0.148936   0.000000   0.000000   1.0        0.180582   \n",
              "1  0.533333  0.170213   0.000000   0.000000   0.0        0.180582   \n",
              "2  0.600000  0.148936   0.000000   0.000000   0.0        0.180582   \n",
              "3  0.600000  0.148936   0.012421   0.019866   1.0        0.180582   \n",
              "4  0.600000  0.148936   0.012421   0.019866   1.0        0.180582   \n",
              "\n",
              "  ServingCell_Lat ServingCell_Distance  \n",
              "0        0.967922             0.002475  \n",
              "1        0.967922             0.002475  \n",
              "2        0.967922             0.002530  \n",
              "3        0.967922             0.002530  \n",
              "4        0.967922             0.002447  "
            ],
            "text/html": [
              "\n",
              "\n",
              "  <div id=\"df-4b9f2a89-24fe-436b-832a-6f52e39a28da\">\n",
              "    <div class=\"colab-df-container\">\n",
              "      <div>\n",
              "<style scoped>\n",
              "    .dataframe tbody tr th:only-of-type {\n",
              "        vertical-align: middle;\n",
              "    }\n",
              "\n",
              "    .dataframe tbody tr th {\n",
              "        vertical-align: top;\n",
              "    }\n",
              "\n",
              "    .dataframe thead tr th {\n",
              "        text-align: left;\n",
              "    }\n",
              "</style>\n",
              "<table border=\"1\" class=\"dataframe\">\n",
              "  <thead>\n",
              "    <tr>\n",
              "      <th></th>\n",
              "      <th>Longitude</th>\n",
              "      <th>Latitude</th>\n",
              "      <th>Speed</th>\n",
              "      <th>CellID</th>\n",
              "      <th>RSRP</th>\n",
              "      <th>RSRQ</th>\n",
              "      <th>SNR</th>\n",
              "      <th>CQI</th>\n",
              "      <th>RSSI</th>\n",
              "      <th>DL_bitrate</th>\n",
              "      <th>UL_bitrate</th>\n",
              "      <th>State</th>\n",
              "      <th>ServingCell_Lon</th>\n",
              "      <th>ServingCell_Lat</th>\n",
              "      <th>ServingCell_Distance</th>\n",
              "    </tr>\n",
              "  </thead>\n",
              "  <tbody>\n",
              "    <tr>\n",
              "      <th>0</th>\n",
              "      <td>0.330952</td>\n",
              "      <td>0.014876</td>\n",
              "      <td>0.000000</td>\n",
              "      <td>0.000031</td>\n",
              "      <td>0.606936</td>\n",
              "      <td>0.354839</td>\n",
              "      <td>0.548387</td>\n",
              "      <td>0.666667</td>\n",
              "      <td>0.148936</td>\n",
              "      <td>0.000000</td>\n",
              "      <td>0.000000</td>\n",
              "      <td>1.0</td>\n",
              "      <td>0.180582</td>\n",
              "      <td>0.967922</td>\n",
              "      <td>0.002475</td>\n",
              "    </tr>\n",
              "    <tr>\n",
              "      <th>1</th>\n",
              "      <td>0.330952</td>\n",
              "      <td>0.014876</td>\n",
              "      <td>0.000000</td>\n",
              "      <td>0.000031</td>\n",
              "      <td>0.606936</td>\n",
              "      <td>0.354839</td>\n",
              "      <td>0.516129</td>\n",
              "      <td>0.533333</td>\n",
              "      <td>0.170213</td>\n",
              "      <td>0.000000</td>\n",
              "      <td>0.000000</td>\n",
              "      <td>0.0</td>\n",
              "      <td>0.180582</td>\n",
              "      <td>0.967922</td>\n",
              "      <td>0.002475</td>\n",
              "    </tr>\n",
              "    <tr>\n",
              "      <th>2</th>\n",
              "      <td>0.330896</td>\n",
              "      <td>0.014909</td>\n",
              "      <td>0.006024</td>\n",
              "      <td>0.000031</td>\n",
              "      <td>0.595376</td>\n",
              "      <td>0.354839</td>\n",
              "      <td>0.451613</td>\n",
              "      <td>0.600000</td>\n",
              "      <td>0.148936</td>\n",
              "      <td>0.000000</td>\n",
              "      <td>0.000000</td>\n",
              "      <td>0.0</td>\n",
              "      <td>0.180582</td>\n",
              "      <td>0.967922</td>\n",
              "      <td>0.002530</td>\n",
              "    </tr>\n",
              "    <tr>\n",
              "      <th>3</th>\n",
              "      <td>0.330896</td>\n",
              "      <td>0.014909</td>\n",
              "      <td>0.006024</td>\n",
              "      <td>0.000031</td>\n",
              "      <td>0.595376</td>\n",
              "      <td>0.354839</td>\n",
              "      <td>0.451613</td>\n",
              "      <td>0.600000</td>\n",
              "      <td>0.148936</td>\n",
              "      <td>0.012421</td>\n",
              "      <td>0.019866</td>\n",
              "      <td>1.0</td>\n",
              "      <td>0.180582</td>\n",
              "      <td>0.967922</td>\n",
              "      <td>0.002530</td>\n",
              "    </tr>\n",
              "    <tr>\n",
              "      <th>4</th>\n",
              "      <td>0.330973</td>\n",
              "      <td>0.014976</td>\n",
              "      <td>0.000000</td>\n",
              "      <td>0.000031</td>\n",
              "      <td>0.595376</td>\n",
              "      <td>0.354839</td>\n",
              "      <td>0.451613</td>\n",
              "      <td>0.600000</td>\n",
              "      <td>0.148936</td>\n",
              "      <td>0.012421</td>\n",
              "      <td>0.019866</td>\n",
              "      <td>1.0</td>\n",
              "      <td>0.180582</td>\n",
              "      <td>0.967922</td>\n",
              "      <td>0.002447</td>\n",
              "    </tr>\n",
              "  </tbody>\n",
              "</table>\n",
              "</div>\n",
              "      <button class=\"colab-df-convert\" onclick=\"convertToInteractive('df-4b9f2a89-24fe-436b-832a-6f52e39a28da')\"\n",
              "              title=\"Convert this dataframe to an interactive table.\"\n",
              "              style=\"display:none;\">\n",
              "\n",
              "  <svg xmlns=\"http://www.w3.org/2000/svg\" height=\"24px\"viewBox=\"0 0 24 24\"\n",
              "       width=\"24px\">\n",
              "    <path d=\"M0 0h24v24H0V0z\" fill=\"none\"/>\n",
              "    <path d=\"M18.56 5.44l.94 2.06.94-2.06 2.06-.94-2.06-.94-.94-2.06-.94 2.06-2.06.94zm-11 1L8.5 8.5l.94-2.06 2.06-.94-2.06-.94L8.5 2.5l-.94 2.06-2.06.94zm10 10l.94 2.06.94-2.06 2.06-.94-2.06-.94-.94-2.06-.94 2.06-2.06.94z\"/><path d=\"M17.41 7.96l-1.37-1.37c-.4-.4-.92-.59-1.43-.59-.52 0-1.04.2-1.43.59L10.3 9.45l-7.72 7.72c-.78.78-.78 2.05 0 2.83L4 21.41c.39.39.9.59 1.41.59.51 0 1.02-.2 1.41-.59l7.78-7.78 2.81-2.81c.8-.78.8-2.07 0-2.86zM5.41 20L4 18.59l7.72-7.72 1.47 1.35L5.41 20z\"/>\n",
              "  </svg>\n",
              "      </button>\n",
              "\n",
              "\n",
              "\n",
              "    <div id=\"df-efe3fff9-db50-42f0-a87e-af5e8f21dbb1\">\n",
              "      <button class=\"colab-df-quickchart\" onclick=\"quickchart('df-efe3fff9-db50-42f0-a87e-af5e8f21dbb1')\"\n",
              "              title=\"Suggest charts.\"\n",
              "              style=\"display:none;\">\n",
              "\n",
              "<svg xmlns=\"http://www.w3.org/2000/svg\" height=\"24px\"viewBox=\"0 0 24 24\"\n",
              "     width=\"24px\">\n",
              "    <g>\n",
              "        <path d=\"M19 3H5c-1.1 0-2 .9-2 2v14c0 1.1.9 2 2 2h14c1.1 0 2-.9 2-2V5c0-1.1-.9-2-2-2zM9 17H7v-7h2v7zm4 0h-2V7h2v10zm4 0h-2v-4h2v4z\"/>\n",
              "    </g>\n",
              "</svg>\n",
              "      </button>\n",
              "    </div>\n",
              "\n",
              "<style>\n",
              "  .colab-df-quickchart {\n",
              "    background-color: #E8F0FE;\n",
              "    border: none;\n",
              "    border-radius: 50%;\n",
              "    cursor: pointer;\n",
              "    display: none;\n",
              "    fill: #1967D2;\n",
              "    height: 32px;\n",
              "    padding: 0 0 0 0;\n",
              "    width: 32px;\n",
              "  }\n",
              "\n",
              "  .colab-df-quickchart:hover {\n",
              "    background-color: #E2EBFA;\n",
              "    box-shadow: 0px 1px 2px rgba(60, 64, 67, 0.3), 0px 1px 3px 1px rgba(60, 64, 67, 0.15);\n",
              "    fill: #174EA6;\n",
              "  }\n",
              "\n",
              "  [theme=dark] .colab-df-quickchart {\n",
              "    background-color: #3B4455;\n",
              "    fill: #D2E3FC;\n",
              "  }\n",
              "\n",
              "  [theme=dark] .colab-df-quickchart:hover {\n",
              "    background-color: #434B5C;\n",
              "    box-shadow: 0px 1px 3px 1px rgba(0, 0, 0, 0.15);\n",
              "    filter: drop-shadow(0px 1px 2px rgba(0, 0, 0, 0.3));\n",
              "    fill: #FFFFFF;\n",
              "  }\n",
              "</style>\n",
              "\n",
              "    <script>\n",
              "      async function quickchart(key) {\n",
              "        const containerElement = document.querySelector('#' + key);\n",
              "        const charts = await google.colab.kernel.invokeFunction(\n",
              "            'suggestCharts', [key], {});\n",
              "      }\n",
              "    </script>\n",
              "\n",
              "      <script>\n",
              "\n",
              "function displayQuickchartButton(domScope) {\n",
              "  let quickchartButtonEl =\n",
              "    domScope.querySelector('#df-efe3fff9-db50-42f0-a87e-af5e8f21dbb1 button.colab-df-quickchart');\n",
              "  quickchartButtonEl.style.display =\n",
              "    google.colab.kernel.accessAllowed ? 'block' : 'none';\n",
              "}\n",
              "\n",
              "        displayQuickchartButton(document);\n",
              "      </script>\n",
              "      <style>\n",
              "    .colab-df-container {\n",
              "      display:flex;\n",
              "      flex-wrap:wrap;\n",
              "      gap: 12px;\n",
              "    }\n",
              "\n",
              "    .colab-df-convert {\n",
              "      background-color: #E8F0FE;\n",
              "      border: none;\n",
              "      border-radius: 50%;\n",
              "      cursor: pointer;\n",
              "      display: none;\n",
              "      fill: #1967D2;\n",
              "      height: 32px;\n",
              "      padding: 0 0 0 0;\n",
              "      width: 32px;\n",
              "    }\n",
              "\n",
              "    .colab-df-convert:hover {\n",
              "      background-color: #E2EBFA;\n",
              "      box-shadow: 0px 1px 2px rgba(60, 64, 67, 0.3), 0px 1px 3px 1px rgba(60, 64, 67, 0.15);\n",
              "      fill: #174EA6;\n",
              "    }\n",
              "\n",
              "    [theme=dark] .colab-df-convert {\n",
              "      background-color: #3B4455;\n",
              "      fill: #D2E3FC;\n",
              "    }\n",
              "\n",
              "    [theme=dark] .colab-df-convert:hover {\n",
              "      background-color: #434B5C;\n",
              "      box-shadow: 0px 1px 3px 1px rgba(0, 0, 0, 0.15);\n",
              "      filter: drop-shadow(0px 1px 2px rgba(0, 0, 0, 0.3));\n",
              "      fill: #FFFFFF;\n",
              "    }\n",
              "  </style>\n",
              "\n",
              "      <script>\n",
              "        const buttonEl =\n",
              "          document.querySelector('#df-4b9f2a89-24fe-436b-832a-6f52e39a28da button.colab-df-convert');\n",
              "        buttonEl.style.display =\n",
              "          google.colab.kernel.accessAllowed ? 'block' : 'none';\n",
              "\n",
              "        async function convertToInteractive(key) {\n",
              "          const element = document.querySelector('#df-4b9f2a89-24fe-436b-832a-6f52e39a28da');\n",
              "          const dataTable =\n",
              "            await google.colab.kernel.invokeFunction('convertToInteractive',\n",
              "                                                     [key], {});\n",
              "          if (!dataTable) return;\n",
              "\n",
              "          const docLinkHtml = 'Like what you see? Visit the ' +\n",
              "            '<a target=\"_blank\" href=https://colab.research.google.com/notebooks/data_table.ipynb>data table notebook</a>'\n",
              "            + ' to learn more about interactive tables.';\n",
              "          element.innerHTML = '';\n",
              "          dataTable['output_type'] = 'display_data';\n",
              "          await google.colab.output.renderOutput(dataTable, element);\n",
              "          const docLink = document.createElement('div');\n",
              "          docLink.innerHTML = docLinkHtml;\n",
              "          element.appendChild(docLink);\n",
              "        }\n",
              "      </script>\n",
              "    </div>\n",
              "  </div>\n"
            ]
          },
          "metadata": {},
          "execution_count": 41
        }
      ]
    },
    {
      "cell_type": "code",
      "source": [
        "\n",
        "\n",
        "from sklearn.cluster import KMeans\n",
        "\n",
        "kmeans = KMeans(n_clusters=4, random_state=0)\n",
        "\n",
        "kmeans.fit(X1)\n",
        "\n",
        "\n"
      ],
      "metadata": {
        "colab": {
          "base_uri": "https://localhost:8080/",
          "height": 129
        },
        "id": "qMebH0T0M2mO",
        "outputId": "1b785c44-84fb-449a-e77e-916ce7f89a1a"
      },
      "execution_count": null,
      "outputs": [
        {
          "output_type": "stream",
          "name": "stderr",
          "text": [
            "/usr/local/lib/python3.10/dist-packages/sklearn/cluster/_kmeans.py:870: FutureWarning: The default value of `n_init` will change from 10 to 'auto' in 1.4. Set the value of `n_init` explicitly to suppress the warning\n",
            "  warnings.warn(\n"
          ]
        },
        {
          "output_type": "execute_result",
          "data": {
            "text/plain": [
              "KMeans(n_clusters=4, random_state=0)"
            ],
            "text/html": [
              "<style>#sk-container-id-1 {color: black;background-color: white;}#sk-container-id-1 pre{padding: 0;}#sk-container-id-1 div.sk-toggleable {background-color: white;}#sk-container-id-1 label.sk-toggleable__label {cursor: pointer;display: block;width: 100%;margin-bottom: 0;padding: 0.3em;box-sizing: border-box;text-align: center;}#sk-container-id-1 label.sk-toggleable__label-arrow:before {content: \"▸\";float: left;margin-right: 0.25em;color: #696969;}#sk-container-id-1 label.sk-toggleable__label-arrow:hover:before {color: black;}#sk-container-id-1 div.sk-estimator:hover label.sk-toggleable__label-arrow:before {color: black;}#sk-container-id-1 div.sk-toggleable__content {max-height: 0;max-width: 0;overflow: hidden;text-align: left;background-color: #f0f8ff;}#sk-container-id-1 div.sk-toggleable__content pre {margin: 0.2em;color: black;border-radius: 0.25em;background-color: #f0f8ff;}#sk-container-id-1 input.sk-toggleable__control:checked~div.sk-toggleable__content {max-height: 200px;max-width: 100%;overflow: auto;}#sk-container-id-1 input.sk-toggleable__control:checked~label.sk-toggleable__label-arrow:before {content: \"▾\";}#sk-container-id-1 div.sk-estimator input.sk-toggleable__control:checked~label.sk-toggleable__label {background-color: #d4ebff;}#sk-container-id-1 div.sk-label input.sk-toggleable__control:checked~label.sk-toggleable__label {background-color: #d4ebff;}#sk-container-id-1 input.sk-hidden--visually {border: 0;clip: rect(1px 1px 1px 1px);clip: rect(1px, 1px, 1px, 1px);height: 1px;margin: -1px;overflow: hidden;padding: 0;position: absolute;width: 1px;}#sk-container-id-1 div.sk-estimator {font-family: monospace;background-color: #f0f8ff;border: 1px dotted black;border-radius: 0.25em;box-sizing: border-box;margin-bottom: 0.5em;}#sk-container-id-1 div.sk-estimator:hover {background-color: #d4ebff;}#sk-container-id-1 div.sk-parallel-item::after {content: \"\";width: 100%;border-bottom: 1px solid gray;flex-grow: 1;}#sk-container-id-1 div.sk-label:hover label.sk-toggleable__label {background-color: #d4ebff;}#sk-container-id-1 div.sk-serial::before {content: \"\";position: absolute;border-left: 1px solid gray;box-sizing: border-box;top: 0;bottom: 0;left: 50%;z-index: 0;}#sk-container-id-1 div.sk-serial {display: flex;flex-direction: column;align-items: center;background-color: white;padding-right: 0.2em;padding-left: 0.2em;position: relative;}#sk-container-id-1 div.sk-item {position: relative;z-index: 1;}#sk-container-id-1 div.sk-parallel {display: flex;align-items: stretch;justify-content: center;background-color: white;position: relative;}#sk-container-id-1 div.sk-item::before, #sk-container-id-1 div.sk-parallel-item::before {content: \"\";position: absolute;border-left: 1px solid gray;box-sizing: border-box;top: 0;bottom: 0;left: 50%;z-index: -1;}#sk-container-id-1 div.sk-parallel-item {display: flex;flex-direction: column;z-index: 1;position: relative;background-color: white;}#sk-container-id-1 div.sk-parallel-item:first-child::after {align-self: flex-end;width: 50%;}#sk-container-id-1 div.sk-parallel-item:last-child::after {align-self: flex-start;width: 50%;}#sk-container-id-1 div.sk-parallel-item:only-child::after {width: 0;}#sk-container-id-1 div.sk-dashed-wrapped {border: 1px dashed gray;margin: 0 0.4em 0.5em 0.4em;box-sizing: border-box;padding-bottom: 0.4em;background-color: white;}#sk-container-id-1 div.sk-label label {font-family: monospace;font-weight: bold;display: inline-block;line-height: 1.2em;}#sk-container-id-1 div.sk-label-container {text-align: center;}#sk-container-id-1 div.sk-container {/* jupyter's `normalize.less` sets `[hidden] { display: none; }` but bootstrap.min.css set `[hidden] { display: none !important; }` so we also need the `!important` here to be able to override the default hidden behavior on the sphinx rendered scikit-learn.org. See: https://github.com/scikit-learn/scikit-learn/issues/21755 */display: inline-block !important;position: relative;}#sk-container-id-1 div.sk-text-repr-fallback {display: none;}</style><div id=\"sk-container-id-1\" class=\"sk-top-container\"><div class=\"sk-text-repr-fallback\"><pre>KMeans(n_clusters=4, random_state=0)</pre><b>In a Jupyter environment, please rerun this cell to show the HTML representation or trust the notebook. <br />On GitHub, the HTML representation is unable to render, please try loading this page with nbviewer.org.</b></div><div class=\"sk-container\" hidden><div class=\"sk-item\"><div class=\"sk-estimator sk-toggleable\"><input class=\"sk-toggleable__control sk-hidden--visually\" id=\"sk-estimator-id-1\" type=\"checkbox\" checked><label for=\"sk-estimator-id-1\" class=\"sk-toggleable__label sk-toggleable__label-arrow\">KMeans</label><div class=\"sk-toggleable__content\"><pre>KMeans(n_clusters=4, random_state=0)</pre></div></div></div></div></div>"
            ]
          },
          "metadata": {},
          "execution_count": 42
        }
      ]
    },
    {
      "cell_type": "code",
      "source": [
        "\n",
        "\n",
        "kmeans.cluster_centers_\n",
        "\n"
      ],
      "metadata": {
        "colab": {
          "base_uri": "https://localhost:8080/"
        },
        "id": "iJjEhjuCM2oe",
        "outputId": "95ae9c02-ce2b-4aea-bc21-dd495d90b12b"
      },
      "execution_count": null,
      "outputs": [
        {
          "output_type": "execute_result",
          "data": {
            "text/plain": [
              "array([[ 3.29550934e-01,  3.59666523e-02,  1.07090460e-01,\n",
              "         3.07473228e-05,  5.95356991e-01,  3.66261452e-01,\n",
              "         5.74526368e-01,  5.49008044e-01,  1.55646587e-01,\n",
              "         8.67472960e-02,  5.97827975e-02,  9.78342693e-01,\n",
              "         1.75786908e-01,  9.68529884e-01,  2.13532681e-02],\n",
              "       [ 3.59581203e-01,  1.65528900e-01,  2.85679874e-01,\n",
              "         1.89190139e-01,  7.19507273e-01,  6.97532133e-01,\n",
              "         4.85414812e-01,  1.09459778e-02,  1.00000000e+00,\n",
              "         2.74342087e-02,  2.30256928e-02,  9.66560510e-01,\n",
              "         1.00000000e+00,  2.20601315e-13,  8.77770079e-16],\n",
              "       [ 3.35560668e-01,  9.55126204e-02,  2.08888159e-01,\n",
              "         1.13658572e-01,  6.44034291e-01,  5.29068622e-01,\n",
              "         5.14008630e-01,  2.61148513e-01,  9.99871747e-01,\n",
              "         4.83361526e-02,  3.56591868e-02,  9.71765565e-01,\n",
              "         1.80907505e-01,  9.70317838e-01,  3.82938593e-02],\n",
              "       [ 3.74686212e-01,  9.68877213e-02,  1.06831216e-01,\n",
              "         1.60029245e-04,  5.60129618e-01,  3.21489937e-01,\n",
              "         5.49632197e-01,  5.25973959e-01,  9.25779928e-02,\n",
              "         4.83035947e-02,  3.34817689e-02,  9.24347692e-01,\n",
              "         1.00000000e+00, -4.29656311e-14,  6.62664368e-16]])"
            ]
          },
          "metadata": {},
          "execution_count": 67
        }
      ]
    },
    {
      "cell_type": "code",
      "source": [
        "kmeans.inertia_"
      ],
      "metadata": {
        "colab": {
          "base_uri": "https://localhost:8080/"
        },
        "id": "oN34kK2aM2qt",
        "outputId": "5f1df88a-efb7-4bca-c0b7-c72020beb6c6"
      },
      "execution_count": null,
      "outputs": [
        {
          "output_type": "execute_result",
          "data": {
            "text/plain": [
              "33056.67170583633"
            ]
          },
          "metadata": {},
          "execution_count": 68
        }
      ]
    },
    {
      "cell_type": "code",
      "source": [
        "labels = kmeans.labels_\n",
        "\n",
        "# check how many of the samples were correctly labeled\n",
        "correct_labels = sum(y1 == labels)\n",
        "\n",
        "print(\"Result: %d out of %d samples were correctly labeled.\" % (correct_labels, y1.size))\n",
        "\n",
        "\n",
        "print('Accuracy score: {0:0.2f}'. format(correct_labels/float(y1.size)))\n",
        "\n",
        "\n"
      ],
      "metadata": {
        "colab": {
          "base_uri": "https://localhost:8080/"
        },
        "id": "KsdBtL_WM2s2",
        "outputId": "678ce575-5d01-4c04-c4a9-9ccf945f351f"
      },
      "execution_count": null,
      "outputs": [
        {
          "output_type": "stream",
          "name": "stdout",
          "text": [
            "Result: 34930 out of 158916 samples were correctly labeled.\n",
            "Accuracy score: 0.22\n"
          ]
        }
      ]
    },
    {
      "cell_type": "code",
      "source": [
        "from sklearn.cluster import KMeans\n",
        "\n",
        "kmeans = KMeans(n_clusters=5,random_state=0)\n",
        "\n",
        "kmeans.fit(X1)\n",
        "\n",
        "labels = kmeans.labels_\n",
        "\n",
        "# check how many of the samples were correctly labeled\n",
        "\n",
        "\n",
        "correct_labels = sum(y1 == labels)\n",
        "print(\"Result: %d out of %d samples were correctly labeled.\" % (correct_labels, y1.size))\n",
        "\n",
        "print('Accuracy score: {0:0.2f}'. format(correct_labels/float(y1.size)))\n",
        "\n"
      ],
      "metadata": {
        "colab": {
          "base_uri": "https://localhost:8080/"
        },
        "id": "ZloJWLVTbVEY",
        "outputId": "4e189611-1f57-40de-ce62-806b2dfe48c0"
      },
      "execution_count": null,
      "outputs": [
        {
          "output_type": "stream",
          "name": "stderr",
          "text": [
            "/usr/local/lib/python3.10/dist-packages/sklearn/cluster/_kmeans.py:870: FutureWarning: The default value of `n_init` will change from 10 to 'auto' in 1.4. Set the value of `n_init` explicitly to suppress the warning\n",
            "  warnings.warn(\n"
          ]
        },
        {
          "output_type": "stream",
          "name": "stdout",
          "text": [
            "Result: 34447 out of 158916 samples were correctly labeled.\n",
            "Accuracy score: 0.22\n"
          ]
        }
      ]
    }
  ]
}