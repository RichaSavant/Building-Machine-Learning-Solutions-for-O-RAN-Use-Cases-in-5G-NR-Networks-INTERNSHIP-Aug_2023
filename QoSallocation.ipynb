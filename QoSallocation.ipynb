{
  "nbformat": 4,
  "nbformat_minor": 0,
  "metadata": {
    "colab": {
      "provenance": []
    },
    "kernelspec": {
      "name": "python3",
      "display_name": "Python 3"
    },
    "language_info": {
      "name": "python"
    }
  },
  "cells": [
    {
      "cell_type": "code",
      "execution_count": 1,
      "metadata": {
        "id": "iSnN9Tf1yd8F",
        "colab": {
          "base_uri": "https://localhost:8080/"
        },
        "outputId": "d0d6a1e2-9afc-4974-e527-4ae05fb63d79"
      },
      "outputs": [
        {
          "output_type": "stream",
          "name": "stdout",
          "text": [
            "Drive already mounted at /content/drive; to attempt to forcibly remount, call drive.mount(\"/content/drive\", force_remount=True).\n"
          ]
        }
      ],
      "source": [
        "import numpy as np\n",
        "import pandas as pd\n",
        "import seaborn as sns\n",
        "import matplotlib.pyplot as plt\n",
        "import plotly.express as px\n",
        "\n",
        "from google.colab import drive\n",
        "drive.mount('/content/drive')"
      ]
    },
    {
      "cell_type": "code",
      "source": [
        "import pandas as pd\n",
        "\n",
        "df = pd.read_parquet(\"drive/My Drive/sidelink_dataframe.parquet\")\n",
        "df.to_csv('sidelink_dataframe.csv')\n",
        "df.head()\n"
      ],
      "metadata": {
        "id": "BP9JxEGJ0osk",
        "colab": {
          "base_uri": "https://localhost:8080/",
          "height": 435
        },
        "outputId": "00082e1b-2e62-4f62-931c-ae9e66774afd"
      },
      "execution_count": 2,
      "outputs": [
        {
          "output_type": "execute_result",
          "data": {
            "text/plain": [
              "                           Source  Destination Scenario    time_epoch  \\\n",
              "timestamp                                                               \n",
              "2021-06-22 09:51:48+02:00       2            4       S1  1.624348e+09   \n",
              "2021-06-22 09:51:48+02:00       4            2       S1  1.624348e+09   \n",
              "2021-06-22 09:51:49+02:00       4            2       S1  1.624348e+09   \n",
              "2021-06-22 09:51:49+02:00       2            4       S1  1.624348e+09   \n",
              "2021-06-22 09:51:50+02:00       4            2       S1  1.624348e+09   \n",
              "\n",
              "                                 SNR       RSRP       RSSI  NOISE POWER  \\\n",
              "timestamp                                                                 \n",
              "2021-06-22 09:51:48+02:00  14.144092 -71.160341 -41.737488     0.002013   \n",
              "2021-06-22 09:51:48+02:00  15.227671 -68.752400 -46.970770     0.004633   \n",
              "2021-06-22 09:51:49+02:00  15.273688 -67.572225 -45.746560     0.006282   \n",
              "2021-06-22 09:51:49+02:00  14.295098 -70.777137 -46.170142     0.002737   \n",
              "2021-06-22 09:51:50+02:00  15.494669 -69.356312 -47.530865     0.007427   \n",
              "\n",
              "                           RX_GAIN  SubFrame_NUMBER  ...  \\\n",
              "timestamp                                            ...   \n",
              "2021-06-22 09:51:48+02:00     44.0       426.941176  ...   \n",
              "2021-06-22 09:51:48+02:00     45.0       463.300000  ...   \n",
              "2021-06-22 09:51:49+02:00     45.0       102.500000  ...   \n",
              "2021-06-22 09:51:49+02:00     44.0       100.526316  ...   \n",
              "2021-06-22 09:51:50+02:00     45.0       200.294118  ...   \n",
              "\n",
              "                           Traffic_Distance_destination  \\\n",
              "timestamp                                                 \n",
              "2021-06-22 09:51:48+02:00                     16.470066   \n",
              "2021-06-22 09:51:48+02:00                      4.743369   \n",
              "2021-06-22 09:51:49+02:00                     17.991729   \n",
              "2021-06-22 09:51:49+02:00                      0.015063   \n",
              "2021-06-22 09:51:50+02:00                     17.263233   \n",
              "\n",
              "                           Pos_in_Ref_Round_destination  device_destination  \\\n",
              "timestamp                                                                     \n",
              "2021-06-22 09:51:48+02:00                  15118.046494                 pc4   \n",
              "2021-06-22 09:51:48+02:00                  15156.001352                 pc2   \n",
              "2021-06-22 09:51:49+02:00                  15143.190884                 pc2   \n",
              "2021-06-22 09:51:49+02:00                  15118.046494                 pc4   \n",
              "2021-06-22 09:51:50+02:00                  15130.561672                 pc2   \n",
              "\n",
              "                           area_destination syncref_source  \\\n",
              "timestamp                                                    \n",
              "2021-06-22 09:51:48+02:00            Avenue          False   \n",
              "2021-06-22 09:51:48+02:00            Avenue          False   \n",
              "2021-06-22 09:51:49+02:00            Avenue          False   \n",
              "2021-06-22 09:51:49+02:00            Avenue          False   \n",
              "2021-06-22 09:51:50+02:00            Avenue          False   \n",
              "\n",
              "                           syncref_destination   distance  \\\n",
              "timestamp                                                   \n",
              "2021-06-22 09:51:48+02:00                False  30.631466   \n",
              "2021-06-22 09:51:48+02:00                False  30.631466   \n",
              "2021-06-22 09:51:49+02:00                False  27.982724   \n",
              "2021-06-22 09:51:49+02:00                False  27.982724   \n",
              "2021-06-22 09:51:50+02:00                False  24.855905   \n",
              "\n",
              "                           Packet_transmission_rate_hz  Sub_channels  \\\n",
              "timestamp                                                              \n",
              "2021-06-22 09:51:48+02:00                           20             2   \n",
              "2021-06-22 09:51:48+02:00                           20             2   \n",
              "2021-06-22 09:51:49+02:00                           20             2   \n",
              "2021-06-22 09:51:49+02:00                           20             2   \n",
              "2021-06-22 09:51:50+02:00                           20             2   \n",
              "\n",
              "                           Packet_error_ratio  \n",
              "timestamp                                      \n",
              "2021-06-22 09:51:48+02:00                0.15  \n",
              "2021-06-22 09:51:48+02:00                0.00  \n",
              "2021-06-22 09:51:49+02:00                0.00  \n",
              "2021-06-22 09:51:49+02:00                0.05  \n",
              "2021-06-22 09:51:50+02:00                0.15  \n",
              "\n",
              "[5 rows x 66 columns]"
            ],
            "text/html": [
              "\n",
              "\n",
              "  <div id=\"df-e5a28459-2e20-4abe-97ef-9dc3ac246e4b\">\n",
              "    <div class=\"colab-df-container\">\n",
              "      <div>\n",
              "<style scoped>\n",
              "    .dataframe tbody tr th:only-of-type {\n",
              "        vertical-align: middle;\n",
              "    }\n",
              "\n",
              "    .dataframe tbody tr th {\n",
              "        vertical-align: top;\n",
              "    }\n",
              "\n",
              "    .dataframe thead th {\n",
              "        text-align: right;\n",
              "    }\n",
              "</style>\n",
              "<table border=\"1\" class=\"dataframe\">\n",
              "  <thead>\n",
              "    <tr style=\"text-align: right;\">\n",
              "      <th></th>\n",
              "      <th>Source</th>\n",
              "      <th>Destination</th>\n",
              "      <th>Scenario</th>\n",
              "      <th>time_epoch</th>\n",
              "      <th>SNR</th>\n",
              "      <th>RSRP</th>\n",
              "      <th>RSSI</th>\n",
              "      <th>NOISE POWER</th>\n",
              "      <th>RX_GAIN</th>\n",
              "      <th>SubFrame_NUMBER</th>\n",
              "      <th>...</th>\n",
              "      <th>Traffic_Distance_destination</th>\n",
              "      <th>Pos_in_Ref_Round_destination</th>\n",
              "      <th>device_destination</th>\n",
              "      <th>area_destination</th>\n",
              "      <th>syncref_source</th>\n",
              "      <th>syncref_destination</th>\n",
              "      <th>distance</th>\n",
              "      <th>Packet_transmission_rate_hz</th>\n",
              "      <th>Sub_channels</th>\n",
              "      <th>Packet_error_ratio</th>\n",
              "    </tr>\n",
              "    <tr>\n",
              "      <th>timestamp</th>\n",
              "      <th></th>\n",
              "      <th></th>\n",
              "      <th></th>\n",
              "      <th></th>\n",
              "      <th></th>\n",
              "      <th></th>\n",
              "      <th></th>\n",
              "      <th></th>\n",
              "      <th></th>\n",
              "      <th></th>\n",
              "      <th></th>\n",
              "      <th></th>\n",
              "      <th></th>\n",
              "      <th></th>\n",
              "      <th></th>\n",
              "      <th></th>\n",
              "      <th></th>\n",
              "      <th></th>\n",
              "      <th></th>\n",
              "      <th></th>\n",
              "      <th></th>\n",
              "    </tr>\n",
              "  </thead>\n",
              "  <tbody>\n",
              "    <tr>\n",
              "      <th>2021-06-22 09:51:48+02:00</th>\n",
              "      <td>2</td>\n",
              "      <td>4</td>\n",
              "      <td>S1</td>\n",
              "      <td>1.624348e+09</td>\n",
              "      <td>14.144092</td>\n",
              "      <td>-71.160341</td>\n",
              "      <td>-41.737488</td>\n",
              "      <td>0.002013</td>\n",
              "      <td>44.0</td>\n",
              "      <td>426.941176</td>\n",
              "      <td>...</td>\n",
              "      <td>16.470066</td>\n",
              "      <td>15118.046494</td>\n",
              "      <td>pc4</td>\n",
              "      <td>Avenue</td>\n",
              "      <td>False</td>\n",
              "      <td>False</td>\n",
              "      <td>30.631466</td>\n",
              "      <td>20</td>\n",
              "      <td>2</td>\n",
              "      <td>0.15</td>\n",
              "    </tr>\n",
              "    <tr>\n",
              "      <th>2021-06-22 09:51:48+02:00</th>\n",
              "      <td>4</td>\n",
              "      <td>2</td>\n",
              "      <td>S1</td>\n",
              "      <td>1.624348e+09</td>\n",
              "      <td>15.227671</td>\n",
              "      <td>-68.752400</td>\n",
              "      <td>-46.970770</td>\n",
              "      <td>0.004633</td>\n",
              "      <td>45.0</td>\n",
              "      <td>463.300000</td>\n",
              "      <td>...</td>\n",
              "      <td>4.743369</td>\n",
              "      <td>15156.001352</td>\n",
              "      <td>pc2</td>\n",
              "      <td>Avenue</td>\n",
              "      <td>False</td>\n",
              "      <td>False</td>\n",
              "      <td>30.631466</td>\n",
              "      <td>20</td>\n",
              "      <td>2</td>\n",
              "      <td>0.00</td>\n",
              "    </tr>\n",
              "    <tr>\n",
              "      <th>2021-06-22 09:51:49+02:00</th>\n",
              "      <td>4</td>\n",
              "      <td>2</td>\n",
              "      <td>S1</td>\n",
              "      <td>1.624348e+09</td>\n",
              "      <td>15.273688</td>\n",
              "      <td>-67.572225</td>\n",
              "      <td>-45.746560</td>\n",
              "      <td>0.006282</td>\n",
              "      <td>45.0</td>\n",
              "      <td>102.500000</td>\n",
              "      <td>...</td>\n",
              "      <td>17.991729</td>\n",
              "      <td>15143.190884</td>\n",
              "      <td>pc2</td>\n",
              "      <td>Avenue</td>\n",
              "      <td>False</td>\n",
              "      <td>False</td>\n",
              "      <td>27.982724</td>\n",
              "      <td>20</td>\n",
              "      <td>2</td>\n",
              "      <td>0.00</td>\n",
              "    </tr>\n",
              "    <tr>\n",
              "      <th>2021-06-22 09:51:49+02:00</th>\n",
              "      <td>2</td>\n",
              "      <td>4</td>\n",
              "      <td>S1</td>\n",
              "      <td>1.624348e+09</td>\n",
              "      <td>14.295098</td>\n",
              "      <td>-70.777137</td>\n",
              "      <td>-46.170142</td>\n",
              "      <td>0.002737</td>\n",
              "      <td>44.0</td>\n",
              "      <td>100.526316</td>\n",
              "      <td>...</td>\n",
              "      <td>0.015063</td>\n",
              "      <td>15118.046494</td>\n",
              "      <td>pc4</td>\n",
              "      <td>Avenue</td>\n",
              "      <td>False</td>\n",
              "      <td>False</td>\n",
              "      <td>27.982724</td>\n",
              "      <td>20</td>\n",
              "      <td>2</td>\n",
              "      <td>0.05</td>\n",
              "    </tr>\n",
              "    <tr>\n",
              "      <th>2021-06-22 09:51:50+02:00</th>\n",
              "      <td>4</td>\n",
              "      <td>2</td>\n",
              "      <td>S1</td>\n",
              "      <td>1.624348e+09</td>\n",
              "      <td>15.494669</td>\n",
              "      <td>-69.356312</td>\n",
              "      <td>-47.530865</td>\n",
              "      <td>0.007427</td>\n",
              "      <td>45.0</td>\n",
              "      <td>200.294118</td>\n",
              "      <td>...</td>\n",
              "      <td>17.263233</td>\n",
              "      <td>15130.561672</td>\n",
              "      <td>pc2</td>\n",
              "      <td>Avenue</td>\n",
              "      <td>False</td>\n",
              "      <td>False</td>\n",
              "      <td>24.855905</td>\n",
              "      <td>20</td>\n",
              "      <td>2</td>\n",
              "      <td>0.15</td>\n",
              "    </tr>\n",
              "  </tbody>\n",
              "</table>\n",
              "<p>5 rows × 66 columns</p>\n",
              "</div>\n",
              "      <button class=\"colab-df-convert\" onclick=\"convertToInteractive('df-e5a28459-2e20-4abe-97ef-9dc3ac246e4b')\"\n",
              "              title=\"Convert this dataframe to an interactive table.\"\n",
              "              style=\"display:none;\">\n",
              "\n",
              "  <svg xmlns=\"http://www.w3.org/2000/svg\" height=\"24px\"viewBox=\"0 0 24 24\"\n",
              "       width=\"24px\">\n",
              "    <path d=\"M0 0h24v24H0V0z\" fill=\"none\"/>\n",
              "    <path d=\"M18.56 5.44l.94 2.06.94-2.06 2.06-.94-2.06-.94-.94-2.06-.94 2.06-2.06.94zm-11 1L8.5 8.5l.94-2.06 2.06-.94-2.06-.94L8.5 2.5l-.94 2.06-2.06.94zm10 10l.94 2.06.94-2.06 2.06-.94-2.06-.94-.94-2.06-.94 2.06-2.06.94z\"/><path d=\"M17.41 7.96l-1.37-1.37c-.4-.4-.92-.59-1.43-.59-.52 0-1.04.2-1.43.59L10.3 9.45l-7.72 7.72c-.78.78-.78 2.05 0 2.83L4 21.41c.39.39.9.59 1.41.59.51 0 1.02-.2 1.41-.59l7.78-7.78 2.81-2.81c.8-.78.8-2.07 0-2.86zM5.41 20L4 18.59l7.72-7.72 1.47 1.35L5.41 20z\"/>\n",
              "  </svg>\n",
              "      </button>\n",
              "\n",
              "\n",
              "\n",
              "    <div id=\"df-b257bcc3-190e-41ef-9f7d-23dfecc3b8de\">\n",
              "      <button class=\"colab-df-quickchart\" onclick=\"quickchart('df-b257bcc3-190e-41ef-9f7d-23dfecc3b8de')\"\n",
              "              title=\"Suggest charts.\"\n",
              "              style=\"display:none;\">\n",
              "\n",
              "<svg xmlns=\"http://www.w3.org/2000/svg\" height=\"24px\"viewBox=\"0 0 24 24\"\n",
              "     width=\"24px\">\n",
              "    <g>\n",
              "        <path d=\"M19 3H5c-1.1 0-2 .9-2 2v14c0 1.1.9 2 2 2h14c1.1 0 2-.9 2-2V5c0-1.1-.9-2-2-2zM9 17H7v-7h2v7zm4 0h-2V7h2v10zm4 0h-2v-4h2v4z\"/>\n",
              "    </g>\n",
              "</svg>\n",
              "      </button>\n",
              "    </div>\n",
              "\n",
              "<style>\n",
              "  .colab-df-quickchart {\n",
              "    background-color: #E8F0FE;\n",
              "    border: none;\n",
              "    border-radius: 50%;\n",
              "    cursor: pointer;\n",
              "    display: none;\n",
              "    fill: #1967D2;\n",
              "    height: 32px;\n",
              "    padding: 0 0 0 0;\n",
              "    width: 32px;\n",
              "  }\n",
              "\n",
              "  .colab-df-quickchart:hover {\n",
              "    background-color: #E2EBFA;\n",
              "    box-shadow: 0px 1px 2px rgba(60, 64, 67, 0.3), 0px 1px 3px 1px rgba(60, 64, 67, 0.15);\n",
              "    fill: #174EA6;\n",
              "  }\n",
              "\n",
              "  [theme=dark] .colab-df-quickchart {\n",
              "    background-color: #3B4455;\n",
              "    fill: #D2E3FC;\n",
              "  }\n",
              "\n",
              "  [theme=dark] .colab-df-quickchart:hover {\n",
              "    background-color: #434B5C;\n",
              "    box-shadow: 0px 1px 3px 1px rgba(0, 0, 0, 0.15);\n",
              "    filter: drop-shadow(0px 1px 2px rgba(0, 0, 0, 0.3));\n",
              "    fill: #FFFFFF;\n",
              "  }\n",
              "</style>\n",
              "\n",
              "    <script>\n",
              "      async function quickchart(key) {\n",
              "        const containerElement = document.querySelector('#' + key);\n",
              "        const charts = await google.colab.kernel.invokeFunction(\n",
              "            'suggestCharts', [key], {});\n",
              "      }\n",
              "    </script>\n",
              "\n",
              "      <script>\n",
              "\n",
              "function displayQuickchartButton(domScope) {\n",
              "  let quickchartButtonEl =\n",
              "    domScope.querySelector('#df-b257bcc3-190e-41ef-9f7d-23dfecc3b8de button.colab-df-quickchart');\n",
              "  quickchartButtonEl.style.display =\n",
              "    google.colab.kernel.accessAllowed ? 'block' : 'none';\n",
              "}\n",
              "\n",
              "        displayQuickchartButton(document);\n",
              "      </script>\n",
              "      <style>\n",
              "    .colab-df-container {\n",
              "      display:flex;\n",
              "      flex-wrap:wrap;\n",
              "      gap: 12px;\n",
              "    }\n",
              "\n",
              "    .colab-df-convert {\n",
              "      background-color: #E8F0FE;\n",
              "      border: none;\n",
              "      border-radius: 50%;\n",
              "      cursor: pointer;\n",
              "      display: none;\n",
              "      fill: #1967D2;\n",
              "      height: 32px;\n",
              "      padding: 0 0 0 0;\n",
              "      width: 32px;\n",
              "    }\n",
              "\n",
              "    .colab-df-convert:hover {\n",
              "      background-color: #E2EBFA;\n",
              "      box-shadow: 0px 1px 2px rgba(60, 64, 67, 0.3), 0px 1px 3px 1px rgba(60, 64, 67, 0.15);\n",
              "      fill: #174EA6;\n",
              "    }\n",
              "\n",
              "    [theme=dark] .colab-df-convert {\n",
              "      background-color: #3B4455;\n",
              "      fill: #D2E3FC;\n",
              "    }\n",
              "\n",
              "    [theme=dark] .colab-df-convert:hover {\n",
              "      background-color: #434B5C;\n",
              "      box-shadow: 0px 1px 3px 1px rgba(0, 0, 0, 0.15);\n",
              "      filter: drop-shadow(0px 1px 2px rgba(0, 0, 0, 0.3));\n",
              "      fill: #FFFFFF;\n",
              "    }\n",
              "  </style>\n",
              "\n",
              "      <script>\n",
              "        const buttonEl =\n",
              "          document.querySelector('#df-e5a28459-2e20-4abe-97ef-9dc3ac246e4b button.colab-df-convert');\n",
              "        buttonEl.style.display =\n",
              "          google.colab.kernel.accessAllowed ? 'block' : 'none';\n",
              "\n",
              "        async function convertToInteractive(key) {\n",
              "          const element = document.querySelector('#df-e5a28459-2e20-4abe-97ef-9dc3ac246e4b');\n",
              "          const dataTable =\n",
              "            await google.colab.kernel.invokeFunction('convertToInteractive',\n",
              "                                                     [key], {});\n",
              "          if (!dataTable) return;\n",
              "\n",
              "          const docLinkHtml = 'Like what you see? Visit the ' +\n",
              "            '<a target=\"_blank\" href=https://colab.research.google.com/notebooks/data_table.ipynb>data table notebook</a>'\n",
              "            + ' to learn more about interactive tables.';\n",
              "          element.innerHTML = '';\n",
              "          dataTable['output_type'] = 'display_data';\n",
              "          await google.colab.output.renderOutput(dataTable, element);\n",
              "          const docLink = document.createElement('div');\n",
              "          docLink.innerHTML = docLinkHtml;\n",
              "          element.appendChild(docLink);\n",
              "        }\n",
              "      </script>\n",
              "    </div>\n",
              "  </div>\n"
            ]
          },
          "metadata": {},
          "execution_count": 2
        }
      ]
    },
    {
      "cell_type": "code",
      "source": [
        "df.shape"
      ],
      "metadata": {
        "id": "cyXS3jMx1HUH",
        "colab": {
          "base_uri": "https://localhost:8080/"
        },
        "outputId": "8a88e4ba-93cb-474f-cf77-caa1aa239c66"
      },
      "execution_count": 3,
      "outputs": [
        {
          "output_type": "execute_result",
          "data": {
            "text/plain": [
              "(325868, 66)"
            ]
          },
          "metadata": {},
          "execution_count": 3
        }
      ]
    },
    {
      "cell_type": "code",
      "source": [
        "print(df.columns.values)"
      ],
      "metadata": {
        "id": "w5HXzM-drT-s",
        "colab": {
          "base_uri": "https://localhost:8080/"
        },
        "outputId": "42fc4500-522f-4684-be5f-176e324fee33"
      },
      "execution_count": 4,
      "outputs": [
        {
          "output_type": "stream",
          "name": "stdout",
          "text": [
            "['Source' 'Destination' 'Scenario' 'time_epoch' 'SNR' 'RSRP' 'RSSI'\n",
            " 'NOISE POWER' 'RX_GAIN' 'SubFrame_NUMBER' 'SubFrame_LENGHT' 'Rx_power'\n",
            " 'MCS' 'Received Packets' 'ts_gps_source' 'Latitude_source'\n",
            " 'Longitude_source' 'Altitude_source' 'speed_kmh_source' 'COG_source'\n",
            " 'precipIntensity_source' 'precipProbability_source' 'temperature_source'\n",
            " 'apparentTemperature_source' 'dewPoint_source' 'humidity_source'\n",
            " 'pressure_source' 'windSpeed_source' 'cloudCover_source' 'uvIndex_source'\n",
            " 'visibility_source' 'Traffic_Jam_Factor_source'\n",
            " 'Traffic_Street_Name_source' 'Traffic_Distance_source'\n",
            " 'Pos_in_Ref_Round_source' 'device_source' 'area_source'\n",
            " 'ts_gps_destination' 'Latitude_destination' 'Longitude_destination'\n",
            " 'Altitude_destination' 'speed_kmh_destination' 'COG_destination'\n",
            " 'precipIntensity_destination' 'precipProbability_destination'\n",
            " 'temperature_destination' 'apparentTemperature_destination'\n",
            " 'dewPoint_destination' 'humidity_destination' 'pressure_destination'\n",
            " 'windSpeed_destination' 'cloudCover_destination' 'uvIndex_destination'\n",
            " 'visibility_destination' 'Traffic_Jam_Factor_destination'\n",
            " 'Traffic_Street_Name_destination' 'Traffic_Distance_destination'\n",
            " 'Pos_in_Ref_Round_destination' 'device_destination' 'area_destination'\n",
            " 'syncref_source' 'syncref_destination' 'distance'\n",
            " 'Packet_transmission_rate_hz' 'Sub_channels' 'Packet_error_ratio']\n"
          ]
        }
      ]
    },
    {
      "cell_type": "code",
      "source": [
        "df.dtypes #data type of each column"
      ],
      "metadata": {
        "id": "cBtGG4PasmuA",
        "colab": {
          "base_uri": "https://localhost:8080/"
        },
        "outputId": "87b50ee4-442c-452a-8ebd-633641cf4a7f"
      },
      "execution_count": 5,
      "outputs": [
        {
          "output_type": "execute_result",
          "data": {
            "text/plain": [
              "Source                           int32\n",
              "Destination                      int64\n",
              "Scenario                        object\n",
              "time_epoch                     float64\n",
              "SNR                            float64\n",
              "                                ...   \n",
              "syncref_destination               bool\n",
              "distance                       float64\n",
              "Packet_transmission_rate_hz      int64\n",
              "Sub_channels                     int64\n",
              "Packet_error_ratio             float64\n",
              "Length: 66, dtype: object"
            ]
          },
          "metadata": {},
          "execution_count": 5
        }
      ]
    },
    {
      "cell_type": "code",
      "source": [
        "df['Source'].values"
      ],
      "metadata": {
        "id": "aMtIQxUitrD1",
        "colab": {
          "base_uri": "https://localhost:8080/"
        },
        "outputId": "a7611a8d-bc63-4ad7-ea2c-1cbd6c07a4fe"
      },
      "execution_count": 6,
      "outputs": [
        {
          "output_type": "execute_result",
          "data": {
            "text/plain": [
              "array([2, 4, 4, ..., 4, 1, 4], dtype=int32)"
            ]
          },
          "metadata": {},
          "execution_count": 6
        }
      ]
    },
    {
      "cell_type": "code",
      "source": [
        "qos = df.filter([ 'Source' ,'Destination', 'SNR' ,'RSRP' ,'RSSI',\n",
        " 'NOISE POWER', 'RX_GAIN', 'SubFrame_NUMBER' 'SubFrame_LENGHT', 'Rx_power',\n",
        " 'MCS' ,'Received Packets', 'speed_kmh_destination' ,'distance',\n",
        " 'Packet_transmission_rate_hz', 'Sub_channels', 'Packet_error_ratio'], axis=1)"
      ],
      "metadata": {
        "id": "4EdnKetAtETk"
      },
      "execution_count": 7,
      "outputs": []
    },
    {
      "cell_type": "code",
      "source": [
        "for col in qos.columns:\n",
        "  if qos[col].isnull().sum()>0:\n",
        "    print(col)\n",
        "    print(qos[col].isnull().sum())"
      ],
      "metadata": {
        "id": "9fezbR-ntEU7"
      },
      "execution_count": 8,
      "outputs": []
    },
    {
      "cell_type": "code",
      "source": [
        "dups = qos.duplicated()\n",
        "qos[dups]"
      ],
      "metadata": {
        "id": "_w2SW5FktEYW",
        "colab": {
          "base_uri": "https://localhost:8080/",
          "height": 162
        },
        "outputId": "680bf2c0-bc69-43bb-c0de-5af3a91b0fd2"
      },
      "execution_count": 9,
      "outputs": [
        {
          "output_type": "execute_result",
          "data": {
            "text/plain": [
              "Empty DataFrame\n",
              "Columns: [Source, Destination, SNR, RSRP, RSSI, NOISE POWER, RX_GAIN, Rx_power, MCS, Received Packets, speed_kmh_destination, distance, Packet_transmission_rate_hz, Sub_channels, Packet_error_ratio]\n",
              "Index: []"
            ],
            "text/html": [
              "\n",
              "\n",
              "  <div id=\"df-b54e07b0-81d7-49c8-b6b0-7b0a4ca03e33\">\n",
              "    <div class=\"colab-df-container\">\n",
              "      <div>\n",
              "<style scoped>\n",
              "    .dataframe tbody tr th:only-of-type {\n",
              "        vertical-align: middle;\n",
              "    }\n",
              "\n",
              "    .dataframe tbody tr th {\n",
              "        vertical-align: top;\n",
              "    }\n",
              "\n",
              "    .dataframe thead th {\n",
              "        text-align: right;\n",
              "    }\n",
              "</style>\n",
              "<table border=\"1\" class=\"dataframe\">\n",
              "  <thead>\n",
              "    <tr style=\"text-align: right;\">\n",
              "      <th></th>\n",
              "      <th>Source</th>\n",
              "      <th>Destination</th>\n",
              "      <th>SNR</th>\n",
              "      <th>RSRP</th>\n",
              "      <th>RSSI</th>\n",
              "      <th>NOISE POWER</th>\n",
              "      <th>RX_GAIN</th>\n",
              "      <th>Rx_power</th>\n",
              "      <th>MCS</th>\n",
              "      <th>Received Packets</th>\n",
              "      <th>speed_kmh_destination</th>\n",
              "      <th>distance</th>\n",
              "      <th>Packet_transmission_rate_hz</th>\n",
              "      <th>Sub_channels</th>\n",
              "      <th>Packet_error_ratio</th>\n",
              "    </tr>\n",
              "    <tr>\n",
              "      <th>timestamp</th>\n",
              "      <th></th>\n",
              "      <th></th>\n",
              "      <th></th>\n",
              "      <th></th>\n",
              "      <th></th>\n",
              "      <th></th>\n",
              "      <th></th>\n",
              "      <th></th>\n",
              "      <th></th>\n",
              "      <th></th>\n",
              "      <th></th>\n",
              "      <th></th>\n",
              "      <th></th>\n",
              "      <th></th>\n",
              "      <th></th>\n",
              "    </tr>\n",
              "  </thead>\n",
              "  <tbody>\n",
              "  </tbody>\n",
              "</table>\n",
              "</div>\n",
              "      <button class=\"colab-df-convert\" onclick=\"convertToInteractive('df-b54e07b0-81d7-49c8-b6b0-7b0a4ca03e33')\"\n",
              "              title=\"Convert this dataframe to an interactive table.\"\n",
              "              style=\"display:none;\">\n",
              "\n",
              "  <svg xmlns=\"http://www.w3.org/2000/svg\" height=\"24px\"viewBox=\"0 0 24 24\"\n",
              "       width=\"24px\">\n",
              "    <path d=\"M0 0h24v24H0V0z\" fill=\"none\"/>\n",
              "    <path d=\"M18.56 5.44l.94 2.06.94-2.06 2.06-.94-2.06-.94-.94-2.06-.94 2.06-2.06.94zm-11 1L8.5 8.5l.94-2.06 2.06-.94-2.06-.94L8.5 2.5l-.94 2.06-2.06.94zm10 10l.94 2.06.94-2.06 2.06-.94-2.06-.94-.94-2.06-.94 2.06-2.06.94z\"/><path d=\"M17.41 7.96l-1.37-1.37c-.4-.4-.92-.59-1.43-.59-.52 0-1.04.2-1.43.59L10.3 9.45l-7.72 7.72c-.78.78-.78 2.05 0 2.83L4 21.41c.39.39.9.59 1.41.59.51 0 1.02-.2 1.41-.59l7.78-7.78 2.81-2.81c.8-.78.8-2.07 0-2.86zM5.41 20L4 18.59l7.72-7.72 1.47 1.35L5.41 20z\"/>\n",
              "  </svg>\n",
              "      </button>\n",
              "\n",
              "\n",
              "\n",
              "    <div id=\"df-bf7afb0c-a589-4fd0-bc03-f40cf62b8004\">\n",
              "      <button class=\"colab-df-quickchart\" onclick=\"quickchart('df-bf7afb0c-a589-4fd0-bc03-f40cf62b8004')\"\n",
              "              title=\"Suggest charts.\"\n",
              "              style=\"display:none;\">\n",
              "\n",
              "<svg xmlns=\"http://www.w3.org/2000/svg\" height=\"24px\"viewBox=\"0 0 24 24\"\n",
              "     width=\"24px\">\n",
              "    <g>\n",
              "        <path d=\"M19 3H5c-1.1 0-2 .9-2 2v14c0 1.1.9 2 2 2h14c1.1 0 2-.9 2-2V5c0-1.1-.9-2-2-2zM9 17H7v-7h2v7zm4 0h-2V7h2v10zm4 0h-2v-4h2v4z\"/>\n",
              "    </g>\n",
              "</svg>\n",
              "      </button>\n",
              "    </div>\n",
              "\n",
              "<style>\n",
              "  .colab-df-quickchart {\n",
              "    background-color: #E8F0FE;\n",
              "    border: none;\n",
              "    border-radius: 50%;\n",
              "    cursor: pointer;\n",
              "    display: none;\n",
              "    fill: #1967D2;\n",
              "    height: 32px;\n",
              "    padding: 0 0 0 0;\n",
              "    width: 32px;\n",
              "  }\n",
              "\n",
              "  .colab-df-quickchart:hover {\n",
              "    background-color: #E2EBFA;\n",
              "    box-shadow: 0px 1px 2px rgba(60, 64, 67, 0.3), 0px 1px 3px 1px rgba(60, 64, 67, 0.15);\n",
              "    fill: #174EA6;\n",
              "  }\n",
              "\n",
              "  [theme=dark] .colab-df-quickchart {\n",
              "    background-color: #3B4455;\n",
              "    fill: #D2E3FC;\n",
              "  }\n",
              "\n",
              "  [theme=dark] .colab-df-quickchart:hover {\n",
              "    background-color: #434B5C;\n",
              "    box-shadow: 0px 1px 3px 1px rgba(0, 0, 0, 0.15);\n",
              "    filter: drop-shadow(0px 1px 2px rgba(0, 0, 0, 0.3));\n",
              "    fill: #FFFFFF;\n",
              "  }\n",
              "</style>\n",
              "\n",
              "    <script>\n",
              "      async function quickchart(key) {\n",
              "        const containerElement = document.querySelector('#' + key);\n",
              "        const charts = await google.colab.kernel.invokeFunction(\n",
              "            'suggestCharts', [key], {});\n",
              "      }\n",
              "    </script>\n",
              "\n",
              "      <script>\n",
              "\n",
              "function displayQuickchartButton(domScope) {\n",
              "  let quickchartButtonEl =\n",
              "    domScope.querySelector('#df-bf7afb0c-a589-4fd0-bc03-f40cf62b8004 button.colab-df-quickchart');\n",
              "  quickchartButtonEl.style.display =\n",
              "    google.colab.kernel.accessAllowed ? 'block' : 'none';\n",
              "}\n",
              "\n",
              "        displayQuickchartButton(document);\n",
              "      </script>\n",
              "      <style>\n",
              "    .colab-df-container {\n",
              "      display:flex;\n",
              "      flex-wrap:wrap;\n",
              "      gap: 12px;\n",
              "    }\n",
              "\n",
              "    .colab-df-convert {\n",
              "      background-color: #E8F0FE;\n",
              "      border: none;\n",
              "      border-radius: 50%;\n",
              "      cursor: pointer;\n",
              "      display: none;\n",
              "      fill: #1967D2;\n",
              "      height: 32px;\n",
              "      padding: 0 0 0 0;\n",
              "      width: 32px;\n",
              "    }\n",
              "\n",
              "    .colab-df-convert:hover {\n",
              "      background-color: #E2EBFA;\n",
              "      box-shadow: 0px 1px 2px rgba(60, 64, 67, 0.3), 0px 1px 3px 1px rgba(60, 64, 67, 0.15);\n",
              "      fill: #174EA6;\n",
              "    }\n",
              "\n",
              "    [theme=dark] .colab-df-convert {\n",
              "      background-color: #3B4455;\n",
              "      fill: #D2E3FC;\n",
              "    }\n",
              "\n",
              "    [theme=dark] .colab-df-convert:hover {\n",
              "      background-color: #434B5C;\n",
              "      box-shadow: 0px 1px 3px 1px rgba(0, 0, 0, 0.15);\n",
              "      filter: drop-shadow(0px 1px 2px rgba(0, 0, 0, 0.3));\n",
              "      fill: #FFFFFF;\n",
              "    }\n",
              "  </style>\n",
              "\n",
              "      <script>\n",
              "        const buttonEl =\n",
              "          document.querySelector('#df-b54e07b0-81d7-49c8-b6b0-7b0a4ca03e33 button.colab-df-convert');\n",
              "        buttonEl.style.display =\n",
              "          google.colab.kernel.accessAllowed ? 'block' : 'none';\n",
              "\n",
              "        async function convertToInteractive(key) {\n",
              "          const element = document.querySelector('#df-b54e07b0-81d7-49c8-b6b0-7b0a4ca03e33');\n",
              "          const dataTable =\n",
              "            await google.colab.kernel.invokeFunction('convertToInteractive',\n",
              "                                                     [key], {});\n",
              "          if (!dataTable) return;\n",
              "\n",
              "          const docLinkHtml = 'Like what you see? Visit the ' +\n",
              "            '<a target=\"_blank\" href=https://colab.research.google.com/notebooks/data_table.ipynb>data table notebook</a>'\n",
              "            + ' to learn more about interactive tables.';\n",
              "          element.innerHTML = '';\n",
              "          dataTable['output_type'] = 'display_data';\n",
              "          await google.colab.output.renderOutput(dataTable, element);\n",
              "          const docLink = document.createElement('div');\n",
              "          docLink.innerHTML = docLinkHtml;\n",
              "          element.appendChild(docLink);\n",
              "        }\n",
              "      </script>\n",
              "    </div>\n",
              "  </div>\n"
            ]
          },
          "metadata": {},
          "execution_count": 9
        }
      ]
    },
    {
      "cell_type": "code",
      "source": [
        "qos.columns"
      ],
      "metadata": {
        "id": "ytL3CZ8atEaA",
        "colab": {
          "base_uri": "https://localhost:8080/"
        },
        "outputId": "a8ab599c-c5c0-4c78-be4e-3da2ffdb3384"
      },
      "execution_count": 10,
      "outputs": [
        {
          "output_type": "execute_result",
          "data": {
            "text/plain": [
              "Index(['Source', 'Destination', 'SNR', 'RSRP', 'RSSI', 'NOISE POWER',\n",
              "       'RX_GAIN', 'Rx_power', 'MCS', 'Received Packets',\n",
              "       'speed_kmh_destination', 'distance', 'Packet_transmission_rate_hz',\n",
              "       'Sub_channels', 'Packet_error_ratio'],\n",
              "      dtype='object')"
            ]
          },
          "metadata": {},
          "execution_count": 10
        }
      ]
    },
    {
      "cell_type": "code",
      "source": [
        "qos.dtypes"
      ],
      "metadata": {
        "id": "TOU93j_AtEdD",
        "colab": {
          "base_uri": "https://localhost:8080/"
        },
        "outputId": "94675b86-842e-42b5-e943-4a245cc5e1f7"
      },
      "execution_count": 11,
      "outputs": [
        {
          "output_type": "execute_result",
          "data": {
            "text/plain": [
              "Source                           int32\n",
              "Destination                      int64\n",
              "SNR                            float64\n",
              "RSRP                           float64\n",
              "RSSI                           float64\n",
              "NOISE POWER                    float64\n",
              "RX_GAIN                        float64\n",
              "Rx_power                       float64\n",
              "MCS                              int32\n",
              "Received Packets                 int64\n",
              "speed_kmh_destination          float64\n",
              "distance                       float64\n",
              "Packet_transmission_rate_hz      int64\n",
              "Sub_channels                     int64\n",
              "Packet_error_ratio             float64\n",
              "dtype: object"
            ]
          },
          "metadata": {},
          "execution_count": 11
        }
      ]
    },
    {
      "cell_type": "code",
      "source": [
        "import re\n",
        "qos= qos.rename(columns = lambda x:re.sub('[^A-Za-z0-9_]+', '', x))\n",
        "qos.head()"
      ],
      "metadata": {
        "id": "L5PfOGBftEeo",
        "colab": {
          "base_uri": "https://localhost:8080/",
          "height": 388
        },
        "outputId": "f53a0165-0aa4-4ea0-b8a3-fedce3696f10"
      },
      "execution_count": 12,
      "outputs": [
        {
          "output_type": "execute_result",
          "data": {
            "text/plain": [
              "                           Source  Destination        SNR       RSRP  \\\n",
              "timestamp                                                              \n",
              "2021-06-22 09:51:48+02:00       2            4  14.144092 -71.160341   \n",
              "2021-06-22 09:51:48+02:00       4            2  15.227671 -68.752400   \n",
              "2021-06-22 09:51:49+02:00       4            2  15.273688 -67.572225   \n",
              "2021-06-22 09:51:49+02:00       2            4  14.295098 -70.777137   \n",
              "2021-06-22 09:51:50+02:00       4            2  15.494669 -69.356312   \n",
              "\n",
              "                                RSSI  NOISEPOWER  RX_GAIN  Rx_power  MCS  \\\n",
              "timestamp                                                                  \n",
              "2021-06-22 09:51:48+02:00 -41.737488    0.002013     44.0  0.053156    8   \n",
              "2021-06-22 09:51:48+02:00 -46.970770    0.004633     45.0  0.098266    8   \n",
              "2021-06-22 09:51:49+02:00 -45.746560    0.006282     45.0  0.123603    8   \n",
              "2021-06-22 09:51:49+02:00 -46.170142    0.002737     44.0  0.066103    8   \n",
              "2021-06-22 09:51:50+02:00 -47.530865    0.007427     45.0  0.095582    8   \n",
              "\n",
              "                           ReceivedPackets  speed_kmh_destination   distance  \\\n",
              "timestamp                                                                      \n",
              "2021-06-22 09:51:48+02:00               17                22.9648  30.631466   \n",
              "2021-06-22 09:51:48+02:00               20                31.8544  30.631466   \n",
              "2021-06-22 09:51:49+02:00               20                33.1508  27.982724   \n",
              "2021-06-22 09:51:49+02:00               19                22.4092  27.982724   \n",
              "2021-06-22 09:51:50+02:00               17                32.5952  24.855905   \n",
              "\n",
              "                           Packet_transmission_rate_hz  Sub_channels  \\\n",
              "timestamp                                                              \n",
              "2021-06-22 09:51:48+02:00                           20             2   \n",
              "2021-06-22 09:51:48+02:00                           20             2   \n",
              "2021-06-22 09:51:49+02:00                           20             2   \n",
              "2021-06-22 09:51:49+02:00                           20             2   \n",
              "2021-06-22 09:51:50+02:00                           20             2   \n",
              "\n",
              "                           Packet_error_ratio  \n",
              "timestamp                                      \n",
              "2021-06-22 09:51:48+02:00                0.15  \n",
              "2021-06-22 09:51:48+02:00                0.00  \n",
              "2021-06-22 09:51:49+02:00                0.00  \n",
              "2021-06-22 09:51:49+02:00                0.05  \n",
              "2021-06-22 09:51:50+02:00                0.15  "
            ],
            "text/html": [
              "\n",
              "\n",
              "  <div id=\"df-830066a7-66e9-4993-8d42-8ae07f12b4fc\">\n",
              "    <div class=\"colab-df-container\">\n",
              "      <div>\n",
              "<style scoped>\n",
              "    .dataframe tbody tr th:only-of-type {\n",
              "        vertical-align: middle;\n",
              "    }\n",
              "\n",
              "    .dataframe tbody tr th {\n",
              "        vertical-align: top;\n",
              "    }\n",
              "\n",
              "    .dataframe thead th {\n",
              "        text-align: right;\n",
              "    }\n",
              "</style>\n",
              "<table border=\"1\" class=\"dataframe\">\n",
              "  <thead>\n",
              "    <tr style=\"text-align: right;\">\n",
              "      <th></th>\n",
              "      <th>Source</th>\n",
              "      <th>Destination</th>\n",
              "      <th>SNR</th>\n",
              "      <th>RSRP</th>\n",
              "      <th>RSSI</th>\n",
              "      <th>NOISEPOWER</th>\n",
              "      <th>RX_GAIN</th>\n",
              "      <th>Rx_power</th>\n",
              "      <th>MCS</th>\n",
              "      <th>ReceivedPackets</th>\n",
              "      <th>speed_kmh_destination</th>\n",
              "      <th>distance</th>\n",
              "      <th>Packet_transmission_rate_hz</th>\n",
              "      <th>Sub_channels</th>\n",
              "      <th>Packet_error_ratio</th>\n",
              "    </tr>\n",
              "    <tr>\n",
              "      <th>timestamp</th>\n",
              "      <th></th>\n",
              "      <th></th>\n",
              "      <th></th>\n",
              "      <th></th>\n",
              "      <th></th>\n",
              "      <th></th>\n",
              "      <th></th>\n",
              "      <th></th>\n",
              "      <th></th>\n",
              "      <th></th>\n",
              "      <th></th>\n",
              "      <th></th>\n",
              "      <th></th>\n",
              "      <th></th>\n",
              "      <th></th>\n",
              "    </tr>\n",
              "  </thead>\n",
              "  <tbody>\n",
              "    <tr>\n",
              "      <th>2021-06-22 09:51:48+02:00</th>\n",
              "      <td>2</td>\n",
              "      <td>4</td>\n",
              "      <td>14.144092</td>\n",
              "      <td>-71.160341</td>\n",
              "      <td>-41.737488</td>\n",
              "      <td>0.002013</td>\n",
              "      <td>44.0</td>\n",
              "      <td>0.053156</td>\n",
              "      <td>8</td>\n",
              "      <td>17</td>\n",
              "      <td>22.9648</td>\n",
              "      <td>30.631466</td>\n",
              "      <td>20</td>\n",
              "      <td>2</td>\n",
              "      <td>0.15</td>\n",
              "    </tr>\n",
              "    <tr>\n",
              "      <th>2021-06-22 09:51:48+02:00</th>\n",
              "      <td>4</td>\n",
              "      <td>2</td>\n",
              "      <td>15.227671</td>\n",
              "      <td>-68.752400</td>\n",
              "      <td>-46.970770</td>\n",
              "      <td>0.004633</td>\n",
              "      <td>45.0</td>\n",
              "      <td>0.098266</td>\n",
              "      <td>8</td>\n",
              "      <td>20</td>\n",
              "      <td>31.8544</td>\n",
              "      <td>30.631466</td>\n",
              "      <td>20</td>\n",
              "      <td>2</td>\n",
              "      <td>0.00</td>\n",
              "    </tr>\n",
              "    <tr>\n",
              "      <th>2021-06-22 09:51:49+02:00</th>\n",
              "      <td>4</td>\n",
              "      <td>2</td>\n",
              "      <td>15.273688</td>\n",
              "      <td>-67.572225</td>\n",
              "      <td>-45.746560</td>\n",
              "      <td>0.006282</td>\n",
              "      <td>45.0</td>\n",
              "      <td>0.123603</td>\n",
              "      <td>8</td>\n",
              "      <td>20</td>\n",
              "      <td>33.1508</td>\n",
              "      <td>27.982724</td>\n",
              "      <td>20</td>\n",
              "      <td>2</td>\n",
              "      <td>0.00</td>\n",
              "    </tr>\n",
              "    <tr>\n",
              "      <th>2021-06-22 09:51:49+02:00</th>\n",
              "      <td>2</td>\n",
              "      <td>4</td>\n",
              "      <td>14.295098</td>\n",
              "      <td>-70.777137</td>\n",
              "      <td>-46.170142</td>\n",
              "      <td>0.002737</td>\n",
              "      <td>44.0</td>\n",
              "      <td>0.066103</td>\n",
              "      <td>8</td>\n",
              "      <td>19</td>\n",
              "      <td>22.4092</td>\n",
              "      <td>27.982724</td>\n",
              "      <td>20</td>\n",
              "      <td>2</td>\n",
              "      <td>0.05</td>\n",
              "    </tr>\n",
              "    <tr>\n",
              "      <th>2021-06-22 09:51:50+02:00</th>\n",
              "      <td>4</td>\n",
              "      <td>2</td>\n",
              "      <td>15.494669</td>\n",
              "      <td>-69.356312</td>\n",
              "      <td>-47.530865</td>\n",
              "      <td>0.007427</td>\n",
              "      <td>45.0</td>\n",
              "      <td>0.095582</td>\n",
              "      <td>8</td>\n",
              "      <td>17</td>\n",
              "      <td>32.5952</td>\n",
              "      <td>24.855905</td>\n",
              "      <td>20</td>\n",
              "      <td>2</td>\n",
              "      <td>0.15</td>\n",
              "    </tr>\n",
              "  </tbody>\n",
              "</table>\n",
              "</div>\n",
              "      <button class=\"colab-df-convert\" onclick=\"convertToInteractive('df-830066a7-66e9-4993-8d42-8ae07f12b4fc')\"\n",
              "              title=\"Convert this dataframe to an interactive table.\"\n",
              "              style=\"display:none;\">\n",
              "\n",
              "  <svg xmlns=\"http://www.w3.org/2000/svg\" height=\"24px\"viewBox=\"0 0 24 24\"\n",
              "       width=\"24px\">\n",
              "    <path d=\"M0 0h24v24H0V0z\" fill=\"none\"/>\n",
              "    <path d=\"M18.56 5.44l.94 2.06.94-2.06 2.06-.94-2.06-.94-.94-2.06-.94 2.06-2.06.94zm-11 1L8.5 8.5l.94-2.06 2.06-.94-2.06-.94L8.5 2.5l-.94 2.06-2.06.94zm10 10l.94 2.06.94-2.06 2.06-.94-2.06-.94-.94-2.06-.94 2.06-2.06.94z\"/><path d=\"M17.41 7.96l-1.37-1.37c-.4-.4-.92-.59-1.43-.59-.52 0-1.04.2-1.43.59L10.3 9.45l-7.72 7.72c-.78.78-.78 2.05 0 2.83L4 21.41c.39.39.9.59 1.41.59.51 0 1.02-.2 1.41-.59l7.78-7.78 2.81-2.81c.8-.78.8-2.07 0-2.86zM5.41 20L4 18.59l7.72-7.72 1.47 1.35L5.41 20z\"/>\n",
              "  </svg>\n",
              "      </button>\n",
              "\n",
              "\n",
              "\n",
              "    <div id=\"df-a2f06bcb-bbf1-44b3-868b-5f38a58fb80e\">\n",
              "      <button class=\"colab-df-quickchart\" onclick=\"quickchart('df-a2f06bcb-bbf1-44b3-868b-5f38a58fb80e')\"\n",
              "              title=\"Suggest charts.\"\n",
              "              style=\"display:none;\">\n",
              "\n",
              "<svg xmlns=\"http://www.w3.org/2000/svg\" height=\"24px\"viewBox=\"0 0 24 24\"\n",
              "     width=\"24px\">\n",
              "    <g>\n",
              "        <path d=\"M19 3H5c-1.1 0-2 .9-2 2v14c0 1.1.9 2 2 2h14c1.1 0 2-.9 2-2V5c0-1.1-.9-2-2-2zM9 17H7v-7h2v7zm4 0h-2V7h2v10zm4 0h-2v-4h2v4z\"/>\n",
              "    </g>\n",
              "</svg>\n",
              "      </button>\n",
              "    </div>\n",
              "\n",
              "<style>\n",
              "  .colab-df-quickchart {\n",
              "    background-color: #E8F0FE;\n",
              "    border: none;\n",
              "    border-radius: 50%;\n",
              "    cursor: pointer;\n",
              "    display: none;\n",
              "    fill: #1967D2;\n",
              "    height: 32px;\n",
              "    padding: 0 0 0 0;\n",
              "    width: 32px;\n",
              "  }\n",
              "\n",
              "  .colab-df-quickchart:hover {\n",
              "    background-color: #E2EBFA;\n",
              "    box-shadow: 0px 1px 2px rgba(60, 64, 67, 0.3), 0px 1px 3px 1px rgba(60, 64, 67, 0.15);\n",
              "    fill: #174EA6;\n",
              "  }\n",
              "\n",
              "  [theme=dark] .colab-df-quickchart {\n",
              "    background-color: #3B4455;\n",
              "    fill: #D2E3FC;\n",
              "  }\n",
              "\n",
              "  [theme=dark] .colab-df-quickchart:hover {\n",
              "    background-color: #434B5C;\n",
              "    box-shadow: 0px 1px 3px 1px rgba(0, 0, 0, 0.15);\n",
              "    filter: drop-shadow(0px 1px 2px rgba(0, 0, 0, 0.3));\n",
              "    fill: #FFFFFF;\n",
              "  }\n",
              "</style>\n",
              "\n",
              "    <script>\n",
              "      async function quickchart(key) {\n",
              "        const containerElement = document.querySelector('#' + key);\n",
              "        const charts = await google.colab.kernel.invokeFunction(\n",
              "            'suggestCharts', [key], {});\n",
              "      }\n",
              "    </script>\n",
              "\n",
              "      <script>\n",
              "\n",
              "function displayQuickchartButton(domScope) {\n",
              "  let quickchartButtonEl =\n",
              "    domScope.querySelector('#df-a2f06bcb-bbf1-44b3-868b-5f38a58fb80e button.colab-df-quickchart');\n",
              "  quickchartButtonEl.style.display =\n",
              "    google.colab.kernel.accessAllowed ? 'block' : 'none';\n",
              "}\n",
              "\n",
              "        displayQuickchartButton(document);\n",
              "      </script>\n",
              "      <style>\n",
              "    .colab-df-container {\n",
              "      display:flex;\n",
              "      flex-wrap:wrap;\n",
              "      gap: 12px;\n",
              "    }\n",
              "\n",
              "    .colab-df-convert {\n",
              "      background-color: #E8F0FE;\n",
              "      border: none;\n",
              "      border-radius: 50%;\n",
              "      cursor: pointer;\n",
              "      display: none;\n",
              "      fill: #1967D2;\n",
              "      height: 32px;\n",
              "      padding: 0 0 0 0;\n",
              "      width: 32px;\n",
              "    }\n",
              "\n",
              "    .colab-df-convert:hover {\n",
              "      background-color: #E2EBFA;\n",
              "      box-shadow: 0px 1px 2px rgba(60, 64, 67, 0.3), 0px 1px 3px 1px rgba(60, 64, 67, 0.15);\n",
              "      fill: #174EA6;\n",
              "    }\n",
              "\n",
              "    [theme=dark] .colab-df-convert {\n",
              "      background-color: #3B4455;\n",
              "      fill: #D2E3FC;\n",
              "    }\n",
              "\n",
              "    [theme=dark] .colab-df-convert:hover {\n",
              "      background-color: #434B5C;\n",
              "      box-shadow: 0px 1px 3px 1px rgba(0, 0, 0, 0.15);\n",
              "      filter: drop-shadow(0px 1px 2px rgba(0, 0, 0, 0.3));\n",
              "      fill: #FFFFFF;\n",
              "    }\n",
              "  </style>\n",
              "\n",
              "      <script>\n",
              "        const buttonEl =\n",
              "          document.querySelector('#df-830066a7-66e9-4993-8d42-8ae07f12b4fc button.colab-df-convert');\n",
              "        buttonEl.style.display =\n",
              "          google.colab.kernel.accessAllowed ? 'block' : 'none';\n",
              "\n",
              "        async function convertToInteractive(key) {\n",
              "          const element = document.querySelector('#df-830066a7-66e9-4993-8d42-8ae07f12b4fc');\n",
              "          const dataTable =\n",
              "            await google.colab.kernel.invokeFunction('convertToInteractive',\n",
              "                                                     [key], {});\n",
              "          if (!dataTable) return;\n",
              "\n",
              "          const docLinkHtml = 'Like what you see? Visit the ' +\n",
              "            '<a target=\"_blank\" href=https://colab.research.google.com/notebooks/data_table.ipynb>data table notebook</a>'\n",
              "            + ' to learn more about interactive tables.';\n",
              "          element.innerHTML = '';\n",
              "          dataTable['output_type'] = 'display_data';\n",
              "          await google.colab.output.renderOutput(dataTable, element);\n",
              "          const docLink = document.createElement('div');\n",
              "          docLink.innerHTML = docLinkHtml;\n",
              "          element.appendChild(docLink);\n",
              "        }\n",
              "      </script>\n",
              "    </div>\n",
              "  </div>\n"
            ]
          },
          "metadata": {},
          "execution_count": 12
        }
      ]
    },
    {
      "cell_type": "code",
      "source": [
        "qos.shape"
      ],
      "metadata": {
        "id": "gd3tVCaZtEhm",
        "colab": {
          "base_uri": "https://localhost:8080/"
        },
        "outputId": "282872a5-0d19-48c8-a494-99a273fc8b4b"
      },
      "execution_count": 13,
      "outputs": [
        {
          "output_type": "execute_result",
          "data": {
            "text/plain": [
              "(325868, 15)"
            ]
          },
          "metadata": {},
          "execution_count": 13
        }
      ]
    },
    {
      "cell_type": "code",
      "source": [
        "X=qos.iloc[:,:]\n",
        "X=X.drop(['Packet_transmission_rate_hz'],axis=1)"
      ],
      "metadata": {
        "id": "wEPmttDdtEjo"
      },
      "execution_count": 14,
      "outputs": []
    },
    {
      "cell_type": "code",
      "source": [
        "y=qos['Packet_transmission_rate_hz']\n",
        "#y=y.values.reshape(-1,1)"
      ],
      "metadata": {
        "id": "8Ps95g6ktEl7"
      },
      "execution_count": 15,
      "outputs": []
    },
    {
      "cell_type": "code",
      "source": [
        "# split the dataset\n",
        "from sklearn.model_selection import train_test_split\n",
        "#y=y.values.reshape(-1,1)\n",
        "X_train, X_test, y_train, y_test = train_test_split(X, y, test_size=0.2, random_state=42)"
      ],
      "metadata": {
        "id": "aosc8LfKtEne"
      },
      "execution_count": 16,
      "outputs": []
    },
    {
      "cell_type": "code",
      "source": [
        "print('X_train : ')\n",
        "print(X_train.shape)\n",
        "print('')\n",
        "print('X_test : ')\n",
        "print(X_test.shape)\n",
        "print('')\n",
        "print('y_train : ')\n",
        "print(y_train.shape)\n",
        "print('')\n",
        "print('y_test : ')\n",
        "print(y_test.shape)"
      ],
      "metadata": {
        "id": "cLBO8oEMtEq6",
        "colab": {
          "base_uri": "https://localhost:8080/"
        },
        "outputId": "ed139cd6-c0d6-49e4-dc5a-0faad7615573"
      },
      "execution_count": 17,
      "outputs": [
        {
          "output_type": "stream",
          "name": "stdout",
          "text": [
            "X_train : \n",
            "(260694, 14)\n",
            "\n",
            "X_test : \n",
            "(65174, 14)\n",
            "\n",
            "y_train : \n",
            "(260694,)\n",
            "\n",
            "y_test : \n",
            "(65174,)\n"
          ]
        }
      ]
    },
    {
      "cell_type": "code",
      "source": [
        "#Decision Tree\n",
        "from sklearn.metrics import mean_squared_error\n",
        "\n",
        "from sklearn.tree import DecisionTreeRegressor\n",
        "# Create model\n",
        "dt_model = DecisionTreeRegressor(max_depth=3)\n",
        "\n",
        "# Fit the model to the training data\n",
        "dt_model.fit(X_train, y_train)\n",
        "\n",
        "# Make predictions on the test data\n",
        "y_pred = dt_model.predict(X_test)\n",
        "\n"
      ],
      "metadata": {
        "id": "mM19TKN6sB90"
      },
      "execution_count": null,
      "outputs": []
    },
    {
      "cell_type": "code",
      "source": [
        "\n",
        "mse = mean_squared_error(y_test, y_pred)\n",
        "\n",
        "print(f'Mean Squared Error: {mse:.4f}')\n"
      ],
      "metadata": {
        "id": "FUT7AvF9sCAg",
        "colab": {
          "base_uri": "https://localhost:8080/"
        },
        "outputId": "570f515d-758a-4cc6-83b8-915376ad0e9a"
      },
      "execution_count": null,
      "outputs": [
        {
          "output_type": "stream",
          "name": "stdout",
          "text": [
            "Mean Squared Error: 0.0000\n"
          ]
        }
      ]
    },
    {
      "cell_type": "code",
      "source": [
        "#LINEAR REGRESSOR"
      ],
      "metadata": {
        "id": "IdtatbZD1scn"
      },
      "execution_count": null,
      "outputs": []
    },
    {
      "cell_type": "code",
      "source": [
        "from sklearn.linear_model import LinearRegression\n",
        "# Create a Linear Regression model\n",
        "model = LinearRegression()\n",
        "\n",
        "# Fit the model to the training data\n",
        "model.fit(X_train, y_train)\n"
      ],
      "metadata": {
        "id": "qTP85g3isCCQ",
        "colab": {
          "base_uri": "https://localhost:8080/",
          "height": 75
        },
        "outputId": "f49bde59-cfdf-4257-a145-c813433af29f"
      },
      "execution_count": null,
      "outputs": [
        {
          "output_type": "execute_result",
          "data": {
            "text/plain": [
              "LinearRegression()"
            ],
            "text/html": [
              "<style>#sk-container-id-1 {color: black;background-color: white;}#sk-container-id-1 pre{padding: 0;}#sk-container-id-1 div.sk-toggleable {background-color: white;}#sk-container-id-1 label.sk-toggleable__label {cursor: pointer;display: block;width: 100%;margin-bottom: 0;padding: 0.3em;box-sizing: border-box;text-align: center;}#sk-container-id-1 label.sk-toggleable__label-arrow:before {content: \"▸\";float: left;margin-right: 0.25em;color: #696969;}#sk-container-id-1 label.sk-toggleable__label-arrow:hover:before {color: black;}#sk-container-id-1 div.sk-estimator:hover label.sk-toggleable__label-arrow:before {color: black;}#sk-container-id-1 div.sk-toggleable__content {max-height: 0;max-width: 0;overflow: hidden;text-align: left;background-color: #f0f8ff;}#sk-container-id-1 div.sk-toggleable__content pre {margin: 0.2em;color: black;border-radius: 0.25em;background-color: #f0f8ff;}#sk-container-id-1 input.sk-toggleable__control:checked~div.sk-toggleable__content {max-height: 200px;max-width: 100%;overflow: auto;}#sk-container-id-1 input.sk-toggleable__control:checked~label.sk-toggleable__label-arrow:before {content: \"▾\";}#sk-container-id-1 div.sk-estimator input.sk-toggleable__control:checked~label.sk-toggleable__label {background-color: #d4ebff;}#sk-container-id-1 div.sk-label input.sk-toggleable__control:checked~label.sk-toggleable__label {background-color: #d4ebff;}#sk-container-id-1 input.sk-hidden--visually {border: 0;clip: rect(1px 1px 1px 1px);clip: rect(1px, 1px, 1px, 1px);height: 1px;margin: -1px;overflow: hidden;padding: 0;position: absolute;width: 1px;}#sk-container-id-1 div.sk-estimator {font-family: monospace;background-color: #f0f8ff;border: 1px dotted black;border-radius: 0.25em;box-sizing: border-box;margin-bottom: 0.5em;}#sk-container-id-1 div.sk-estimator:hover {background-color: #d4ebff;}#sk-container-id-1 div.sk-parallel-item::after {content: \"\";width: 100%;border-bottom: 1px solid gray;flex-grow: 1;}#sk-container-id-1 div.sk-label:hover label.sk-toggleable__label {background-color: #d4ebff;}#sk-container-id-1 div.sk-serial::before {content: \"\";position: absolute;border-left: 1px solid gray;box-sizing: border-box;top: 0;bottom: 0;left: 50%;z-index: 0;}#sk-container-id-1 div.sk-serial {display: flex;flex-direction: column;align-items: center;background-color: white;padding-right: 0.2em;padding-left: 0.2em;position: relative;}#sk-container-id-1 div.sk-item {position: relative;z-index: 1;}#sk-container-id-1 div.sk-parallel {display: flex;align-items: stretch;justify-content: center;background-color: white;position: relative;}#sk-container-id-1 div.sk-item::before, #sk-container-id-1 div.sk-parallel-item::before {content: \"\";position: absolute;border-left: 1px solid gray;box-sizing: border-box;top: 0;bottom: 0;left: 50%;z-index: -1;}#sk-container-id-1 div.sk-parallel-item {display: flex;flex-direction: column;z-index: 1;position: relative;background-color: white;}#sk-container-id-1 div.sk-parallel-item:first-child::after {align-self: flex-end;width: 50%;}#sk-container-id-1 div.sk-parallel-item:last-child::after {align-self: flex-start;width: 50%;}#sk-container-id-1 div.sk-parallel-item:only-child::after {width: 0;}#sk-container-id-1 div.sk-dashed-wrapped {border: 1px dashed gray;margin: 0 0.4em 0.5em 0.4em;box-sizing: border-box;padding-bottom: 0.4em;background-color: white;}#sk-container-id-1 div.sk-label label {font-family: monospace;font-weight: bold;display: inline-block;line-height: 1.2em;}#sk-container-id-1 div.sk-label-container {text-align: center;}#sk-container-id-1 div.sk-container {/* jupyter's `normalize.less` sets `[hidden] { display: none; }` but bootstrap.min.css set `[hidden] { display: none !important; }` so we also need the `!important` here to be able to override the default hidden behavior on the sphinx rendered scikit-learn.org. See: https://github.com/scikit-learn/scikit-learn/issues/21755 */display: inline-block !important;position: relative;}#sk-container-id-1 div.sk-text-repr-fallback {display: none;}</style><div id=\"sk-container-id-1\" class=\"sk-top-container\"><div class=\"sk-text-repr-fallback\"><pre>LinearRegression()</pre><b>In a Jupyter environment, please rerun this cell to show the HTML representation or trust the notebook. <br />On GitHub, the HTML representation is unable to render, please try loading this page with nbviewer.org.</b></div><div class=\"sk-container\" hidden><div class=\"sk-item\"><div class=\"sk-estimator sk-toggleable\"><input class=\"sk-toggleable__control sk-hidden--visually\" id=\"sk-estimator-id-1\" type=\"checkbox\" checked><label for=\"sk-estimator-id-1\" class=\"sk-toggleable__label sk-toggleable__label-arrow\">LinearRegression</label><div class=\"sk-toggleable__content\"><pre>LinearRegression()</pre></div></div></div></div></div>"
            ]
          },
          "metadata": {},
          "execution_count": 25
        }
      ]
    },
    {
      "cell_type": "code",
      "source": [
        "\n",
        "# Make predictions on the test data\n",
        "predictions = model.predict(X_test)\n",
        "\n",
        "# Calculate Mean Squared Error\n",
        "mse = mean_squared_error(y_test, predictions)\n",
        "\n",
        "print(\"Coefficients:\", model.coef_)\n",
        "print(\"Intercept:\", model.intercept_)\n",
        "print(\"Mean Squared Error:\", mse)"
      ],
      "metadata": {
        "id": "2VhRpSoAsCFV",
        "colab": {
          "base_uri": "https://localhost:8080/"
        },
        "outputId": "023f7274-7033-4313-cc69-f0722b67b40c"
      },
      "execution_count": null,
      "outputs": [
        {
          "output_type": "stream",
          "name": "stdout",
          "text": [
            "Coefficients: [ 2.97985349e-15  1.22124533e-15  6.31439345e-16 -3.74179854e-15\n",
            "  4.23554421e-15  1.06757898e-14 -2.66106581e-15  4.25007252e-16\n",
            "  1.50000000e+00 -5.44703171e-16 -2.70616862e-16 -2.21177243e-16\n",
            "  3.00000000e+00 -1.07550145e-15]\n",
            "Intercept: 2.000000000000057\n",
            "Mean Squared Error: 3.3424172360200654e-28\n"
          ]
        }
      ]
    },
    {
      "cell_type": "code",
      "source": [
        "#KNN regressor"
      ],
      "metadata": {
        "id": "AlgD_fG9sCHe"
      },
      "execution_count": null,
      "outputs": []
    },
    {
      "cell_type": "code",
      "source": [
        "# Choose a range of k values\n",
        "'''k_values = range(1, 20, 2)  # Odd numbers from 1 to 19\n",
        "from sklearn.neighbors import KNeighborsRegressor\n",
        "\n",
        "# Find optimal k using cross-validation\n",
        "best_mse = float('inf')\n",
        "best_k = None\n",
        "\n",
        "for k in k_values:\n",
        "    kmodel = KNeighborsRegressor(n_neighbors=k)\n",
        "    kmodel.fit(X_train, y_train)\n",
        "    predictions = kmodel.predict(X_train)\n",
        "    mse = mean_squared_error(y_train, predictions)\n",
        "\n",
        "    if mse < best_mse:\n",
        "        best_mse = mse\n",
        "        best_k = k\n",
        "\n",
        "print(\"Optimal k:\", best_k)\n",
        "'''\n",
        "\n"
      ],
      "metadata": {
        "id": "M7yZIjzB6CEt"
      },
      "execution_count": null,
      "outputs": []
    },
    {
      "cell_type": "code",
      "source": [
        "from sklearn.neighbors import KNeighborsRegressor\n",
        "# Create a KNN Regressor model\n",
        "k = 5  # Number of neighbors\n",
        "knnmodel = KNeighborsRegressor(n_neighbors=k)\n",
        "\n",
        "# Fit the model to the training data\n",
        "knnmodel.fit(X_train, y_train)\n"
      ],
      "metadata": {
        "id": "hpfb8ivp2ch4",
        "colab": {
          "base_uri": "https://localhost:8080/",
          "height": 75
        },
        "outputId": "292f4815-428a-4bbc-8d39-3ef4ac1fe930"
      },
      "execution_count": null,
      "outputs": [
        {
          "output_type": "execute_result",
          "data": {
            "text/plain": [
              "KNeighborsRegressor()"
            ],
            "text/html": [
              "<style>#sk-container-id-2 {color: black;background-color: white;}#sk-container-id-2 pre{padding: 0;}#sk-container-id-2 div.sk-toggleable {background-color: white;}#sk-container-id-2 label.sk-toggleable__label {cursor: pointer;display: block;width: 100%;margin-bottom: 0;padding: 0.3em;box-sizing: border-box;text-align: center;}#sk-container-id-2 label.sk-toggleable__label-arrow:before {content: \"▸\";float: left;margin-right: 0.25em;color: #696969;}#sk-container-id-2 label.sk-toggleable__label-arrow:hover:before {color: black;}#sk-container-id-2 div.sk-estimator:hover label.sk-toggleable__label-arrow:before {color: black;}#sk-container-id-2 div.sk-toggleable__content {max-height: 0;max-width: 0;overflow: hidden;text-align: left;background-color: #f0f8ff;}#sk-container-id-2 div.sk-toggleable__content pre {margin: 0.2em;color: black;border-radius: 0.25em;background-color: #f0f8ff;}#sk-container-id-2 input.sk-toggleable__control:checked~div.sk-toggleable__content {max-height: 200px;max-width: 100%;overflow: auto;}#sk-container-id-2 input.sk-toggleable__control:checked~label.sk-toggleable__label-arrow:before {content: \"▾\";}#sk-container-id-2 div.sk-estimator input.sk-toggleable__control:checked~label.sk-toggleable__label {background-color: #d4ebff;}#sk-container-id-2 div.sk-label input.sk-toggleable__control:checked~label.sk-toggleable__label {background-color: #d4ebff;}#sk-container-id-2 input.sk-hidden--visually {border: 0;clip: rect(1px 1px 1px 1px);clip: rect(1px, 1px, 1px, 1px);height: 1px;margin: -1px;overflow: hidden;padding: 0;position: absolute;width: 1px;}#sk-container-id-2 div.sk-estimator {font-family: monospace;background-color: #f0f8ff;border: 1px dotted black;border-radius: 0.25em;box-sizing: border-box;margin-bottom: 0.5em;}#sk-container-id-2 div.sk-estimator:hover {background-color: #d4ebff;}#sk-container-id-2 div.sk-parallel-item::after {content: \"\";width: 100%;border-bottom: 1px solid gray;flex-grow: 1;}#sk-container-id-2 div.sk-label:hover label.sk-toggleable__label {background-color: #d4ebff;}#sk-container-id-2 div.sk-serial::before {content: \"\";position: absolute;border-left: 1px solid gray;box-sizing: border-box;top: 0;bottom: 0;left: 50%;z-index: 0;}#sk-container-id-2 div.sk-serial {display: flex;flex-direction: column;align-items: center;background-color: white;padding-right: 0.2em;padding-left: 0.2em;position: relative;}#sk-container-id-2 div.sk-item {position: relative;z-index: 1;}#sk-container-id-2 div.sk-parallel {display: flex;align-items: stretch;justify-content: center;background-color: white;position: relative;}#sk-container-id-2 div.sk-item::before, #sk-container-id-2 div.sk-parallel-item::before {content: \"\";position: absolute;border-left: 1px solid gray;box-sizing: border-box;top: 0;bottom: 0;left: 50%;z-index: -1;}#sk-container-id-2 div.sk-parallel-item {display: flex;flex-direction: column;z-index: 1;position: relative;background-color: white;}#sk-container-id-2 div.sk-parallel-item:first-child::after {align-self: flex-end;width: 50%;}#sk-container-id-2 div.sk-parallel-item:last-child::after {align-self: flex-start;width: 50%;}#sk-container-id-2 div.sk-parallel-item:only-child::after {width: 0;}#sk-container-id-2 div.sk-dashed-wrapped {border: 1px dashed gray;margin: 0 0.4em 0.5em 0.4em;box-sizing: border-box;padding-bottom: 0.4em;background-color: white;}#sk-container-id-2 div.sk-label label {font-family: monospace;font-weight: bold;display: inline-block;line-height: 1.2em;}#sk-container-id-2 div.sk-label-container {text-align: center;}#sk-container-id-2 div.sk-container {/* jupyter's `normalize.less` sets `[hidden] { display: none; }` but bootstrap.min.css set `[hidden] { display: none !important; }` so we also need the `!important` here to be able to override the default hidden behavior on the sphinx rendered scikit-learn.org. See: https://github.com/scikit-learn/scikit-learn/issues/21755 */display: inline-block !important;position: relative;}#sk-container-id-2 div.sk-text-repr-fallback {display: none;}</style><div id=\"sk-container-id-2\" class=\"sk-top-container\"><div class=\"sk-text-repr-fallback\"><pre>KNeighborsRegressor()</pre><b>In a Jupyter environment, please rerun this cell to show the HTML representation or trust the notebook. <br />On GitHub, the HTML representation is unable to render, please try loading this page with nbviewer.org.</b></div><div class=\"sk-container\" hidden><div class=\"sk-item\"><div class=\"sk-estimator sk-toggleable\"><input class=\"sk-toggleable__control sk-hidden--visually\" id=\"sk-estimator-id-2\" type=\"checkbox\" checked><label for=\"sk-estimator-id-2\" class=\"sk-toggleable__label sk-toggleable__label-arrow\">KNeighborsRegressor</label><div class=\"sk-toggleable__content\"><pre>KNeighborsRegressor()</pre></div></div></div></div></div>"
            ]
          },
          "metadata": {},
          "execution_count": 29
        }
      ]
    },
    {
      "cell_type": "code",
      "source": [
        "# Make predictions on the test data\n",
        "predictions = knnmodel.predict(X_test)\n",
        "\n",
        "# Calculate Mean Squared Error\n",
        "mse = mean_squared_error(y_test, predictions)\n",
        "\n",
        "print(\"Mean Squared Error:\", mse)"
      ],
      "metadata": {
        "colab": {
          "base_uri": "https://localhost:8080/"
        },
        "id": "xoA27WIg8t6H",
        "outputId": "abbaa721-a751-46dc-9b40-7e3c445b74b3"
      },
      "execution_count": null,
      "outputs": [
        {
          "output_type": "stream",
          "name": "stdout",
          "text": [
            "Mean Squared Error: 0.12317795439899347\n"
          ]
        }
      ]
    },
    {
      "cell_type": "code",
      "source": [
        "'''from sklearn.svm import SVR\n",
        "\n",
        "# Create an SVR model\n",
        "svrmodel = SVR(kernel='linear')  # You can use different kernels like 'linear', 'poly', 'rbf', etc.\n",
        "\n",
        "# Fit the model to the training data\n",
        "svrmodel.fit(X_train, y_train)\n",
        "\n",
        "# Make predictions on the test data\n",
        "predictions = svrmodel.predict(X_test)\n",
        "\n",
        "# Calculate Mean Squared Error\n",
        "mse = mean_squared_error(y_test, predictions)\n",
        "\n",
        "print(\"Mean Squared Error:\", mse)'''"
      ],
      "metadata": {
        "id": "MefwSxGS80ft"
      },
      "execution_count": null,
      "outputs": []
    },
    {
      "cell_type": "code",
      "source": [
        "from sklearn.preprocessing import StandardScaler\n",
        "\n",
        "yt_train=y_train.values.reshape(-1,1)\n",
        "yt_test=y_test.values.reshape(-1,1)\n",
        "# Feature scaling\n",
        "scaler = StandardScaler()\n",
        "X_train_scaled = scaler.fit_transform(X_train)\n",
        "X_test_scaled = scaler.transform(X_test)\n",
        "y_train_scaled = scaler.fit_transform(yt_train)\n",
        "y_test_scaled = scaler.transform(yt_test)"
      ],
      "metadata": {
        "id": "m7kTqmNI1zX3"
      },
      "execution_count": 18,
      "outputs": []
    },
    {
      "cell_type": "code",
      "source": [
        "from sklearn.svm import SVR\n",
        "# SVR model\n",
        "svr = SVR(kernel='linear', C=1.0, gamma=0.1)\n",
        "svr.fit(X_train_scaled, y_train)\n"
      ],
      "metadata": {
        "id": "udtod7ER80iU"
      },
      "execution_count": null,
      "outputs": []
    },
    {
      "cell_type": "code",
      "source": [
        "\n",
        "# Predicting\n",
        "y_pred = svr.predict(X)"
      ],
      "metadata": {
        "id": "SasgyJGd80lU"
      },
      "execution_count": null,
      "outputs": []
    }
  ]
}